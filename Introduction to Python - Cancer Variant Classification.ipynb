{
 "cells": [
  {
   "cell_type": "markdown",
   "metadata": {},
   "source": [
    "#Why should I bother learning python?"
   ]
  },
  {
   "cell_type": "markdown",
   "metadata": {},
   "source": [
    "<img src=\"images/cartoon.jpeg\">"
   ]
  },
  {
   "cell_type": "markdown",
   "metadata": {},
   "source": [
    "###Most coding languages have advantages for specific use cases... LOLCODE does not.\n",
    "<img src=\"images/lolcode.png\" width=\"50%\" height=\"50%\">\n",
    "<img src=\"images/lolcode_example.png\" width=\"50%\" height=\"50%\">\n",
    "###This lecture will be addressing the advantages of python for bioinformatics data analysis coding environments."
   ]
  },
  {
   "cell_type": "markdown",
   "metadata": {},
   "source": [
    "###Fast Development\n",
    "* script language\n",
    "* dynamic typing\n",
    "* built in high level data types\n",
    "* huge standard library\n",
    "<img src=\"images/java.png\" width=\"50%\" height=\"50%\"><img src=\"images/python.png\" width=\"50%\" height=\"50%\">\n",
    "\n",
    "###Very little overhead\n",
    "* no compile setup - write your code in my_program.py and run it with python my_program.py\n",
    "* no memory management\n",
    "\n",
    "###Community support\n",
    "* huge bioinformatics toolset of libraries built in python\n",
    "* most of your questions will already be anwered on stack overflow\n",
    "* most of your colleagues will code in python, so sharing code will be simplier \n",
    "* integrates well with other languages\n",
    "\n",
    "<img src=\"images/community.png\">\n",
    "\n",
    "###Readability\n",
    "* easy to intepret what you are doing based on code\n",
    "\n",
    "###Drawbacks\n",
    "* programs can run slower\n",
    "* less flexibility\n"
   ]
  },
  {
   "cell_type": "markdown",
   "metadata": {},
   "source": [
    "#\"I would love to be able to interact with this code as Rachel talks... How can I do that?\""
   ]
  },
  {
   "cell_type": "markdown",
   "metadata": {},
   "source": [
    "You're in luck! iPython (which stands for \"interactive Python\") has a notebook format which is easy to open and edit.\n",
    "\n",
    "###To Open:\n",
    "If you have downloaded the Anaconda distribution, you should already have ipython notebooks at your commandline.\n",
    "\n",
    "To check if you are using the Anaconda distribution, type the following at the command line:\n",
    "```\n",
    "$ which python\n",
    "```\n",
    "\n",
    "The response should be something like the following:\n",
    "```\n",
    "/Applications/anaconda/bin/python\n",
    "```\n",
    "\n",
    "Clone into my github repository:\n",
    "```\n",
    "git clone https://github.com/Rachelmarty20/bootcamp.git\n",
    "```\n",
    "\n",
    "Move into the direcory:\n",
    "```\n",
    "cd bootcamp\n",
    "```\n",
    "\n",
    "Next, open an ipython notebook:\n",
    "```\n",
    "$ ipython notebook\n",
    "```\n",
    "<img src=\"images/ipy_notebook_start.png\">\n",
    "\n",
    "Select the \"Introduction to Python - Cancer Variant Classification\" notebook.\n",
    "\n",
    "###To Edit:\n",
    "\n",
    "Double click on any cell.\n",
    "\n",
    "### To Run:\n",
    "\n",
    "Select Cell -> Run from menu or click triangle or learn <a href=\"http://johnlaudun.org/20131228-ipython-notebook-keyboard-shortcuts/\">shortcuts</a>."
   ]
  },
  {
   "cell_type": "markdown",
   "metadata": {},
   "source": [
    "#Cancer Variant Classification\n",
    "\n",
    "Cancer is caused by variations in the genome. However, patients have thousands of germline variants and hundreds of somatic mutations. \n",
    "\n",
    "###Can we predict which somatic mutations \"drive\" cancer and which are just \"passengers\"?\n",
    "\n",
    "We will be working with The Cancer Genome Atlast (TCGA), which is a large cancer data set used in lots of cancer research. \n",
    "\n",
    "<img src=\"images/tcga.jpg\">"
   ]
  },
  {
   "cell_type": "markdown",
   "metadata": {},
   "source": [
    "##Let's start by getting the mutation calls\n",
    "\n",
    "These are stored in Mutation Annotation Format (MAF). Shout out to <a href=\"https://github.com/theandygross/TCGA\">Andy Gross</a> for some of this code."
   ]
  },
  {
   "cell_type": "markdown",
   "metadata": {},
   "source": [
    "###Warning:\n",
    "Here I download updated clinical data from the TCGA Data Portal. This is a secure site which uses HTTPS. I had to give it a path to my ca-cert for the download to work. Download a copy of a generic cacert.pem [here](http://curl.haxx.se/ca/cacert.pem)."
   ]
  },
  {
   "cell_type": "code",
   "execution_count": 1,
   "metadata": {
    "collapsed": true
   },
   "outputs": [],
   "source": [
    "PATH_TO_CACERT = 'cacert.pem'"
   ]
  },
  {
   "cell_type": "markdown",
   "metadata": {},
   "source": [
    "####os - a standard library that fascilitates communication with the operating system"
   ]
  },
  {
   "cell_type": "code",
   "execution_count": 2,
   "metadata": {
    "collapsed": false
   },
   "outputs": [],
   "source": [
    "import os\n",
    "out_path = 'mafs'\n",
    "if not os.path.isdir(out_path):\n",
    "    os.makedirs(out_path)"
   ]
  },
  {
   "cell_type": "code",
   "execution_count": 3,
   "metadata": {
    "collapsed": true
   },
   "outputs": [],
   "source": [
    "maf_dashboard = 'https://confluence.broadinstitute.org/display/GDAC/MAF+Dashboard'"
   ]
  },
  {
   "cell_type": "markdown",
   "metadata": {},
   "source": [
    "####'!' allows you to write bash directly to the command line;  python variables can be used with the '$' symbol"
   ]
  },
  {
   "cell_type": "code",
   "execution_count": 4,
   "metadata": {
    "collapsed": false,
    "scrolled": true
   },
   "outputs": [
    {
     "name": "stdout",
     "output_type": "stream",
     "text": [
      "  % Total    % Received % Xferd  Average Speed   Time    Time     Time  Current\n",
      "                                 Dload  Upload   Total   Spent    Left  Speed\n",
      "100  190k    0  190k    0     0  33145      0 --:--:--  0:00:05 --:--:-- 42022\n"
     ]
    }
   ],
   "source": [
    "! curl --cacert {PATH_TO_CACERT} {maf_dashboard} -o mafs/tmp.html"
   ]
  },
  {
   "cell_type": "markdown",
   "metadata": {},
   "source": [
    "####bs4 (BeautifulSoup) - a library for parsing HTML and XML files"
   ]
  },
  {
   "cell_type": "code",
   "execution_count": 5,
   "metadata": {
    "collapsed": false
   },
   "outputs": [],
   "source": [
    "from bs4 import BeautifulSoup\n",
    "f = open('mafs/tmp.html', 'rb').read()\n",
    "soup = BeautifulSoup(f)"
   ]
  },
  {
   "cell_type": "code",
   "execution_count": 6,
   "metadata": {
    "collapsed": true
   },
   "outputs": [],
   "source": [
    "r = [l.get('href') for l in soup.find_all('a')\n",
    "   if l.get('href') != None\n",
    "   and '.maf' in l.get('href')]"
   ]
  },
  {
   "cell_type": "markdown",
   "metadata": {},
   "source": [
    "####Note: we are only using one of the maf files for the sake of this lecture because it takes a while to download all of them"
   ]
  },
  {
   "cell_type": "code",
   "execution_count": 138,
   "metadata": {
    "collapsed": false
   },
   "outputs": [
    {
     "name": "stdout",
     "output_type": "stream",
     "text": [
      "https://tcga-data.nci.nih.gov/tcgafiles/ftp_auth/distro_ftpusers/anonymous/tumor/acc/gsc/broad.mit.edu/illuminaga_dnaseq_curated/mutations/broad.mit.edu_ACC.IlluminaGA_DNASeq_curated.Level_2.1.0.0/An_TCGA_ACC_External_capture_All_Pairs.aggregated.capture.tcga.uuid.curated.somatic.maf\n"
     ]
    }
   ],
   "source": [
    "a_maf_file = r[0]\n",
    "print a_maf_file"
   ]
  },
  {
   "cell_type": "code",
   "execution_count": 139,
   "metadata": {
    "collapsed": false,
    "scrolled": true
   },
   "outputs": [
    {
     "name": "stdout",
     "output_type": "stream",
     "text": [
      "  % Total    % Received % Xferd  Average Speed   Time    Time     Time  Current\n",
      "                                 Dload  Upload   Total   Spent    Left  Speed\n",
      "100 12.0M  100 12.0M    0     0  1558k      0  0:00:07  0:00:07 --:--:-- 1714k\n"
     ]
    }
   ],
   "source": [
    "! curl $a_maf_file > mafs/a_maf_file.tsv"
   ]
  },
  {
   "cell_type": "markdown",
   "metadata": {},
   "source": [
    "##Detour:\n",
    "###pandas - library for high performance data structures and data analysis \n",
    "\n",
    "<img src=\"images/pandas_real.jpg\">\n",
    "\n",
    "\n",
    "(will likely become your best friend - bite the bullet and learn how to use it as soon as possible)\n",
    "\n",
    "###Some things to know about pandas before we dive in:\n",
    "\n",
    "* It is built on top of numpy (numerical python), which allows you to do some fancy things with numbers and sequences"
   ]
  },
  {
   "cell_type": "code",
   "execution_count": 140,
   "metadata": {
    "collapsed": false
   },
   "outputs": [
    {
     "name": "stdout",
     "output_type": "stream",
     "text": [
      "x: [2 7 5]\n"
     ]
    }
   ],
   "source": [
    "import numpy as np\n",
    "# a one dimensional array\n",
    "x = np.array([2, 7, 5])\n",
    "print 'x:', x"
   ]
  },
  {
   "cell_type": "code",
   "execution_count": 141,
   "metadata": {
    "collapsed": false
   },
   "outputs": [
    {
     "name": "stdout",
     "output_type": "stream",
     "text": [
      "y: [ 4  7 10]\n"
     ]
    }
   ],
   "source": [
    "# a sequence starting from 4 to 12 with a step size of 3\n",
    "y = np.arange(4, 12, 3)\n",
    "print 'y:', y"
   ]
  },
  {
   "cell_type": "code",
   "execution_count": 142,
   "metadata": {
    "collapsed": false
   },
   "outputs": [
    {
     "name": "stdout",
     "output_type": "stream",
     "text": [
      "x + y: [ 6 14 15]\n",
      "x / y: [0 1 0]\n",
      "x ^ y: [     16  823543 9765625]\n"
     ]
    }
   ],
   "source": [
    "# element-wise operations on arrays\n",
    "print 'x + y:', x + y\n",
    "print 'x / y:', x / y\n",
    "print 'x ^ y:', x ** y "
   ]
  },
  {
   "cell_type": "markdown",
   "metadata": {},
   "source": [
    "* it also integrates well with scipy (scientific python), which will be your best resource for any complex statistics\n",
    "* let's also just introduce matplotlib while we are at it - pyplot is one of the most popular plotting tools in python"
   ]
  },
  {
   "cell_type": "code",
   "execution_count": 143,
   "metadata": {
    "collapsed": false
   },
   "outputs": [
    {
     "data": {
      "text/plain": [
       "[<matplotlib.lines.Line2D at 0x1205acd50>]"
      ]
     },
     "execution_count": 143,
     "metadata": {},
     "output_type": "execute_result"
    },
    {
     "data": {
      "image/png": "[encoded data removed]",
      "text/plain": [
       "<matplotlib.figure.Figure at 0x12058aa90>"
      ]
     },
     "metadata": {},
     "output_type": "display_data"
    }
   ],
   "source": [
    "from scipy.stats import norm\n",
    "import matplotlib.pyplot as plt\n",
    "fig, ax = plt.subplots(1, 1)\n",
    "x = np.linspace(norm.ppf(0.01), norm.ppf(0.99), 100)\n",
    "ax.plot(x, norm.pdf(x), 'r-', lw=5, alpha=0.6, label='norm pdf')"
   ]
  },
  {
   "cell_type": "markdown",
   "metadata": {},
   "source": [
    "##Now back to our cancer variants. Let's use pandas to get them into a dataframe."
   ]
  },
  {
   "cell_type": "code",
   "execution_count": 144,
   "metadata": {
    "collapsed": false
   },
   "outputs": [
    {
     "data": {
      "text/html": [
       "<div style=\"max-height:1000px;max-width:1500px;overflow:auto;\">\n",
       "<table border=\"1\" class=\"dataframe\">\n",
       "  <thead>\n",
       "    <tr style=\"text-align: right;\">\n",
       "      <th></th>\n",
       "      <th>Hugo_Symbol</th>\n",
       "      <th>Entrez_Gene_Id</th>\n",
       "      <th>Center</th>\n",
       "      <th>NCBI_Build</th>\n",
       "      <th>Chromosome</th>\n",
       "      <th>Start_position</th>\n",
       "      <th>End_position</th>\n",
       "      <th>Strand</th>\n",
       "      <th>Variant_Classification</th>\n",
       "      <th>Variant_Type</th>\n",
       "      <th>...</th>\n",
       "      <th>t_ref_count</th>\n",
       "      <th>validation_alt_allele</th>\n",
       "      <th>validation_method</th>\n",
       "      <th>validation_status</th>\n",
       "      <th>validation_tumor_sample</th>\n",
       "      <th>pox</th>\n",
       "      <th>qox</th>\n",
       "      <th>pox_cutoff</th>\n",
       "      <th>isArtifactMode</th>\n",
       "      <th>oxoGCut</th>\n",
       "    </tr>\n",
       "  </thead>\n",
       "  <tbody>\n",
       "    <tr>\n",
       "      <th>0</th>\n",
       "      <td>    KLHL3</td>\n",
       "      <td> 26249</td>\n",
       "      <td> broad.mit.edu</td>\n",
       "      <td> 37</td>\n",
       "      <td>  5</td>\n",
       "      <td> 136973018</td>\n",
       "      <td> 136973018</td>\n",
       "      <td> +</td>\n",
       "      <td> Missense_Mutation</td>\n",
       "      <td> SNP</td>\n",
       "      <td>...</td>\n",
       "      <td> 74</td>\n",
       "      <td> NaN</td>\n",
       "      <td> NaN</td>\n",
       "      <td> NaN</td>\n",
       "      <td> NaN</td>\n",
       "      <td> 0</td>\n",
       "      <td> 0</td>\n",
       "      <td> 1</td>\n",
       "      <td> 0</td>\n",
       "      <td> 0</td>\n",
       "    </tr>\n",
       "    <tr>\n",
       "      <th>1</th>\n",
       "      <td>   KLHDC4</td>\n",
       "      <td> 54758</td>\n",
       "      <td> broad.mit.edu</td>\n",
       "      <td> 37</td>\n",
       "      <td> 16</td>\n",
       "      <td>  87742934</td>\n",
       "      <td>  87742934</td>\n",
       "      <td> +</td>\n",
       "      <td> Missense_Mutation</td>\n",
       "      <td> SNP</td>\n",
       "      <td>...</td>\n",
       "      <td> 95</td>\n",
       "      <td> NaN</td>\n",
       "      <td> NaN</td>\n",
       "      <td> NaN</td>\n",
       "      <td> NaN</td>\n",
       "      <td> 0</td>\n",
       "      <td> 0</td>\n",
       "      <td> 1</td>\n",
       "      <td> 0</td>\n",
       "      <td> 0</td>\n",
       "    </tr>\n",
       "    <tr>\n",
       "      <th>2</th>\n",
       "      <td> HIST1H3B</td>\n",
       "      <td>  8358</td>\n",
       "      <td> broad.mit.edu</td>\n",
       "      <td> 37</td>\n",
       "      <td>  6</td>\n",
       "      <td>  26031919</td>\n",
       "      <td>  26031919</td>\n",
       "      <td> +</td>\n",
       "      <td> Missense_Mutation</td>\n",
       "      <td> SNP</td>\n",
       "      <td>...</td>\n",
       "      <td> 61</td>\n",
       "      <td> NaN</td>\n",
       "      <td> NaN</td>\n",
       "      <td> NaN</td>\n",
       "      <td> NaN</td>\n",
       "      <td> 0</td>\n",
       "      <td> 0</td>\n",
       "      <td> 1</td>\n",
       "      <td> 0</td>\n",
       "      <td> 0</td>\n",
       "    </tr>\n",
       "    <tr>\n",
       "      <th>3</th>\n",
       "      <td>   GABRA1</td>\n",
       "      <td>  2554</td>\n",
       "      <td> broad.mit.edu</td>\n",
       "      <td> 37</td>\n",
       "      <td>  5</td>\n",
       "      <td> 161300197</td>\n",
       "      <td> 161300197</td>\n",
       "      <td> +</td>\n",
       "      <td>            Silent</td>\n",
       "      <td> SNP</td>\n",
       "      <td>...</td>\n",
       "      <td> 49</td>\n",
       "      <td> NaN</td>\n",
       "      <td> NaN</td>\n",
       "      <td> NaN</td>\n",
       "      <td> NaN</td>\n",
       "      <td> 0</td>\n",
       "      <td> 0</td>\n",
       "      <td> 1</td>\n",
       "      <td> 0</td>\n",
       "      <td> 0</td>\n",
       "    </tr>\n",
       "    <tr>\n",
       "      <th>4</th>\n",
       "      <td>   SCARF1</td>\n",
       "      <td>  8578</td>\n",
       "      <td> broad.mit.edu</td>\n",
       "      <td> 37</td>\n",
       "      <td> 17</td>\n",
       "      <td>   1543262</td>\n",
       "      <td>   1543262</td>\n",
       "      <td> +</td>\n",
       "      <td>            Silent</td>\n",
       "      <td> SNP</td>\n",
       "      <td>...</td>\n",
       "      <td> 88</td>\n",
       "      <td> NaN</td>\n",
       "      <td> NaN</td>\n",
       "      <td> NaN</td>\n",
       "      <td> NaN</td>\n",
       "      <td> 0</td>\n",
       "      <td> 0</td>\n",
       "      <td> 1</td>\n",
       "      <td> 0</td>\n",
       "      <td> 0</td>\n",
       "    </tr>\n",
       "  </tbody>\n",
       "</table>\n",
       "<p>5 rows × 90 columns</p>\n",
       "</div>"
      ],
      "text/plain": [
       "  Hugo_Symbol  Entrez_Gene_Id         Center  NCBI_Build Chromosome  \\\n",
       "0       KLHL3           26249  broad.mit.edu          37          5   \n",
       "1      KLHDC4           54758  broad.mit.edu          37         16   \n",
       "2    HIST1H3B            8358  broad.mit.edu          37          6   \n",
       "3      GABRA1            2554  broad.mit.edu          37          5   \n",
       "4      SCARF1            8578  broad.mit.edu          37         17   \n",
       "\n",
       "   Start_position  End_position Strand Variant_Classification Variant_Type  \\\n",
       "0       136973018     136973018      +      Missense_Mutation          SNP   \n",
       "1        87742934      87742934      +      Missense_Mutation          SNP   \n",
       "2        26031919      26031919      +      Missense_Mutation          SNP   \n",
       "3       161300197     161300197      +                 Silent          SNP   \n",
       "4         1543262       1543262      +                 Silent          SNP   \n",
       "\n",
       "      ...      t_ref_count validation_alt_allele validation_method  \\\n",
       "0     ...               74                   NaN               NaN   \n",
       "1     ...               95                   NaN               NaN   \n",
       "2     ...               61                   NaN               NaN   \n",
       "3     ...               49                   NaN               NaN   \n",
       "4     ...               88                   NaN               NaN   \n",
       "\n",
       "  validation_status validation_tumor_sample pox qox  pox_cutoff  \\\n",
       "0               NaN                     NaN   0   0           1   \n",
       "1               NaN                     NaN   0   0           1   \n",
       "2               NaN                     NaN   0   0           1   \n",
       "3               NaN                     NaN   0   0           1   \n",
       "4               NaN                     NaN   0   0           1   \n",
       "\n",
       "   isArtifactMode  oxoGCut  \n",
       "0               0        0  \n",
       "1               0        0  \n",
       "2               0        0  \n",
       "3               0        0  \n",
       "4               0        0  \n",
       "\n",
       "[5 rows x 90 columns]"
      ]
     },
     "execution_count": 144,
     "metadata": {},
     "output_type": "execute_result"
    }
   ],
   "source": [
    "import pandas as pd\n",
    "maf_df = pd.read_csv('mafs/a_maf_file.tsv', sep='\\t', header=0, skiprows= 4, comment='#')\n",
    "maf_df.head()"
   ]
  },
  {
   "cell_type": "markdown",
   "metadata": {},
   "source": [
    "####Now we have all of our somatic mutations.\n",
    "\n",
    "(If you haven't figured out the cacert.pem thing, here's an alternative so we can all stay together during the lecture. I am going to output the dataframe to a file and include the file in your folder.)"
   ]
  },
  {
   "cell_type": "code",
   "execution_count": 145,
   "metadata": {
    "collapsed": true
   },
   "outputs": [],
   "source": [
    "maf_df.to_csv('mafs/another_maf_file.tsv', sep='\\t', index=False)"
   ]
  },
  {
   "cell_type": "markdown",
   "metadata": {},
   "source": [
    "####Importing directly from a given file in the folder to get the same dataframe"
   ]
  },
  {
   "cell_type": "code",
   "execution_count": 146,
   "metadata": {
    "collapsed": false,
    "scrolled": false
   },
   "outputs": [
    {
     "data": {
      "text/html": [
       "<div style=\"max-height:1000px;max-width:1500px;overflow:auto;\">\n",
       "<table border=\"1\" class=\"dataframe\">\n",
       "  <thead>\n",
       "    <tr style=\"text-align: right;\">\n",
       "      <th></th>\n",
       "      <th>Hugo_Symbol</th>\n",
       "      <th>Entrez_Gene_Id</th>\n",
       "      <th>Center</th>\n",
       "      <th>NCBI_Build</th>\n",
       "      <th>Chromosome</th>\n",
       "      <th>Start_position</th>\n",
       "      <th>End_position</th>\n",
       "      <th>Strand</th>\n",
       "      <th>Variant_Classification</th>\n",
       "      <th>Variant_Type</th>\n",
       "      <th>...</th>\n",
       "      <th>t_ref_count</th>\n",
       "      <th>validation_alt_allele</th>\n",
       "      <th>validation_method</th>\n",
       "      <th>validation_status</th>\n",
       "      <th>validation_tumor_sample</th>\n",
       "      <th>pox</th>\n",
       "      <th>qox</th>\n",
       "      <th>pox_cutoff</th>\n",
       "      <th>isArtifactMode</th>\n",
       "      <th>oxoGCut</th>\n",
       "    </tr>\n",
       "  </thead>\n",
       "  <tbody>\n",
       "    <tr>\n",
       "      <th>0</th>\n",
       "      <td>    KLHL3</td>\n",
       "      <td> 26249</td>\n",
       "      <td> broad.mit.edu</td>\n",
       "      <td> 37</td>\n",
       "      <td>  5</td>\n",
       "      <td> 136973018</td>\n",
       "      <td> 136973018</td>\n",
       "      <td> +</td>\n",
       "      <td> Missense_Mutation</td>\n",
       "      <td> SNP</td>\n",
       "      <td>...</td>\n",
       "      <td> 74</td>\n",
       "      <td> NaN</td>\n",
       "      <td> NaN</td>\n",
       "      <td> NaN</td>\n",
       "      <td> NaN</td>\n",
       "      <td> 0</td>\n",
       "      <td> 0</td>\n",
       "      <td> 1</td>\n",
       "      <td> 0</td>\n",
       "      <td> 0</td>\n",
       "    </tr>\n",
       "    <tr>\n",
       "      <th>1</th>\n",
       "      <td>   KLHDC4</td>\n",
       "      <td> 54758</td>\n",
       "      <td> broad.mit.edu</td>\n",
       "      <td> 37</td>\n",
       "      <td> 16</td>\n",
       "      <td>  87742934</td>\n",
       "      <td>  87742934</td>\n",
       "      <td> +</td>\n",
       "      <td> Missense_Mutation</td>\n",
       "      <td> SNP</td>\n",
       "      <td>...</td>\n",
       "      <td> 95</td>\n",
       "      <td> NaN</td>\n",
       "      <td> NaN</td>\n",
       "      <td> NaN</td>\n",
       "      <td> NaN</td>\n",
       "      <td> 0</td>\n",
       "      <td> 0</td>\n",
       "      <td> 1</td>\n",
       "      <td> 0</td>\n",
       "      <td> 0</td>\n",
       "    </tr>\n",
       "    <tr>\n",
       "      <th>2</th>\n",
       "      <td> HIST1H3B</td>\n",
       "      <td>  8358</td>\n",
       "      <td> broad.mit.edu</td>\n",
       "      <td> 37</td>\n",
       "      <td>  6</td>\n",
       "      <td>  26031919</td>\n",
       "      <td>  26031919</td>\n",
       "      <td> +</td>\n",
       "      <td> Missense_Mutation</td>\n",
       "      <td> SNP</td>\n",
       "      <td>...</td>\n",
       "      <td> 61</td>\n",
       "      <td> NaN</td>\n",
       "      <td> NaN</td>\n",
       "      <td> NaN</td>\n",
       "      <td> NaN</td>\n",
       "      <td> 0</td>\n",
       "      <td> 0</td>\n",
       "      <td> 1</td>\n",
       "      <td> 0</td>\n",
       "      <td> 0</td>\n",
       "    </tr>\n",
       "    <tr>\n",
       "      <th>3</th>\n",
       "      <td>   GABRA1</td>\n",
       "      <td>  2554</td>\n",
       "      <td> broad.mit.edu</td>\n",
       "      <td> 37</td>\n",
       "      <td>  5</td>\n",
       "      <td> 161300197</td>\n",
       "      <td> 161300197</td>\n",
       "      <td> +</td>\n",
       "      <td>            Silent</td>\n",
       "      <td> SNP</td>\n",
       "      <td>...</td>\n",
       "      <td> 49</td>\n",
       "      <td> NaN</td>\n",
       "      <td> NaN</td>\n",
       "      <td> NaN</td>\n",
       "      <td> NaN</td>\n",
       "      <td> 0</td>\n",
       "      <td> 0</td>\n",
       "      <td> 1</td>\n",
       "      <td> 0</td>\n",
       "      <td> 0</td>\n",
       "    </tr>\n",
       "    <tr>\n",
       "      <th>4</th>\n",
       "      <td>   SCARF1</td>\n",
       "      <td>  8578</td>\n",
       "      <td> broad.mit.edu</td>\n",
       "      <td> 37</td>\n",
       "      <td> 17</td>\n",
       "      <td>   1543262</td>\n",
       "      <td>   1543262</td>\n",
       "      <td> +</td>\n",
       "      <td>            Silent</td>\n",
       "      <td> SNP</td>\n",
       "      <td>...</td>\n",
       "      <td> 88</td>\n",
       "      <td> NaN</td>\n",
       "      <td> NaN</td>\n",
       "      <td> NaN</td>\n",
       "      <td> NaN</td>\n",
       "      <td> 0</td>\n",
       "      <td> 0</td>\n",
       "      <td> 1</td>\n",
       "      <td> 0</td>\n",
       "      <td> 0</td>\n",
       "    </tr>\n",
       "  </tbody>\n",
       "</table>\n",
       "<p>5 rows × 90 columns</p>\n",
       "</div>"
      ],
      "text/plain": [
       "  Hugo_Symbol  Entrez_Gene_Id         Center  NCBI_Build Chromosome  \\\n",
       "0       KLHL3           26249  broad.mit.edu          37          5   \n",
       "1      KLHDC4           54758  broad.mit.edu          37         16   \n",
       "2    HIST1H3B            8358  broad.mit.edu          37          6   \n",
       "3      GABRA1            2554  broad.mit.edu          37          5   \n",
       "4      SCARF1            8578  broad.mit.edu          37         17   \n",
       "\n",
       "   Start_position  End_position Strand Variant_Classification Variant_Type  \\\n",
       "0       136973018     136973018      +      Missense_Mutation          SNP   \n",
       "1        87742934      87742934      +      Missense_Mutation          SNP   \n",
       "2        26031919      26031919      +      Missense_Mutation          SNP   \n",
       "3       161300197     161300197      +                 Silent          SNP   \n",
       "4         1543262       1543262      +                 Silent          SNP   \n",
       "\n",
       "      ...      t_ref_count validation_alt_allele validation_method  \\\n",
       "0     ...               74                   NaN               NaN   \n",
       "1     ...               95                   NaN               NaN   \n",
       "2     ...               61                   NaN               NaN   \n",
       "3     ...               49                   NaN               NaN   \n",
       "4     ...               88                   NaN               NaN   \n",
       "\n",
       "  validation_status validation_tumor_sample pox qox  pox_cutoff  \\\n",
       "0               NaN                     NaN   0   0           1   \n",
       "1               NaN                     NaN   0   0           1   \n",
       "2               NaN                     NaN   0   0           1   \n",
       "3               NaN                     NaN   0   0           1   \n",
       "4               NaN                     NaN   0   0           1   \n",
       "\n",
       "   isArtifactMode  oxoGCut  \n",
       "0               0        0  \n",
       "1               0        0  \n",
       "2               0        0  \n",
       "3               0        0  \n",
       "4               0        0  \n",
       "\n",
       "[5 rows x 90 columns]"
      ]
     },
     "execution_count": 146,
     "metadata": {},
     "output_type": "execute_result"
    }
   ],
   "source": [
    "maf_df = pd.read_csv('mafs/another_maf_file.tsv', sep='\\t', header=0, comment='#')\n",
    "maf_df.head()"
   ]
  },
  {
   "cell_type": "markdown",
   "metadata": {},
   "source": [
    "####Some of the columns appear to be cut off, let's look at the complete list"
   ]
  },
  {
   "cell_type": "code",
   "execution_count": 147,
   "metadata": {
    "collapsed": false,
    "scrolled": true
   },
   "outputs": [
    {
     "data": {
      "text/plain": [
       "['Hugo_Symbol',\n",
       " 'Entrez_Gene_Id',\n",
       " 'Center',\n",
       " 'NCBI_Build',\n",
       " 'Chromosome',\n",
       " 'Start_position',\n",
       " 'End_position',\n",
       " 'Strand',\n",
       " 'Variant_Classification',\n",
       " 'Variant_Type',\n",
       " 'Reference_Allele',\n",
       " 'Tumor_Seq_Allele1',\n",
       " 'Tumor_Seq_Allele2',\n",
       " 'dbSNP_RS',\n",
       " 'dbSNP_Val_Status',\n",
       " 'Tumor_Sample_Barcode',\n",
       " 'Matched_Norm_Sample_Barcode',\n",
       " 'Match_Norm_Seq_Allele1',\n",
       " 'Match_Norm_Seq_Allele2',\n",
       " 'Tumor_Validation_Allele1',\n",
       " 'Tumor_Validation_Allele2',\n",
       " 'Match_Norm_Validation_Allele1',\n",
       " 'Match_Norm_Validation_Allele2',\n",
       " 'Verification_Status',\n",
       " 'Validation_Status',\n",
       " 'Mutation_Status',\n",
       " 'Sequencing_Phase',\n",
       " 'Sequence_Source',\n",
       " 'Validation_Method',\n",
       " 'Score',\n",
       " 'BAM_file',\n",
       " 'Sequencer',\n",
       " 'Tumor_Sample_UUID',\n",
       " 'Matched_Norm_Sample_UUID',\n",
       " 'Genome_Change',\n",
       " 'Annotation_Transcript',\n",
       " 'Transcript_Strand',\n",
       " 'Transcript_Exon',\n",
       " 'Transcript_Position',\n",
       " 'cDNA_Change',\n",
       " 'Codon_Change',\n",
       " 'Protein_Change',\n",
       " 'Other_Transcripts',\n",
       " 'Refseq_mRNA_Id',\n",
       " 'Refseq_prot_Id',\n",
       " 'SwissProt_acc_Id',\n",
       " 'SwissProt_entry_Id',\n",
       " 'Description',\n",
       " 'UniProt_AApos',\n",
       " 'UniProt_Region',\n",
       " 'UniProt_Site',\n",
       " 'UniProt_Natural_Variations',\n",
       " 'UniProt_Experimental_Info',\n",
       " 'GO_Biological_Process',\n",
       " 'GO_Cellular_Component',\n",
       " 'GO_Molecular_Function',\n",
       " 'COSMIC_overlapping_mutations',\n",
       " 'COSMIC_fusion_genes',\n",
       " 'COSMIC_tissue_types_affected',\n",
       " 'COSMIC_total_alterations_in_gene',\n",
       " 'Tumorscape_Amplification_Peaks',\n",
       " 'Tumorscape_Deletion_Peaks',\n",
       " 'TCGAscape_Amplification_Peaks',\n",
       " 'TCGAscape_Deletion_Peaks',\n",
       " 'DrugBank',\n",
       " 'ref_context',\n",
       " 'gc_content',\n",
       " 'CCLE_ONCOMAP_overlapping_mutations',\n",
       " 'CCLE_ONCOMAP_total_mutations_in_gene',\n",
       " 'CGC_Mutation_Type',\n",
       " 'CGC_Translocation_Partner',\n",
       " 'CGC_Tumor_Types_Somatic',\n",
       " 'CGC_Tumor_Types_Germline',\n",
       " 'CGC_Other_Diseases',\n",
       " 'DNARepairGenes_Role',\n",
       " 'FamilialCancerDatabase_Syndromes',\n",
       " 'MUTSIG_Published_Results',\n",
       " 'OREGANNO_ID',\n",
       " 'OREGANNO_Values',\n",
       " 't_alt_count',\n",
       " 't_ref_count',\n",
       " 'validation_alt_allele',\n",
       " 'validation_method',\n",
       " 'validation_status',\n",
       " 'validation_tumor_sample',\n",
       " 'pox',\n",
       " 'qox',\n",
       " 'pox_cutoff',\n",
       " 'isArtifactMode',\n",
       " 'oxoGCut']"
      ]
     },
     "execution_count": 147,
     "metadata": {},
     "output_type": "execute_result"
    }
   ],
   "source": [
    "list(maf_df.columns)"
   ]
  },
  {
   "cell_type": "markdown",
   "metadata": {},
   "source": [
    "####Let's restrict the number of columns to those useful to us. This will make the dataframe more managable (and aestheically pleasing)."
   ]
  },
  {
   "cell_type": "code",
   "execution_count": 148,
   "metadata": {
    "collapsed": false,
    "scrolled": true
   },
   "outputs": [
    {
     "data": {
      "text/html": [
       "<div style=\"max-height:1000px;max-width:1500px;overflow:auto;\">\n",
       "<table border=\"1\" class=\"dataframe\">\n",
       "  <thead>\n",
       "    <tr style=\"text-align: right;\">\n",
       "      <th></th>\n",
       "      <th>Hugo_Symbol</th>\n",
       "      <th>Chromosome</th>\n",
       "      <th>Start_position</th>\n",
       "      <th>End_position</th>\n",
       "      <th>Strand</th>\n",
       "      <th>Reference_Allele</th>\n",
       "      <th>Tumor_Seq_Allele1</th>\n",
       "      <th>Tumor_Seq_Allele2</th>\n",
       "      <th>Tumor_Sample_Barcode</th>\n",
       "      <th>Entrez_Gene_Id</th>\n",
       "      <th>Variant_Classification</th>\n",
       "      <th>Variant_Type</th>\n",
       "    </tr>\n",
       "  </thead>\n",
       "  <tbody>\n",
       "    <tr>\n",
       "      <th>0</th>\n",
       "      <td>    KLHL3</td>\n",
       "      <td>  5</td>\n",
       "      <td> 136973018</td>\n",
       "      <td> 136973018</td>\n",
       "      <td> +</td>\n",
       "      <td> G</td>\n",
       "      <td> G</td>\n",
       "      <td> A</td>\n",
       "      <td> TCGA-OR-A5J1-01A-11D-A29I-10</td>\n",
       "      <td> 26249</td>\n",
       "      <td> Missense_Mutation</td>\n",
       "      <td> SNP</td>\n",
       "    </tr>\n",
       "    <tr>\n",
       "      <th>1</th>\n",
       "      <td>   KLHDC4</td>\n",
       "      <td> 16</td>\n",
       "      <td>  87742934</td>\n",
       "      <td>  87742934</td>\n",
       "      <td> +</td>\n",
       "      <td> C</td>\n",
       "      <td> C</td>\n",
       "      <td> T</td>\n",
       "      <td> TCGA-OR-A5J1-01A-11D-A29I-10</td>\n",
       "      <td> 54758</td>\n",
       "      <td> Missense_Mutation</td>\n",
       "      <td> SNP</td>\n",
       "    </tr>\n",
       "    <tr>\n",
       "      <th>2</th>\n",
       "      <td> HIST1H3B</td>\n",
       "      <td>  6</td>\n",
       "      <td>  26031919</td>\n",
       "      <td>  26031919</td>\n",
       "      <td> +</td>\n",
       "      <td> C</td>\n",
       "      <td> C</td>\n",
       "      <td> G</td>\n",
       "      <td> TCGA-OR-A5J1-01A-11D-A29I-10</td>\n",
       "      <td>  8358</td>\n",
       "      <td> Missense_Mutation</td>\n",
       "      <td> SNP</td>\n",
       "    </tr>\n",
       "    <tr>\n",
       "      <th>3</th>\n",
       "      <td>   GABRA1</td>\n",
       "      <td>  5</td>\n",
       "      <td> 161300197</td>\n",
       "      <td> 161300197</td>\n",
       "      <td> +</td>\n",
       "      <td> C</td>\n",
       "      <td> C</td>\n",
       "      <td> T</td>\n",
       "      <td> TCGA-OR-A5J1-01A-11D-A29I-10</td>\n",
       "      <td>  2554</td>\n",
       "      <td>            Silent</td>\n",
       "      <td> SNP</td>\n",
       "    </tr>\n",
       "    <tr>\n",
       "      <th>4</th>\n",
       "      <td>   SCARF1</td>\n",
       "      <td> 17</td>\n",
       "      <td>   1543262</td>\n",
       "      <td>   1543262</td>\n",
       "      <td> +</td>\n",
       "      <td> C</td>\n",
       "      <td> C</td>\n",
       "      <td> T</td>\n",
       "      <td> TCGA-OR-A5J1-01A-11D-A29I-10</td>\n",
       "      <td>  8578</td>\n",
       "      <td>            Silent</td>\n",
       "      <td> SNP</td>\n",
       "    </tr>\n",
       "  </tbody>\n",
       "</table>\n",
       "</div>"
      ],
      "text/plain": [
       "  Hugo_Symbol Chromosome  Start_position  End_position Strand  \\\n",
       "0       KLHL3          5       136973018     136973018      +   \n",
       "1      KLHDC4         16        87742934      87742934      +   \n",
       "2    HIST1H3B          6        26031919      26031919      +   \n",
       "3      GABRA1          5       161300197     161300197      +   \n",
       "4      SCARF1         17         1543262       1543262      +   \n",
       "\n",
       "  Reference_Allele Tumor_Seq_Allele1 Tumor_Seq_Allele2  \\\n",
       "0                G                 G                 A   \n",
       "1                C                 C                 T   \n",
       "2                C                 C                 G   \n",
       "3                C                 C                 T   \n",
       "4                C                 C                 T   \n",
       "\n",
       "           Tumor_Sample_Barcode  Entrez_Gene_Id Variant_Classification  \\\n",
       "0  TCGA-OR-A5J1-01A-11D-A29I-10           26249      Missense_Mutation   \n",
       "1  TCGA-OR-A5J1-01A-11D-A29I-10           54758      Missense_Mutation   \n",
       "2  TCGA-OR-A5J1-01A-11D-A29I-10            8358      Missense_Mutation   \n",
       "3  TCGA-OR-A5J1-01A-11D-A29I-10            2554                 Silent   \n",
       "4  TCGA-OR-A5J1-01A-11D-A29I-10            8578                 Silent   \n",
       "\n",
       "  Variant_Type  \n",
       "0          SNP  \n",
       "1          SNP  \n",
       "2          SNP  \n",
       "3          SNP  \n",
       "4          SNP  "
      ]
     },
     "execution_count": 148,
     "metadata": {},
     "output_type": "execute_result"
    }
   ],
   "source": [
    "maf_df2 = maf_df[['Hugo_Symbol', 'Chromosome', 'Start_position', \n",
    "         'End_position', 'Strand', 'Reference_Allele', \n",
    "         'Tumor_Seq_Allele1', 'Tumor_Seq_Allele2',\n",
    "         'Tumor_Sample_Barcode', 'Entrez_Gene_Id',\n",
    "         'Variant_Classification','Variant_Type']]\n",
    "maf_df2.head()"
   ]
  },
  {
   "cell_type": "markdown",
   "metadata": {},
   "source": [
    "####We want to know if mutation has occured in both strands or only one. We apply a function to the pandas dataframe to get this information."
   ]
  },
  {
   "cell_type": "code",
   "execution_count": 149,
   "metadata": {
    "collapsed": false
   },
   "outputs": [],
   "source": [
    "def check_bi_allelic(x):\n",
    "    if x[0] == x[1]:\n",
    "        return True\n",
    "    else:\n",
    "        return False\n",
    "maf_df2[\"Both_Alleles\"] = maf_df2[['Tumor_Seq_Allele1', 'Tumor_Seq_Allele2']].apply(check_bi_allelic, axis=1)"
   ]
  },
  {
   "cell_type": "markdown",
   "metadata": {},
   "source": [
    "####Only the first 12 characters of the 'Tumor_Sample_Barcode' are relevant to the patient, so let's extract those characters."
   ]
  },
  {
   "cell_type": "code",
   "execution_count": 150,
   "metadata": {
    "collapsed": false
   },
   "outputs": [],
   "source": [
    "maf_df2['Patient_Barcode'] = maf_df2.Tumor_Sample_Barcode.str[:12]"
   ]
  },
  {
   "cell_type": "markdown",
   "metadata": {},
   "source": [
    "####And then simplify the dataframe again..."
   ]
  },
  {
   "cell_type": "code",
   "execution_count": 151,
   "metadata": {
    "collapsed": false,
    "scrolled": true
   },
   "outputs": [
    {
     "data": {
      "text/html": [
       "<div style=\"max-height:1000px;max-width:1500px;overflow:auto;\">\n",
       "<table border=\"1\" class=\"dataframe\">\n",
       "  <thead>\n",
       "    <tr style=\"text-align: right;\">\n",
       "      <th></th>\n",
       "      <th>Hugo_Symbol</th>\n",
       "      <th>Entrez_Gene_Id</th>\n",
       "      <th>Patient_Barcode</th>\n",
       "      <th>Variant_Classification</th>\n",
       "      <th>Both_Alleles</th>\n",
       "      <th>Start_position</th>\n",
       "    </tr>\n",
       "  </thead>\n",
       "  <tbody>\n",
       "    <tr>\n",
       "      <th>0</th>\n",
       "      <td>    KLHL3</td>\n",
       "      <td> 26249</td>\n",
       "      <td> TCGA-OR-A5J1</td>\n",
       "      <td> Missense_Mutation</td>\n",
       "      <td> False</td>\n",
       "      <td> 136973018</td>\n",
       "    </tr>\n",
       "    <tr>\n",
       "      <th>1</th>\n",
       "      <td>   KLHDC4</td>\n",
       "      <td> 54758</td>\n",
       "      <td> TCGA-OR-A5J1</td>\n",
       "      <td> Missense_Mutation</td>\n",
       "      <td> False</td>\n",
       "      <td>  87742934</td>\n",
       "    </tr>\n",
       "    <tr>\n",
       "      <th>2</th>\n",
       "      <td> HIST1H3B</td>\n",
       "      <td>  8358</td>\n",
       "      <td> TCGA-OR-A5J1</td>\n",
       "      <td> Missense_Mutation</td>\n",
       "      <td> False</td>\n",
       "      <td>  26031919</td>\n",
       "    </tr>\n",
       "    <tr>\n",
       "      <th>3</th>\n",
       "      <td>   GABRA1</td>\n",
       "      <td>  2554</td>\n",
       "      <td> TCGA-OR-A5J1</td>\n",
       "      <td>            Silent</td>\n",
       "      <td> False</td>\n",
       "      <td> 161300197</td>\n",
       "    </tr>\n",
       "    <tr>\n",
       "      <th>4</th>\n",
       "      <td>   SCARF1</td>\n",
       "      <td>  8578</td>\n",
       "      <td> TCGA-OR-A5J1</td>\n",
       "      <td>            Silent</td>\n",
       "      <td> False</td>\n",
       "      <td>   1543262</td>\n",
       "    </tr>\n",
       "  </tbody>\n",
       "</table>\n",
       "</div>"
      ],
      "text/plain": [
       "  Hugo_Symbol  Entrez_Gene_Id Patient_Barcode Variant_Classification  \\\n",
       "0       KLHL3           26249    TCGA-OR-A5J1      Missense_Mutation   \n",
       "1      KLHDC4           54758    TCGA-OR-A5J1      Missense_Mutation   \n",
       "2    HIST1H3B            8358    TCGA-OR-A5J1      Missense_Mutation   \n",
       "3      GABRA1            2554    TCGA-OR-A5J1                 Silent   \n",
       "4      SCARF1            8578    TCGA-OR-A5J1                 Silent   \n",
       "\n",
       "  Both_Alleles  Start_position  \n",
       "0        False       136973018  \n",
       "1        False        87742934  \n",
       "2        False        26031919  \n",
       "3        False       161300197  \n",
       "4        False         1543262  "
      ]
     },
     "execution_count": 151,
     "metadata": {},
     "output_type": "execute_result"
    }
   ],
   "source": [
    "maf_df3 = maf_df2[['Hugo_Symbol', 'Entrez_Gene_Id', 'Patient_Barcode', 'Variant_Classification', 'Both_Alleles', 'Start_position']]\n",
    "maf_df3 = maf_df3[maf_df3.Entrez_Gene_Id != 0]\n",
    "maf_df3.head()"
   ]
  },
  {
   "cell_type": "markdown",
   "metadata": {},
   "source": [
    "##Let's explore the data a little bit!"
   ]
  },
  {
   "cell_type": "markdown",
   "metadata": {},
   "source": [
    "####How many patients are there?"
   ]
  },
  {
   "cell_type": "code",
   "execution_count": 152,
   "metadata": {
    "collapsed": false,
    "scrolled": true
   },
   "outputs": [
    {
     "data": {
      "text/plain": [
       "91"
      ]
     },
     "execution_count": 152,
     "metadata": {},
     "output_type": "execute_result"
    }
   ],
   "source": [
    "len(maf_df3.Patient_Barcode.unique())"
   ]
  },
  {
   "cell_type": "markdown",
   "metadata": {},
   "source": [
    "####How many rows (mutations) are in our dataframe?"
   ]
  },
  {
   "cell_type": "code",
   "execution_count": 153,
   "metadata": {
    "collapsed": false
   },
   "outputs": [
    {
     "data": {
      "text/plain": [
       "Hugo_Symbol               11816\n",
       "Entrez_Gene_Id            11816\n",
       "Patient_Barcode           11816\n",
       "Variant_Classification    11816\n",
       "Both_Alleles              11816\n",
       "Start_position            11816\n",
       "dtype: int64"
      ]
     },
     "execution_count": 153,
     "metadata": {},
     "output_type": "execute_result"
    }
   ],
   "source": [
    "maf_df3.count()"
   ]
  },
  {
   "cell_type": "markdown",
   "metadata": {},
   "source": [
    "####Do we have any mutations in TP53?"
   ]
  },
  {
   "cell_type": "code",
   "execution_count": 154,
   "metadata": {
    "collapsed": false
   },
   "outputs": [
    {
     "data": {
      "text/html": [
       "<div style=\"max-height:1000px;max-width:1500px;overflow:auto;\">\n",
       "<table border=\"1\" class=\"dataframe\">\n",
       "  <thead>\n",
       "    <tr style=\"text-align: right;\">\n",
       "      <th></th>\n",
       "      <th>Hugo_Symbol</th>\n",
       "      <th>Entrez_Gene_Id</th>\n",
       "      <th>Patient_Barcode</th>\n",
       "      <th>Variant_Classification</th>\n",
       "      <th>Both_Alleles</th>\n",
       "      <th>Start_position</th>\n",
       "    </tr>\n",
       "  </thead>\n",
       "  <tbody>\n",
       "    <tr>\n",
       "      <th>521  </th>\n",
       "      <td> TP53</td>\n",
       "      <td> 7157</td>\n",
       "      <td> TCGA-OR-A5J5</td>\n",
       "      <td> Missense_Mutation</td>\n",
       "      <td> False</td>\n",
       "      <td> 7577121</td>\n",
       "    </tr>\n",
       "    <tr>\n",
       "      <th>991  </th>\n",
       "      <td> TP53</td>\n",
       "      <td> 7157</td>\n",
       "      <td> TCGA-OR-A5J8</td>\n",
       "      <td>       Splice_Site</td>\n",
       "      <td> False</td>\n",
       "      <td> 7579312</td>\n",
       "    </tr>\n",
       "    <tr>\n",
       "      <th>1562 </th>\n",
       "      <td> TP53</td>\n",
       "      <td> 7157</td>\n",
       "      <td> TCGA-OR-A5JA</td>\n",
       "      <td>       Splice_Site</td>\n",
       "      <td> False</td>\n",
       "      <td> 7579722</td>\n",
       "    </tr>\n",
       "    <tr>\n",
       "      <th>1962 </th>\n",
       "      <td> TP53</td>\n",
       "      <td> 7157</td>\n",
       "      <td> TCGA-OR-A5JB</td>\n",
       "      <td> Missense_Mutation</td>\n",
       "      <td> False</td>\n",
       "      <td> 7577580</td>\n",
       "    </tr>\n",
       "    <tr>\n",
       "      <th>2422 </th>\n",
       "      <td> TP53</td>\n",
       "      <td> 7157</td>\n",
       "      <td> TCGA-OR-A5JG</td>\n",
       "      <td>       Splice_Site</td>\n",
       "      <td> False</td>\n",
       "      <td> 7579311</td>\n",
       "    </tr>\n",
       "    <tr>\n",
       "      <th>2555 </th>\n",
       "      <td> TP53</td>\n",
       "      <td> 7157</td>\n",
       "      <td> TCGA-OR-A5JJ</td>\n",
       "      <td> Missense_Mutation</td>\n",
       "      <td> False</td>\n",
       "      <td> 7577114</td>\n",
       "    </tr>\n",
       "    <tr>\n",
       "      <th>3652 </th>\n",
       "      <td> TP53</td>\n",
       "      <td> 7157</td>\n",
       "      <td> TCGA-OR-A5K4</td>\n",
       "      <td> Missense_Mutation</td>\n",
       "      <td> False</td>\n",
       "      <td> 7574017</td>\n",
       "    </tr>\n",
       "    <tr>\n",
       "      <th>5420 </th>\n",
       "      <td> TP53</td>\n",
       "      <td> 7157</td>\n",
       "      <td> TCGA-OR-A5KB</td>\n",
       "      <td> Missense_Mutation</td>\n",
       "      <td> False</td>\n",
       "      <td> 7578413</td>\n",
       "    </tr>\n",
       "    <tr>\n",
       "      <th>6521 </th>\n",
       "      <td> TP53</td>\n",
       "      <td> 7157</td>\n",
       "      <td> TCGA-OR-A5KB</td>\n",
       "      <td> Missense_Mutation</td>\n",
       "      <td> False</td>\n",
       "      <td> 7578534</td>\n",
       "    </tr>\n",
       "    <tr>\n",
       "      <th>6772 </th>\n",
       "      <td> TP53</td>\n",
       "      <td> 7157</td>\n",
       "      <td> TCGA-OR-A5KO</td>\n",
       "      <td> Nonsense_Mutation</td>\n",
       "      <td> False</td>\n",
       "      <td> 7574012</td>\n",
       "    </tr>\n",
       "    <tr>\n",
       "      <th>8837 </th>\n",
       "      <td> TP53</td>\n",
       "      <td> 7157</td>\n",
       "      <td> TCGA-OR-A5LJ</td>\n",
       "      <td> Nonsense_Mutation</td>\n",
       "      <td> False</td>\n",
       "      <td> 7578212</td>\n",
       "    </tr>\n",
       "    <tr>\n",
       "      <th>11179</th>\n",
       "      <td> TP53</td>\n",
       "      <td> 7157</td>\n",
       "      <td> TCGA-PK-A5HB</td>\n",
       "      <td>       Splice_Site</td>\n",
       "      <td> False</td>\n",
       "      <td> 7577018</td>\n",
       "    </tr>\n",
       "    <tr>\n",
       "      <th>11554</th>\n",
       "      <td> TP53</td>\n",
       "      <td> 7157</td>\n",
       "      <td> TCGA-OR-A5J2</td>\n",
       "      <td>   Frame_Shift_Del</td>\n",
       "      <td> False</td>\n",
       "      <td> 7578415</td>\n",
       "    </tr>\n",
       "    <tr>\n",
       "      <th>11822</th>\n",
       "      <td> TP53</td>\n",
       "      <td> 7157</td>\n",
       "      <td> TCGA-OR-A5JL</td>\n",
       "      <td>   Frame_Shift_Del</td>\n",
       "      <td> False</td>\n",
       "      <td> 7574023</td>\n",
       "    </tr>\n",
       "    <tr>\n",
       "      <th>11875</th>\n",
       "      <td> TP53</td>\n",
       "      <td> 7157</td>\n",
       "      <td> TCGA-OR-A5JP</td>\n",
       "      <td>   Frame_Shift_Ins</td>\n",
       "      <td> False</td>\n",
       "      <td> 7574011</td>\n",
       "    </tr>\n",
       "    <tr>\n",
       "      <th>12347</th>\n",
       "      <td> TP53</td>\n",
       "      <td> 7157</td>\n",
       "      <td> TCGA-OR-A5KZ</td>\n",
       "      <td>      In_Frame_Del</td>\n",
       "      <td> False</td>\n",
       "      <td> 7578378</td>\n",
       "    </tr>\n",
       "    <tr>\n",
       "      <th>12612</th>\n",
       "      <td> TP53</td>\n",
       "      <td> 7157</td>\n",
       "      <td> TCGA-OR-A5LE</td>\n",
       "      <td>   Frame_Shift_Del</td>\n",
       "      <td> False</td>\n",
       "      <td> 7579716</td>\n",
       "    </tr>\n",
       "    <tr>\n",
       "      <th>13127</th>\n",
       "      <td> TP53</td>\n",
       "      <td> 7157</td>\n",
       "      <td> TCGA-PK-A5HC</td>\n",
       "      <td>   Frame_Shift_Ins</td>\n",
       "      <td> False</td>\n",
       "      <td> 7579470</td>\n",
       "    </tr>\n",
       "  </tbody>\n",
       "</table>\n",
       "</div>"
      ],
      "text/plain": [
       "      Hugo_Symbol  Entrez_Gene_Id Patient_Barcode Variant_Classification  \\\n",
       "521          TP53            7157    TCGA-OR-A5J5      Missense_Mutation   \n",
       "991          TP53            7157    TCGA-OR-A5J8            Splice_Site   \n",
       "1562         TP53            7157    TCGA-OR-A5JA            Splice_Site   \n",
       "1962         TP53            7157    TCGA-OR-A5JB      Missense_Mutation   \n",
       "2422         TP53            7157    TCGA-OR-A5JG            Splice_Site   \n",
       "2555         TP53            7157    TCGA-OR-A5JJ      Missense_Mutation   \n",
       "3652         TP53            7157    TCGA-OR-A5K4      Missense_Mutation   \n",
       "5420         TP53            7157    TCGA-OR-A5KB      Missense_Mutation   \n",
       "6521         TP53            7157    TCGA-OR-A5KB      Missense_Mutation   \n",
       "6772         TP53            7157    TCGA-OR-A5KO      Nonsense_Mutation   \n",
       "8837         TP53            7157    TCGA-OR-A5LJ      Nonsense_Mutation   \n",
       "11179        TP53            7157    TCGA-PK-A5HB            Splice_Site   \n",
       "11554        TP53            7157    TCGA-OR-A5J2        Frame_Shift_Del   \n",
       "11822        TP53            7157    TCGA-OR-A5JL        Frame_Shift_Del   \n",
       "11875        TP53            7157    TCGA-OR-A5JP        Frame_Shift_Ins   \n",
       "12347        TP53            7157    TCGA-OR-A5KZ           In_Frame_Del   \n",
       "12612        TP53            7157    TCGA-OR-A5LE        Frame_Shift_Del   \n",
       "13127        TP53            7157    TCGA-PK-A5HC        Frame_Shift_Ins   \n",
       "\n",
       "      Both_Alleles  Start_position  \n",
       "521          False         7577121  \n",
       "991          False         7579312  \n",
       "1562         False         7579722  \n",
       "1962         False         7577580  \n",
       "2422         False         7579311  \n",
       "2555         False         7577114  \n",
       "3652         False         7574017  \n",
       "5420         False         7578413  \n",
       "6521         False         7578534  \n",
       "6772         False         7574012  \n",
       "8837         False         7578212  \n",
       "11179        False         7577018  \n",
       "11554        False         7578415  \n",
       "11822        False         7574023  \n",
       "11875        False         7574011  \n",
       "12347        False         7578378  \n",
       "12612        False         7579716  \n",
       "13127        False         7579470  "
      ]
     },
     "execution_count": 154,
     "metadata": {},
     "output_type": "execute_result"
    }
   ],
   "source": [
    "maf_df3[maf_df3.Hugo_Symbol == 'TP53']"
   ]
  },
  {
   "cell_type": "markdown",
   "metadata": {},
   "source": [
    "####Next, we save the dataframe as a csv file (just for fun). How easy is that?? "
   ]
  },
  {
   "cell_type": "code",
   "execution_count": 155,
   "metadata": {
    "collapsed": true
   },
   "outputs": [],
   "source": [
    "maf_df3.to_csv('mafs/a_maf_file.concise.csv')"
   ]
  },
  {
   "cell_type": "markdown",
   "metadata": {},
   "source": [
    "####How many mutations do each of the patients have?"
   ]
  },
  {
   "cell_type": "markdown",
   "metadata": {},
   "source": [
    "##### '%matplotlib inline' is a magic function that allows you to do all of your plotting inside an ipython notebook"
   ]
  },
  {
   "cell_type": "code",
   "execution_count": 156,
   "metadata": {
    "collapsed": false,
    "scrolled": true
   },
   "outputs": [
    {
     "data": {
      "text/plain": [
       "<matplotlib.text.Text at 0x1230df090>"
      ]
     },
     "execution_count": 156,
     "metadata": {},
     "output_type": "execute_result"
    },
    {
     "data": {
      "image/png": "[encoded data removed]",
      "text/plain": [
       "<matplotlib.figure.Figure at 0x11f7551d0>"
      ]
     },
     "metadata": {},
     "output_type": "display_data"
    }
   ],
   "source": [
    "%matplotlib inline\n",
    "ax = maf_df3.Patient_Barcode.value_counts().hist(color='r', alpha=0.8, bins=30)\n",
    "ax.set_xlabel(\"Number of Mutations per Patient\")\n",
    "ax.set_ylabel(\"Number of Patients\")"
   ]
  },
  {
   "cell_type": "markdown",
   "metadata": {},
   "source": [
    "#### Why is there so much variation??\n",
    "\n",
    "According to Lawrence et al. 2013 in Nature, different cancer types have vastly different distributions of mutations.\n",
    "\n",
    "<img src=\"images/nature12213-f1.2.jpg\">"
   ]
  },
  {
   "cell_type": "markdown",
   "metadata": {},
   "source": [
    "####What kinds of mutations are we dealing with?"
   ]
  },
  {
   "cell_type": "code",
   "execution_count": 157,
   "metadata": {
    "collapsed": false
   },
   "outputs": [
    {
     "data": {
      "text/plain": [
       "<matplotlib.text.Text at 0x11d10da10>"
      ]
     },
     "execution_count": 157,
     "metadata": {},
     "output_type": "execute_result"
    },
    {
     "data": {
      "image/png": "[encoded data removed]",
      "text/plain": [
       "<matplotlib.figure.Figure at 0x1230e1190>"
      ]
     },
     "metadata": {},
     "output_type": "display_data"
    }
   ],
   "source": [
    "ax = maf_df3.Variant_Classification.value_counts().plot(kind='bar', color='r', alpha=0.8)\n",
    "ax.set_ylabel(\"Number of Mutations\")\n",
    "ax.set_xlabel(\"Type of Mutation\")"
   ]
  },
  {
   "cell_type": "markdown",
   "metadata": {},
   "source": [
    "####Which genes are most frequently mutated?"
   ]
  },
  {
   "cell_type": "code",
   "execution_count": 158,
   "metadata": {
    "collapsed": false
   },
   "outputs": [
    {
     "data": {
      "text/plain": [
       "<matplotlib.text.Text at 0x11df63fd0>"
      ]
     },
     "execution_count": 158,
     "metadata": {},
     "output_type": "execute_result"
    },
    {
     "data": {
      "image/png": "[encoded data removed]",
      "text/plain": [
       "<matplotlib.figure.Figure at 0x11e029210>"
      ]
     },
     "metadata": {},
     "output_type": "display_data"
    }
   ],
   "source": [
    "import seaborn as sns\n",
    "sns.set_style(\"whitegrid\")\n",
    "ax = maf_df3['Hugo_Symbol'].value_counts()[:30].plot(kind='bar', color='r', alpha=0.8)\n",
    "ax.set_xlabel(\"Mutated Gene\")\n",
    "ax.set_ylabel(\"Number of Times Mutated\")"
   ]
  },
  {
   "cell_type": "markdown",
   "metadata": {},
   "source": [
    "#Let's get some genetic interaction information about our genes..."
   ]
  },
  {
   "cell_type": "markdown",
   "metadata": {},
   "source": [
    "#### In order to use machine learning to predict our \"driver\" genes, we need to create a useful feature vector. The best predicting algorithms use many features - we are going to use three fairly simple ones. One feature will be the possible disruption of a gene as measured by the number of other genes in which it interacts."
   ]
  },
  {
   "cell_type": "markdown",
   "metadata": {},
   "source": [
    "####<a href=\"http://www.functionalnet.org/humannet\">Human Net</a> is a probabilistic functional gene network of nearly 20,000 validated protein coding genes constructed by the integration of 21 'omics' data types.\n",
    "\n",
    "####Picture something like this:\n",
    "\n",
    "<img src=\"images/gene_network.jpg\">"
   ]
  },
  {
   "cell_type": "markdown",
   "metadata": {},
   "source": [
    "####The human net data is stored in a txt file in our folder. Let's read it. For each gene, let's create a list of its connections. "
   ]
  },
  {
   "cell_type": "code",
   "execution_count": 159,
   "metadata": {
    "collapsed": false
   },
   "outputs": [],
   "source": [
    "edges = {}\n",
    "with open('data/HumanNet.v1.join.txt', 'r') as human_net:\n",
    "    for line in human_net:\n",
    "        c = [x for x in line.strip().split(\"\\t\")]\n",
    "        one = int(c[0])\n",
    "        two = int(c[1])\n",
    "        \n",
    "        if one in edges:\n",
    "            edges[one].append(two)\n",
    "        else:\n",
    "            edges[one] = [two]\n",
    "        if two in edges:\n",
    "            edges[two].append(one)\n",
    "        else:\n",
    "            edges[two] = [one]\n"
   ]
  },
  {
   "cell_type": "markdown",
   "metadata": {},
   "source": [
    "####Is it possible to save a dictionary? Yes! Pickle!\n",
    "* Pickle can be used for any serializable object; however, it does not compress the object"
   ]
  },
  {
   "cell_type": "code",
   "execution_count": 160,
   "metadata": {
    "collapsed": false
   },
   "outputs": [],
   "source": [
    "import cPickle as pickle\n",
    "pickle.dump(edges, open(\"pickles/edges.p\", 'wb'))"
   ]
  },
  {
   "cell_type": "markdown",
   "metadata": {},
   "source": [
    "####We can load the pickle file and get the exact same object back in python."
   ]
  },
  {
   "cell_type": "code",
   "execution_count": 161,
   "metadata": {
    "collapsed": false
   },
   "outputs": [],
   "source": [
    "import cPickle as pickle\n",
    "edges = pickle.load(open(\"pickles/edges.p\", 'rb'))"
   ]
  },
  {
   "cell_type": "markdown",
   "metadata": {},
   "source": [
    "####What does the distribution of edge numbers look like in human net?"
   ]
  },
  {
   "cell_type": "code",
   "execution_count": 162,
   "metadata": {
    "collapsed": false,
    "scrolled": true
   },
   "outputs": [
    {
     "data": {
      "image/png": "[encoded data removed]",
      "text/plain": [
       "<matplotlib.figure.Figure at 0x12225d690>"
      ]
     },
     "metadata": {},
     "output_type": "display_data"
    }
   ],
   "source": [
    "connect = map(len, edges.values())\n",
    "\n",
    "n, bins, patches = plt.hist(connect, bins=100, alpha=0.5)\n",
    "plt.xlabel('Number of Connections')\n",
    "plt.ylabel('Number of Genes')\n",
    "plt.title('Human Net Histogram')\n",
    "plt.grid(True)"
   ]
  },
  {
   "cell_type": "markdown",
   "metadata": {},
   "source": [
    "#Now that we have a fancy network feature, let's create a couple other simple features."
   ]
  },
  {
   "cell_type": "markdown",
   "metadata": {},
   "source": [
    "####How often is the gene mutated in TCGA? If a gene is mutated more frequently, it could mean that there is selective pressure toward mutation."
   ]
  },
  {
   "cell_type": "code",
   "execution_count": 163,
   "metadata": {
    "collapsed": false,
    "scrolled": true
   },
   "outputs": [
    {
     "data": {
      "text/html": [
       "<div style=\"max-height:1000px;max-width:1500px;overflow:auto;\">\n",
       "<table border=\"1\" class=\"dataframe\">\n",
       "  <thead>\n",
       "    <tr style=\"text-align: right;\">\n",
       "      <th></th>\n",
       "      <th>Entrez_Gene_Id</th>\n",
       "      <th>counts</th>\n",
       "    </tr>\n",
       "  </thead>\n",
       "  <tbody>\n",
       "    <tr>\n",
       "      <th>0</th>\n",
       "      <td>   7273</td>\n",
       "      <td> 31</td>\n",
       "    </tr>\n",
       "    <tr>\n",
       "      <th>1</th>\n",
       "      <td>  94025</td>\n",
       "      <td> 23</td>\n",
       "    </tr>\n",
       "    <tr>\n",
       "      <th>2</th>\n",
       "      <td>   4540</td>\n",
       "      <td> 19</td>\n",
       "    </tr>\n",
       "    <tr>\n",
       "      <th>3</th>\n",
       "      <td>  65110</td>\n",
       "      <td> 19</td>\n",
       "    </tr>\n",
       "    <tr>\n",
       "      <th>4</th>\n",
       "      <td> 133060</td>\n",
       "      <td> 19</td>\n",
       "    </tr>\n",
       "  </tbody>\n",
       "</table>\n",
       "</div>"
      ],
      "text/plain": [
       "   Entrez_Gene_Id  counts\n",
       "0            7273      31\n",
       "1           94025      23\n",
       "2            4540      19\n",
       "3           65110      19\n",
       "4          133060      19"
      ]
     },
     "execution_count": 163,
     "metadata": {},
     "output_type": "execute_result"
    }
   ],
   "source": [
    "mutations = pd.DataFrame(maf_df3.Entrez_Gene_Id.value_counts())\n",
    "mutations = mutations.reset_index()\n",
    "mutations.columns = ['Entrez_Gene_Id', 'counts']\n",
    "mutations.head()"
   ]
  },
  {
   "cell_type": "markdown",
   "metadata": {},
   "source": [
    "####Let's also add a feature based on the percentage of time a mutation is bi-allelic. (this may be unreliable in TCGA due to mutation calling, but let's use it anyway)."
   ]
  },
  {
   "cell_type": "code",
   "execution_count": 164,
   "metadata": {
    "collapsed": false
   },
   "outputs": [
    {
     "data": {
      "text/html": [
       "<div style=\"max-height:1000px;max-width:1500px;overflow:auto;\">\n",
       "<table border=\"1\" class=\"dataframe\">\n",
       "  <thead>\n",
       "    <tr style=\"text-align: right;\">\n",
       "      <th></th>\n",
       "      <th>Hugo_Symbol</th>\n",
       "      <th>Entrez_Gene_Id</th>\n",
       "      <th>Patient_Barcode</th>\n",
       "      <th>Variant_Classification</th>\n",
       "      <th>Both_Alleles</th>\n",
       "      <th>Start_position</th>\n",
       "    </tr>\n",
       "  </thead>\n",
       "  <tbody>\n",
       "    <tr>\n",
       "      <th>0</th>\n",
       "      <td>    KLHL3</td>\n",
       "      <td> 26249</td>\n",
       "      <td> TCGA-OR-A5J1</td>\n",
       "      <td> Missense_Mutation</td>\n",
       "      <td> False</td>\n",
       "      <td> 136973018</td>\n",
       "    </tr>\n",
       "    <tr>\n",
       "      <th>1</th>\n",
       "      <td>   KLHDC4</td>\n",
       "      <td> 54758</td>\n",
       "      <td> TCGA-OR-A5J1</td>\n",
       "      <td> Missense_Mutation</td>\n",
       "      <td> False</td>\n",
       "      <td>  87742934</td>\n",
       "    </tr>\n",
       "    <tr>\n",
       "      <th>2</th>\n",
       "      <td> HIST1H3B</td>\n",
       "      <td>  8358</td>\n",
       "      <td> TCGA-OR-A5J1</td>\n",
       "      <td> Missense_Mutation</td>\n",
       "      <td> False</td>\n",
       "      <td>  26031919</td>\n",
       "    </tr>\n",
       "    <tr>\n",
       "      <th>3</th>\n",
       "      <td>   GABRA1</td>\n",
       "      <td>  2554</td>\n",
       "      <td> TCGA-OR-A5J1</td>\n",
       "      <td>            Silent</td>\n",
       "      <td> False</td>\n",
       "      <td> 161300197</td>\n",
       "    </tr>\n",
       "    <tr>\n",
       "      <th>4</th>\n",
       "      <td>   SCARF1</td>\n",
       "      <td>  8578</td>\n",
       "      <td> TCGA-OR-A5J1</td>\n",
       "      <td>            Silent</td>\n",
       "      <td> False</td>\n",
       "      <td>   1543262</td>\n",
       "    </tr>\n",
       "  </tbody>\n",
       "</table>\n",
       "</div>"
      ],
      "text/plain": [
       "  Hugo_Symbol  Entrez_Gene_Id Patient_Barcode Variant_Classification  \\\n",
       "0       KLHL3           26249    TCGA-OR-A5J1      Missense_Mutation   \n",
       "1      KLHDC4           54758    TCGA-OR-A5J1      Missense_Mutation   \n",
       "2    HIST1H3B            8358    TCGA-OR-A5J1      Missense_Mutation   \n",
       "3      GABRA1            2554    TCGA-OR-A5J1                 Silent   \n",
       "4      SCARF1            8578    TCGA-OR-A5J1                 Silent   \n",
       "\n",
       "  Both_Alleles  Start_position  \n",
       "0        False       136973018  \n",
       "1        False        87742934  \n",
       "2        False        26031919  \n",
       "3        False       161300197  \n",
       "4        False         1543262  "
      ]
     },
     "execution_count": 164,
     "metadata": {},
     "output_type": "execute_result"
    }
   ],
   "source": [
    "maf_df3.head()"
   ]
  },
  {
   "cell_type": "code",
   "execution_count": 165,
   "metadata": {
    "collapsed": false
   },
   "outputs": [],
   "source": [
    "grouped = maf_df3.groupby('Entrez_Gene_Id')\n",
    "num_bi_allelic = grouped.apply(lambda g: g[g['Both_Alleles'] == False].count())['Patient_Barcode']\n",
    "num_total = grouped['Patient_Barcode'].agg('count')"
   ]
  },
  {
   "cell_type": "markdown",
   "metadata": {},
   "source": [
    "####Thanks to numpy, we can divide these series by each other. Then we can add the new series to our mutations dataframe."
   ]
  },
  {
   "cell_type": "code",
   "execution_count": 166,
   "metadata": {
    "collapsed": false,
    "scrolled": false
   },
   "outputs": [
    {
     "data": {
      "text/html": [
       "<div style=\"max-height:1000px;max-width:1500px;overflow:auto;\">\n",
       "<table border=\"1\" class=\"dataframe\">\n",
       "  <thead>\n",
       "    <tr style=\"text-align: right;\">\n",
       "      <th></th>\n",
       "      <th>Entrez_Gene_Id</th>\n",
       "      <th>counts</th>\n",
       "      <th>Perc_Bi_Allelic</th>\n",
       "    </tr>\n",
       "  </thead>\n",
       "  <tbody>\n",
       "    <tr>\n",
       "      <th>0</th>\n",
       "      <td>   7273</td>\n",
       "      <td> 31</td>\n",
       "      <td>NaN</td>\n",
       "    </tr>\n",
       "    <tr>\n",
       "      <th>1</th>\n",
       "      <td>  94025</td>\n",
       "      <td> 23</td>\n",
       "      <td>  1</td>\n",
       "    </tr>\n",
       "    <tr>\n",
       "      <th>2</th>\n",
       "      <td>   4540</td>\n",
       "      <td> 19</td>\n",
       "      <td>NaN</td>\n",
       "    </tr>\n",
       "    <tr>\n",
       "      <th>3</th>\n",
       "      <td>  65110</td>\n",
       "      <td> 19</td>\n",
       "      <td>NaN</td>\n",
       "    </tr>\n",
       "    <tr>\n",
       "      <th>4</th>\n",
       "      <td> 133060</td>\n",
       "      <td> 19</td>\n",
       "      <td>NaN</td>\n",
       "    </tr>\n",
       "  </tbody>\n",
       "</table>\n",
       "</div>"
      ],
      "text/plain": [
       "   Entrez_Gene_Id  counts  Perc_Bi_Allelic\n",
       "0            7273      31              NaN\n",
       "1           94025      23                1\n",
       "2            4540      19              NaN\n",
       "3           65110      19              NaN\n",
       "4          133060      19              NaN"
      ]
     },
     "execution_count": 166,
     "metadata": {},
     "output_type": "execute_result"
    }
   ],
   "source": [
    "mutations['Perc_Bi_Allelic'] = pd.Series(num_bi_allelic)/pd.Series(num_total)\n",
    "mutations.head()"
   ]
  },
  {
   "cell_type": "code",
   "execution_count": 167,
   "metadata": {
    "collapsed": true
   },
   "outputs": [],
   "source": [
    "mutations.to_csv('data/mutations.csv')"
   ]
  },
  {
   "cell_type": "markdown",
   "metadata": {},
   "source": [
    "####Here, we import a txt file containing a density score for each gene that can be derived from our human net analysis. We are going to spare the details because of time and just import it. "
   ]
  },
  {
   "cell_type": "code",
   "execution_count": 168,
   "metadata": {
    "collapsed": false
   },
   "outputs": [],
   "source": [
    "densities = pd.read_csv('data/density_values.txt', sep=' ', header=None)"
   ]
  },
  {
   "cell_type": "code",
   "execution_count": 169,
   "metadata": {
    "collapsed": false,
    "scrolled": false
   },
   "outputs": [
    {
     "data": {
      "text/html": [
       "<div style=\"max-height:1000px;max-width:1500px;overflow:auto;\">\n",
       "<table border=\"1\" class=\"dataframe\">\n",
       "  <thead>\n",
       "    <tr style=\"text-align: right;\">\n",
       "      <th></th>\n",
       "      <th>Entrez_Gene_Id</th>\n",
       "      <th>Density</th>\n",
       "    </tr>\n",
       "  </thead>\n",
       "  <tbody>\n",
       "    <tr>\n",
       "      <th>0</th>\n",
       "      <td>    673</td>\n",
       "      <td> 1298.9</td>\n",
       "    </tr>\n",
       "    <tr>\n",
       "      <th>1</th>\n",
       "      <td>   2312</td>\n",
       "      <td>  135.1</td>\n",
       "    </tr>\n",
       "    <tr>\n",
       "      <th>2</th>\n",
       "      <td>   4893</td>\n",
       "      <td> 1736.6</td>\n",
       "    </tr>\n",
       "    <tr>\n",
       "      <th>3</th>\n",
       "      <td> 113146</td>\n",
       "      <td>    NaN</td>\n",
       "    </tr>\n",
       "    <tr>\n",
       "      <th>4</th>\n",
       "      <td>  94025</td>\n",
       "      <td>   14.2</td>\n",
       "    </tr>\n",
       "  </tbody>\n",
       "</table>\n",
       "</div>"
      ],
      "text/plain": [
       "   Entrez_Gene_Id  Density\n",
       "0             673   1298.9\n",
       "1            2312    135.1\n",
       "2            4893   1736.6\n",
       "3          113146      NaN\n",
       "4           94025     14.2"
      ]
     },
     "execution_count": 169,
     "metadata": {},
     "output_type": "execute_result"
    }
   ],
   "source": [
    "densities.columns = [\"Entrez_Gene_Id\", \"Density\"]\n",
    "densities.head()"
   ]
  },
  {
   "cell_type": "markdown",
   "metadata": {},
   "source": [
    "#####Merging pandas dataframes is quite handy (and fast)! Check out all of the ways they can be combined <a href=\"http://pandas.pydata.org/pandas-docs/stable/merging.html\">here</a>."
   ]
  },
  {
   "cell_type": "code",
   "execution_count": 170,
   "metadata": {
    "collapsed": false,
    "scrolled": true
   },
   "outputs": [
    {
     "data": {
      "text/html": [
       "<div style=\"max-height:1000px;max-width:1500px;overflow:auto;\">\n",
       "<table border=\"1\" class=\"dataframe\">\n",
       "  <thead>\n",
       "    <tr style=\"text-align: right;\">\n",
       "      <th></th>\n",
       "      <th>Entrez_Gene_Id</th>\n",
       "      <th>counts</th>\n",
       "      <th>Perc_Bi_Allelic</th>\n",
       "      <th>Density</th>\n",
       "    </tr>\n",
       "  </thead>\n",
       "  <tbody>\n",
       "    <tr>\n",
       "      <th>0</th>\n",
       "      <td>   7273</td>\n",
       "      <td> 31</td>\n",
       "      <td>NaN</td>\n",
       "      <td> 1011.3</td>\n",
       "    </tr>\n",
       "    <tr>\n",
       "      <th>1</th>\n",
       "      <td>  94025</td>\n",
       "      <td> 23</td>\n",
       "      <td>  1</td>\n",
       "      <td>   14.2</td>\n",
       "    </tr>\n",
       "    <tr>\n",
       "      <th>2</th>\n",
       "      <td>   4540</td>\n",
       "      <td> 19</td>\n",
       "      <td>NaN</td>\n",
       "      <td>    NaN</td>\n",
       "    </tr>\n",
       "    <tr>\n",
       "      <th>3</th>\n",
       "      <td>  65110</td>\n",
       "      <td> 19</td>\n",
       "      <td>NaN</td>\n",
       "      <td>    NaN</td>\n",
       "    </tr>\n",
       "    <tr>\n",
       "      <th>4</th>\n",
       "      <td> 133060</td>\n",
       "      <td> 19</td>\n",
       "      <td>NaN</td>\n",
       "      <td>    NaN</td>\n",
       "    </tr>\n",
       "  </tbody>\n",
       "</table>\n",
       "</div>"
      ],
      "text/plain": [
       "   Entrez_Gene_Id  counts  Perc_Bi_Allelic  Density\n",
       "0            7273      31              NaN   1011.3\n",
       "1           94025      23                1     14.2\n",
       "2            4540      19              NaN      NaN\n",
       "3           65110      19              NaN      NaN\n",
       "4          133060      19              NaN      NaN"
      ]
     },
     "execution_count": 170,
     "metadata": {},
     "output_type": "execute_result"
    }
   ],
   "source": [
    "mutations = pd.merge(mutations, densities, on='Entrez_Gene_Id', how='outer')\n",
    "mutations.head()"
   ]
  },
  {
   "cell_type": "code",
   "execution_count": 171,
   "metadata": {
    "collapsed": false
   },
   "outputs": [],
   "source": [
    "mutations = mutations[[\"Entrez_Gene_Id\", \"counts\", \"Perc_Bi_Allelic\", \"Density\"]]\n",
    "mutations.to_csv('data/tcga_feature_vector.csv')"
   ]
  },
  {
   "cell_type": "markdown",
   "metadata": {},
   "source": [
    "# In order to train our classifier, we need some truth data. "
   ]
  },
  {
   "cell_type": "markdown",
   "metadata": {},
   "source": [
    "####This data was taken from the Cosmic database. It has already been formatted like our TCGA data. We have a training and validation set for both cancer (driver) genes and neutral (passenger) genes."
   ]
  },
  {
   "cell_type": "code",
   "execution_count": 172,
   "metadata": {
    "collapsed": false
   },
   "outputs": [],
   "source": [
    "cancer_feature_vector_training = pd.read_csv('data/cancer_feature_vector_tcga_training.csv', index_col=0)\n",
    "neutral_feature_vector_training = pd.read_csv('data/neutral_feature_vector_tcga_training.csv', index_col=0)\n",
    "cancer_feature_vector_validation = pd.read_csv('data/cancer_feature_vector_tcga_validation.csv', index_col=0)\n",
    "neutral_feature_vector_validation = pd.read_csv('data/neutral_feature_vector_tcga_validation.csv', index_col=0)"
   ]
  },
  {
   "cell_type": "code",
   "execution_count": 173,
   "metadata": {
    "collapsed": false,
    "scrolled": true
   },
   "outputs": [
    {
     "data": {
      "text/html": [
       "<div style=\"max-height:1000px;max-width:1500px;overflow:auto;\">\n",
       "<table border=\"1\" class=\"dataframe\">\n",
       "  <thead>\n",
       "    <tr style=\"text-align: right;\">\n",
       "      <th></th>\n",
       "      <th>Entrez_Gene_Id</th>\n",
       "      <th>counts</th>\n",
       "      <th>Perc_Bi_Allelic</th>\n",
       "      <th>Density</th>\n",
       "    </tr>\n",
       "  </thead>\n",
       "  <tbody>\n",
       "    <tr>\n",
       "      <th>0   </th>\n",
       "      <td>  673</td>\n",
       "      <td> 480</td>\n",
       "      <td> 0.508333</td>\n",
       "      <td> 1298.9</td>\n",
       "    </tr>\n",
       "    <tr>\n",
       "      <th>259 </th>\n",
       "      <td> 4893</td>\n",
       "      <td>  54</td>\n",
       "      <td> 0.500000</td>\n",
       "      <td> 1736.6</td>\n",
       "    </tr>\n",
       "    <tr>\n",
       "      <th>297 </th>\n",
       "      <td> 3265</td>\n",
       "      <td>  24</td>\n",
       "      <td> 0.541667</td>\n",
       "      <td> 1824.5</td>\n",
       "    </tr>\n",
       "    <tr>\n",
       "      <th>918 </th>\n",
       "      <td> 3845</td>\n",
       "      <td>   4</td>\n",
       "      <td> 0.500000</td>\n",
       "      <td> 1794.8</td>\n",
       "    </tr>\n",
       "    <tr>\n",
       "      <th>1020</th>\n",
       "      <td>  207</td>\n",
       "      <td>   4</td>\n",
       "      <td> 0.500000</td>\n",
       "      <td> 1572.9</td>\n",
       "    </tr>\n",
       "  </tbody>\n",
       "</table>\n",
       "</div>"
      ],
      "text/plain": [
       "      Entrez_Gene_Id  counts  Perc_Bi_Allelic  Density\n",
       "0                673     480         0.508333   1298.9\n",
       "259             4893      54         0.500000   1736.6\n",
       "297             3265      24         0.541667   1824.5\n",
       "918             3845       4         0.500000   1794.8\n",
       "1020             207       4         0.500000   1572.9"
      ]
     },
     "execution_count": 173,
     "metadata": {},
     "output_type": "execute_result"
    }
   ],
   "source": [
    "cancer_feature_vector_training.head()"
   ]
  },
  {
   "cell_type": "markdown",
   "metadata": {
    "collapsed": true
   },
   "source": [
    "####Here, we manipulate the training set to form a numpy matrix. This will be a better input format for our classifier."
   ]
  },
  {
   "cell_type": "code",
   "execution_count": 174,
   "metadata": {
    "collapsed": false
   },
   "outputs": [],
   "source": [
    "cancer_feature_vector_training = cancer_feature_vector_training.fillna(0)\n",
    "cancer_matrix = cancer_feature_vector_training.values[:,1:].astype(float)\n",
    "neutral_feature_vector_training = neutral_feature_vector_training.fillna(0)\n",
    "neutral_matrix = neutral_feature_vector_training.values[:,1:].astype(float)\n",
    "training_matrix = np.concatenate((cancer_matrix, neutral_matrix), axis=0)\n",
    "training_assignments = [1 for gene in range(len(cancer_matrix))] + [0 for gene in range(len(neutral_matrix))]"
   ]
  },
  {
   "cell_type": "markdown",
   "metadata": {},
   "source": [
    "####And we do the same thing for the validation sets."
   ]
  },
  {
   "cell_type": "code",
   "execution_count": 175,
   "metadata": {
    "collapsed": false
   },
   "outputs": [],
   "source": [
    "cancer_feature_vector_validation = cancer_feature_vector_validation.fillna(0)\n",
    "cancer_matrix = cancer_feature_vector_validation.values[:,1:].astype(float)\n",
    "neutral_feature_vector_validation = neutral_feature_vector_validation.fillna(0)\n",
    "neutral_matrix = neutral_feature_vector_validation.values[:,1:].astype(float)\n",
    "validation_matrix = np.concatenate((cancer_matrix, neutral_matrix), axis=0)\n",
    "validation_key = [1 for gene in range(len(cancer_matrix))] + [0 for gene in range(len(neutral_matrix))]"
   ]
  },
  {
   "cell_type": "markdown",
   "metadata": {
    "collapsed": true
   },
   "source": [
    "####Let's also reformat our tcga gene data while we are at it."
   ]
  },
  {
   "cell_type": "code",
   "execution_count": 176,
   "metadata": {
    "collapsed": false
   },
   "outputs": [],
   "source": [
    "tcga_feature_vector = mutations.copy()\n",
    "tcga_feature_vector = tcga_feature_vector.dropna()\n",
    "tcga_matrix = tcga_feature_vector.values[:,1:].astype(float)"
   ]
  },
  {
   "cell_type": "markdown",
   "metadata": {},
   "source": [
    "####The data looks a little bit different now."
   ]
  },
  {
   "cell_type": "code",
   "execution_count": 177,
   "metadata": {
    "collapsed": false,
    "scrolled": true
   },
   "outputs": [
    {
     "name": "stdout",
     "output_type": "stream",
     "text": [
      "[[  23.     1.    14.2]\n",
      " [  14.     1.   319.2]\n",
      " [  13.     1.   172.6]\n",
      " ..., \n",
      " [   1.     1.   996.3]\n",
      " [   1.     1.   733.7]\n",
      " [   1.     1.   256.7]]\n"
     ]
    }
   ],
   "source": [
    "print tcga_matrix"
   ]
  },
  {
   "cell_type": "markdown",
   "metadata": {},
   "source": [
    "####Let's use a Random Forest to classify our mutated genes."
   ]
  },
  {
   "cell_type": "markdown",
   "metadata": {},
   "source": [
    "#####Scikit-learn: a library for machine learning in python"
   ]
  },
  {
   "cell_type": "code",
   "execution_count": 178,
   "metadata": {
    "collapsed": false
   },
   "outputs": [],
   "source": [
    "import sklearn as sk\n",
    "from sklearn.ensemble import RandomForestClassifier\n",
    "clf = RandomForestClassifier(n_estimators=100, min_samples_leaf=5)\n",
    "clf = clf.fit(training_matrix, training_assignments)"
   ]
  },
  {
   "cell_type": "code",
   "execution_count": 179,
   "metadata": {
    "collapsed": false
   },
   "outputs": [],
   "source": [
    "output = clf.predict(tcga_matrix)"
   ]
  },
  {
   "cell_type": "markdown",
   "metadata": {},
   "source": [
    "####We can save our classifier to be used later using scikit's joblib."
   ]
  },
  {
   "cell_type": "code",
   "execution_count": 180,
   "metadata": {
    "collapsed": true
   },
   "outputs": [],
   "source": [
    "from sklearn.externals import joblib\n",
    "save = joblib.dump(clf, 'classifiers/random_forest.pkl') "
   ]
  },
  {
   "cell_type": "markdown",
   "metadata": {},
   "source": [
    "####This is how we would re-load it."
   ]
  },
  {
   "cell_type": "code",
   "execution_count": 181,
   "metadata": {
    "collapsed": false,
    "scrolled": true
   },
   "outputs": [],
   "source": [
    "clf = joblib.load('classifiers/random_forest.pkl') "
   ]
  },
  {
   "cell_type": "markdown",
   "metadata": {},
   "source": [
    "####Scikit-learn can tell us how confident it is..."
   ]
  },
  {
   "cell_type": "code",
   "execution_count": 182,
   "metadata": {
    "collapsed": false
   },
   "outputs": [],
   "source": [
    "confidence = clf.predict_proba(tcga_matrix)"
   ]
  },
  {
   "cell_type": "code",
   "execution_count": 183,
   "metadata": {
    "collapsed": false,
    "scrolled": true
   },
   "outputs": [
    {
     "name": "stdout",
     "output_type": "stream",
     "text": [
      "[[ 0.52511905  0.47488095]\n",
      " [ 0.52511905  0.47488095]\n",
      " [ 0.52511905  0.47488095]\n",
      " [ 0.52511905  0.47488095]\n",
      " [ 0.52511905  0.47488095]\n",
      " [ 0.48283333  0.51716667]\n",
      " [ 0.52511905  0.47488095]\n",
      " [ 0.52511905  0.47488095]\n",
      " [ 0.52511905  0.47488095]\n",
      " [ 0.52511905  0.47488095]\n",
      " [ 0.52511905  0.47488095]\n",
      " [ 0.52511905  0.47488095]\n",
      " [ 0.52511905  0.47488095]\n",
      " [ 0.52511905  0.47488095]\n",
      " [ 0.52511905  0.47488095]\n",
      " [ 0.48283333  0.51716667]\n",
      " [ 0.48283333  0.51716667]\n",
      " [ 0.52511905  0.47488095]\n",
      " [ 0.52511905  0.47488095]\n",
      " [ 0.52511905  0.47488095]\n",
      " [ 0.52511905  0.47488095]\n",
      " [ 0.52511905  0.47488095]\n",
      " [ 0.48283333  0.51716667]\n",
      " [ 0.52511905  0.47488095]\n",
      " [ 0.52511905  0.47488095]\n",
      " [ 0.52511905  0.47488095]\n",
      " [ 0.52511905  0.47488095]\n",
      " [ 0.52511905  0.47488095]\n",
      " [ 0.48283333  0.51716667]\n",
      " [ 0.52511905  0.47488095]\n",
      " [ 0.52511905  0.47488095]\n",
      " [ 0.52511905  0.47488095]\n",
      " [ 0.52511905  0.47488095]\n",
      " [ 0.52511905  0.47488095]\n",
      " [ 0.52511905  0.47488095]\n",
      " [ 0.52511905  0.47488095]\n",
      " [ 0.52511905  0.47488095]\n",
      " [ 0.52511905  0.47488095]\n",
      " [ 0.48283333  0.51716667]\n",
      " [ 0.52511905  0.47488095]\n",
      " [ 0.52511905  0.47488095]\n",
      " [ 0.53216667  0.46783333]\n",
      " [ 0.53216667  0.46783333]\n",
      " [ 0.53216667  0.46783333]\n",
      " [ 0.48988095  0.51011905]\n",
      " [ 0.53216667  0.46783333]\n",
      " [ 0.53216667  0.46783333]\n",
      " [ 0.53216667  0.46783333]\n",
      " [ 0.53216667  0.46783333]\n",
      " [ 0.53216667  0.46783333]\n",
      " [ 0.53216667  0.46783333]\n",
      " [ 0.53216667  0.46783333]\n",
      " [ 0.53216667  0.46783333]\n",
      " [ 0.53216667  0.46783333]\n",
      " [ 0.53216667  0.46783333]\n",
      " [ 0.53216667  0.46783333]\n",
      " [ 0.53216667  0.46783333]\n",
      " [ 0.53216667  0.46783333]\n",
      " [ 0.48154762  0.51845238]\n",
      " [ 0.53216667  0.46783333]\n",
      " [ 0.53216667  0.46783333]\n",
      " [ 0.53216667  0.46783333]\n",
      " [ 0.53216667  0.46783333]\n",
      " [ 0.53216667  0.46783333]\n",
      " [ 0.53216667  0.46783333]\n",
      " [ 0.53216667  0.46783333]\n",
      " [ 0.48988095  0.51011905]\n",
      " [ 0.53216667  0.46783333]\n",
      " [ 0.53216667  0.46783333]\n",
      " [ 0.53216667  0.46783333]\n",
      " [ 0.48154762  0.51845238]\n",
      " [ 0.53216667  0.46783333]\n",
      " [ 0.53216667  0.46783333]\n",
      " [ 0.53216667  0.46783333]\n",
      " [ 0.53216667  0.46783333]\n",
      " [ 0.48154762  0.51845238]\n",
      " [ 0.53216667  0.46783333]\n",
      " [ 0.53216667  0.46783333]\n",
      " [ 0.53216667  0.46783333]\n",
      " [ 0.48988095  0.51011905]\n",
      " [ 0.53216667  0.46783333]\n",
      " [ 0.48154762  0.51845238]\n",
      " [ 0.53216667  0.46783333]\n",
      " [ 0.53216667  0.46783333]\n",
      " [ 0.53216667  0.46783333]\n",
      " [ 0.53216667  0.46783333]\n",
      " [ 0.48988095  0.51011905]\n",
      " [ 0.53216667  0.46783333]\n",
      " [ 0.53216667  0.46783333]\n",
      " [ 0.53216667  0.46783333]\n",
      " [ 0.53216667  0.46783333]\n",
      " [ 0.48988095  0.51011905]\n",
      " [ 0.53216667  0.46783333]\n",
      " [ 0.53216667  0.46783333]\n",
      " [ 0.53216667  0.46783333]\n",
      " [ 0.53216667  0.46783333]\n",
      " [ 0.49988095  0.50011905]\n",
      " [ 0.53216667  0.46783333]\n",
      " [ 0.53216667  0.46783333]\n",
      " [ 0.48988095  0.51011905]\n",
      " [ 0.53216667  0.46783333]\n",
      " [ 0.53216667  0.46783333]\n",
      " [ 0.48988095  0.51011905]\n",
      " [ 0.48154762  0.51845238]\n",
      " [ 0.53216667  0.46783333]\n",
      " [ 0.53216667  0.46783333]\n",
      " [ 0.53216667  0.46783333]\n",
      " [ 0.48154762  0.51845238]\n",
      " [ 0.53216667  0.46783333]\n",
      " [ 0.48988095  0.51011905]\n",
      " [ 0.53216667  0.46783333]\n",
      " [ 0.53216667  0.46783333]\n",
      " [ 0.53216667  0.46783333]\n",
      " [ 0.53216667  0.46783333]\n",
      " [ 0.53216667  0.46783333]\n",
      " [ 0.53216667  0.46783333]\n",
      " [ 0.53216667  0.46783333]\n",
      " [ 0.53216667  0.46783333]\n",
      " [ 0.53216667  0.46783333]\n",
      " [ 0.53216667  0.46783333]\n",
      " [ 0.53216667  0.46783333]\n",
      " [ 0.48988095  0.51011905]\n",
      " [ 0.48988095  0.51011905]\n",
      " [ 0.53216667  0.46783333]\n",
      " [ 0.53216667  0.46783333]\n",
      " [ 0.53216667  0.46783333]\n",
      " [ 0.53216667  0.46783333]\n",
      " [ 0.48154762  0.51845238]\n",
      " [ 0.53216667  0.46783333]\n",
      " [ 0.53216667  0.46783333]\n",
      " [ 0.53216667  0.46783333]\n",
      " [ 0.53216667  0.46783333]\n",
      " [ 0.48154762  0.51845238]\n",
      " [ 0.53216667  0.46783333]\n",
      " [ 0.53216667  0.46783333]\n",
      " [ 0.53216667  0.46783333]\n",
      " [ 0.53216667  0.46783333]\n",
      " [ 0.53216667  0.46783333]\n",
      " [ 0.53216667  0.46783333]\n",
      " [ 0.48988095  0.51011905]\n",
      " [ 0.53216667  0.46783333]\n",
      " [ 0.53216667  0.46783333]\n",
      " [ 0.53216667  0.46783333]\n",
      " [ 0.53216667  0.46783333]\n",
      " [ 0.53216667  0.46783333]\n",
      " [ 0.53216667  0.46783333]\n",
      " [ 0.53216667  0.46783333]\n",
      " [ 0.53216667  0.46783333]\n",
      " [ 0.53216667  0.46783333]\n",
      " [ 0.48154762  0.51845238]\n",
      " [ 0.53216667  0.46783333]\n",
      " [ 0.53216667  0.46783333]\n",
      " [ 0.53216667  0.46783333]\n",
      " [ 0.48988095  0.51011905]\n",
      " [ 0.48988095  0.51011905]\n",
      " [ 0.53216667  0.46783333]\n",
      " [ 0.53216667  0.46783333]\n",
      " [ 0.53216667  0.46783333]\n",
      " [ 0.53216667  0.46783333]\n",
      " [ 0.53216667  0.46783333]\n",
      " [ 0.53216667  0.46783333]\n",
      " [ 0.53216667  0.46783333]\n",
      " [ 0.53216667  0.46783333]\n",
      " [ 0.53216667  0.46783333]\n",
      " [ 0.53216667  0.46783333]\n",
      " [ 0.48154762  0.51845238]\n",
      " [ 0.53216667  0.46783333]\n",
      " [ 0.48988095  0.51011905]\n",
      " [ 0.53216667  0.46783333]\n",
      " [ 0.53216667  0.46783333]\n",
      " [ 0.53216667  0.46783333]\n",
      " [ 0.53216667  0.46783333]\n",
      " [ 0.53216667  0.46783333]\n",
      " [ 0.53216667  0.46783333]\n",
      " [ 0.53216667  0.46783333]\n",
      " [ 0.53216667  0.46783333]\n",
      " [ 0.48154762  0.51845238]\n",
      " [ 0.53216667  0.46783333]\n",
      " [ 0.53216667  0.46783333]\n",
      " [ 0.53216667  0.46783333]\n",
      " [ 0.53216667  0.46783333]\n",
      " [ 0.53216667  0.46783333]\n",
      " [ 0.53216667  0.46783333]\n",
      " [ 0.53216667  0.46783333]\n",
      " [ 0.53216667  0.46783333]\n",
      " [ 0.53216667  0.46783333]\n",
      " [ 0.53216667  0.46783333]\n",
      " [ 0.53216667  0.46783333]\n",
      " [ 0.48154762  0.51845238]\n",
      " [ 0.53216667  0.46783333]\n",
      " [ 0.53216667  0.46783333]\n",
      " [ 0.53216667  0.46783333]\n",
      " [ 0.53216667  0.46783333]\n",
      " [ 0.53216667  0.46783333]\n",
      " [ 0.53216667  0.46783333]\n",
      " [ 0.53216667  0.46783333]\n",
      " [ 0.53216667  0.46783333]\n",
      " [ 0.53216667  0.46783333]\n",
      " [ 0.53216667  0.46783333]\n",
      " [ 0.53216667  0.46783333]\n",
      " [ 0.48154762  0.51845238]\n",
      " [ 0.48154762  0.51845238]\n",
      " [ 0.48154762  0.51845238]\n",
      " [ 0.53216667  0.46783333]\n",
      " [ 0.53216667  0.46783333]\n",
      " [ 0.53216667  0.46783333]\n",
      " [ 0.53216667  0.46783333]\n",
      " [ 0.53216667  0.46783333]\n",
      " [ 0.53216667  0.46783333]\n",
      " [ 0.53216667  0.46783333]\n",
      " [ 0.53216667  0.46783333]\n",
      " [ 0.53216667  0.46783333]\n",
      " [ 0.53216667  0.46783333]\n",
      " [ 0.53216667  0.46783333]\n",
      " [ 0.53216667  0.46783333]\n",
      " [ 0.53216667  0.46783333]\n",
      " [ 0.53216667  0.46783333]\n",
      " [ 0.53216667  0.46783333]\n",
      " [ 0.48988095  0.51011905]\n",
      " [ 0.53216667  0.46783333]\n",
      " [ 0.53216667  0.46783333]\n",
      " [ 0.53216667  0.46783333]\n",
      " [ 0.53216667  0.46783333]\n",
      " [ 0.48154762  0.51845238]\n",
      " [ 0.53216667  0.46783333]\n",
      " [ 0.48988095  0.51011905]\n",
      " [ 0.53216667  0.46783333]\n",
      " [ 0.53216667  0.46783333]\n",
      " [ 0.53216667  0.46783333]\n",
      " [ 0.53216667  0.46783333]\n",
      " [ 0.53216667  0.46783333]\n",
      " [ 0.53216667  0.46783333]\n",
      " [ 0.53216667  0.46783333]\n",
      " [ 0.53216667  0.46783333]\n",
      " [ 0.53216667  0.46783333]\n",
      " [ 0.53216667  0.46783333]\n",
      " [ 0.53216667  0.46783333]\n",
      " [ 0.53216667  0.46783333]\n",
      " [ 0.53216667  0.46783333]\n",
      " [ 0.53216667  0.46783333]\n",
      " [ 0.48154762  0.51845238]\n",
      " [ 0.48154762  0.51845238]\n",
      " [ 0.53216667  0.46783333]\n",
      " [ 0.53216667  0.46783333]\n",
      " [ 0.53216667  0.46783333]\n",
      " [ 0.48988095  0.51011905]\n",
      " [ 0.53216667  0.46783333]\n",
      " [ 0.53216667  0.46783333]\n",
      " [ 0.53216667  0.46783333]\n",
      " [ 0.48988095  0.51011905]\n",
      " [ 0.53216667  0.46783333]\n",
      " [ 0.53216667  0.46783333]\n",
      " [ 0.53216667  0.46783333]\n",
      " [ 0.48988095  0.51011905]\n",
      " [ 0.53216667  0.46783333]\n",
      " [ 0.53216667  0.46783333]\n",
      " [ 0.53216667  0.46783333]\n",
      " [ 0.53216667  0.46783333]\n",
      " [ 0.53216667  0.46783333]\n",
      " [ 0.53216667  0.46783333]\n",
      " [ 0.53216667  0.46783333]\n",
      " [ 0.53216667  0.46783333]\n",
      " [ 0.53216667  0.46783333]\n",
      " [ 0.53216667  0.46783333]\n",
      " [ 0.53216667  0.46783333]\n",
      " [ 0.53216667  0.46783333]\n",
      " [ 0.53216667  0.46783333]\n",
      " [ 0.53216667  0.46783333]\n",
      " [ 0.53216667  0.46783333]\n",
      " [ 0.53216667  0.46783333]\n",
      " [ 0.53216667  0.46783333]\n",
      " [ 0.53216667  0.46783333]\n",
      " [ 0.53216667  0.46783333]\n",
      " [ 0.53216667  0.46783333]\n",
      " [ 0.53216667  0.46783333]\n",
      " [ 0.53216667  0.46783333]\n",
      " [ 0.48988095  0.51011905]\n",
      " [ 0.48154762  0.51845238]\n",
      " [ 0.53216667  0.46783333]\n",
      " [ 0.53216667  0.46783333]\n",
      " [ 0.53216667  0.46783333]\n",
      " [ 0.53216667  0.46783333]\n",
      " [ 0.53216667  0.46783333]\n",
      " [ 0.53216667  0.46783333]\n",
      " [ 0.48154762  0.51845238]\n",
      " [ 0.53216667  0.46783333]\n",
      " [ 0.53216667  0.46783333]\n",
      " [ 0.53216667  0.46783333]\n",
      " [ 0.53216667  0.46783333]\n",
      " [ 0.53216667  0.46783333]\n",
      " [ 0.53216667  0.46783333]\n",
      " [ 0.53216667  0.46783333]\n",
      " [ 0.53216667  0.46783333]\n",
      " [ 0.53216667  0.46783333]\n",
      " [ 0.48154762  0.51845238]\n",
      " [ 0.53216667  0.46783333]\n",
      " [ 0.53216667  0.46783333]\n",
      " [ 0.53216667  0.46783333]\n",
      " [ 0.53216667  0.46783333]\n",
      " [ 0.48988095  0.51011905]\n",
      " [ 0.53216667  0.46783333]\n",
      " [ 0.53216667  0.46783333]\n",
      " [ 0.53216667  0.46783333]\n",
      " [ 0.53216667  0.46783333]\n",
      " [ 0.53216667  0.46783333]\n",
      " [ 0.53216667  0.46783333]\n",
      " [ 0.53216667  0.46783333]\n",
      " [ 0.53216667  0.46783333]\n",
      " [ 0.53216667  0.46783333]\n",
      " [ 0.53216667  0.46783333]\n",
      " [ 0.53216667  0.46783333]\n",
      " [ 0.53216667  0.46783333]\n",
      " [ 0.53216667  0.46783333]\n",
      " [ 0.53216667  0.46783333]\n",
      " [ 0.53216667  0.46783333]\n",
      " [ 0.53216667  0.46783333]\n",
      " [ 0.53216667  0.46783333]\n",
      " [ 0.53216667  0.46783333]\n",
      " [ 0.53216667  0.46783333]\n",
      " [ 0.48988095  0.51011905]\n",
      " [ 0.53216667  0.46783333]\n",
      " [ 0.53216667  0.46783333]\n",
      " [ 0.53216667  0.46783333]\n",
      " [ 0.53216667  0.46783333]\n",
      " [ 0.53216667  0.46783333]\n",
      " [ 0.53216667  0.46783333]\n",
      " [ 0.53216667  0.46783333]\n",
      " [ 0.53216667  0.46783333]\n",
      " [ 0.48988095  0.51011905]\n",
      " [ 0.53216667  0.46783333]\n",
      " [ 0.53216667  0.46783333]\n",
      " [ 0.53216667  0.46783333]\n",
      " [ 0.48988095  0.51011905]\n",
      " [ 0.53216667  0.46783333]\n",
      " [ 0.53216667  0.46783333]\n",
      " [ 0.53216667  0.46783333]\n",
      " [ 0.53216667  0.46783333]\n",
      " [ 0.48988095  0.51011905]\n",
      " [ 0.53216667  0.46783333]\n",
      " [ 0.48988095  0.51011905]\n",
      " [ 0.53216667  0.46783333]\n",
      " [ 0.53216667  0.46783333]]\n"
     ]
    }
   ],
   "source": [
    "print confidence"
   ]
  },
  {
   "cell_type": "markdown",
   "metadata": {},
   "source": [
    "####Okay, so this classifier kinda sucks. Let's continue anyway."
   ]
  },
  {
   "cell_type": "code",
   "execution_count": 184,
   "metadata": {
    "collapsed": false,
    "scrolled": true
   },
   "outputs": [
    {
     "name": "stdout",
     "output_type": "stream",
     "text": [
      "288\n",
      "54\n"
     ]
    }
   ],
   "source": [
    "print list(output).count(0)\n",
    "print list(output).count(1)"
   ]
  },
  {
   "cell_type": "markdown",
   "metadata": {},
   "source": [
    "####It performs pretty well on our TINY validation set though. Can anyone guess why?"
   ]
  },
  {
   "cell_type": "code",
   "execution_count": 185,
   "metadata": {
    "collapsed": false,
    "scrolled": true
   },
   "outputs": [
    {
     "name": "stdout",
     "output_type": "stream",
     "text": [
      "[1, 1, 0, 0, 0]\n",
      "[1, 1, 0, 0, 0]\n"
     ]
    }
   ],
   "source": [
    "validation_predictions = clf.predict(validation_matrix)\n",
    "print list(validation_predictions)\n",
    "print validation_key"
   ]
  },
  {
   "cell_type": "markdown",
   "metadata": {},
   "source": [
    "####Here's some information about the driver genes and the passenger genes"
   ]
  },
  {
   "cell_type": "code",
   "execution_count": 186,
   "metadata": {
    "collapsed": false,
    "scrolled": false
   },
   "outputs": [
    {
     "data": {
      "text/html": [
       "<div style=\"max-height:1000px;max-width:1500px;overflow:auto;\">\n",
       "<table border=\"1\" class=\"dataframe\">\n",
       "  <thead>\n",
       "    <tr style=\"text-align: right;\">\n",
       "      <th></th>\n",
       "      <th>Entrez_Gene_Id</th>\n",
       "      <th>counts</th>\n",
       "      <th>Perc_Bi_Allelic</th>\n",
       "      <th>Density</th>\n",
       "    </tr>\n",
       "  </thead>\n",
       "  <tbody>\n",
       "    <tr>\n",
       "      <th>count</th>\n",
       "      <td>     8.00000</td>\n",
       "      <td>   8.000000</td>\n",
       "      <td> 8.000000</td>\n",
       "      <td>    8.000000</td>\n",
       "    </tr>\n",
       "    <tr>\n",
       "      <th>mean</th>\n",
       "      <td>  5913.25000</td>\n",
       "      <td>  71.375000</td>\n",
       "      <td> 0.443750</td>\n",
       "      <td> 1527.862500</td>\n",
       "    </tr>\n",
       "    <tr>\n",
       "      <th>std</th>\n",
       "      <td>  7355.63323</td>\n",
       "      <td> 166.122964</td>\n",
       "      <td> 0.179878</td>\n",
       "      <td>  280.582572</td>\n",
       "    </tr>\n",
       "    <tr>\n",
       "      <th>min</th>\n",
       "      <td>   207.00000</td>\n",
       "      <td>   1.000000</td>\n",
       "      <td> 0.000000</td>\n",
       "      <td> 1035.300000</td>\n",
       "    </tr>\n",
       "    <tr>\n",
       "      <th>25%</th>\n",
       "      <td>  2617.00000</td>\n",
       "      <td>   2.000000</td>\n",
       "      <td> 0.500000</td>\n",
       "      <td> 1320.200000</td>\n",
       "    </tr>\n",
       "    <tr>\n",
       "      <th>50%</th>\n",
       "      <td>  4369.00000</td>\n",
       "      <td>   4.000000</td>\n",
       "      <td> 0.500000</td>\n",
       "      <td> 1602.750000</td>\n",
       "    </tr>\n",
       "    <tr>\n",
       "      <th>75%</th>\n",
       "      <td>  5399.50000</td>\n",
       "      <td>  31.500000</td>\n",
       "      <td> 0.502083</td>\n",
       "      <td> 1751.150000</td>\n",
       "    </tr>\n",
       "    <tr>\n",
       "      <th>max</th>\n",
       "      <td> 23405.00000</td>\n",
       "      <td> 480.000000</td>\n",
       "      <td> 0.541667</td>\n",
       "      <td> 1824.500000</td>\n",
       "    </tr>\n",
       "  </tbody>\n",
       "</table>\n",
       "</div>"
      ],
      "text/plain": [
       "       Entrez_Gene_Id      counts  Perc_Bi_Allelic      Density\n",
       "count         8.00000    8.000000         8.000000     8.000000\n",
       "mean       5913.25000   71.375000         0.443750  1527.862500\n",
       "std        7355.63323  166.122964         0.179878   280.582572\n",
       "min         207.00000    1.000000         0.000000  1035.300000\n",
       "25%        2617.00000    2.000000         0.500000  1320.200000\n",
       "50%        4369.00000    4.000000         0.500000  1602.750000\n",
       "75%        5399.50000   31.500000         0.502083  1751.150000\n",
       "max       23405.00000  480.000000         0.541667  1824.500000"
      ]
     },
     "execution_count": 186,
     "metadata": {},
     "output_type": "execute_result"
    }
   ],
   "source": [
    "cancer_feature_vector = pd.concat([cancer_feature_vector_training, cancer_feature_vector_validation])\n",
    "cancer_feature_vector.describe()"
   ]
  },
  {
   "cell_type": "code",
   "execution_count": 128,
   "metadata": {
    "collapsed": false,
    "scrolled": false
   },
   "outputs": [
    {
     "data": {
      "text/html": [
       "<div style=\"max-height:1000px;max-width:1500px;overflow:auto;\">\n",
       "<table border=\"1\" class=\"dataframe\">\n",
       "  <thead>\n",
       "    <tr style=\"text-align: right;\">\n",
       "      <th></th>\n",
       "      <th>Entrez_Gene_Id</th>\n",
       "      <th>counts</th>\n",
       "      <th>Perc_Bi_Allelic</th>\n",
       "      <th>Density</th>\n",
       "    </tr>\n",
       "  </thead>\n",
       "  <tbody>\n",
       "    <tr>\n",
       "      <th>count</th>\n",
       "      <td>      9.000000</td>\n",
       "      <td> 9.000000</td>\n",
       "      <td> 9</td>\n",
       "      <td>    9.000000</td>\n",
       "    </tr>\n",
       "    <tr>\n",
       "      <th>mean</th>\n",
       "      <td>  98423.777778</td>\n",
       "      <td> 2.777778</td>\n",
       "      <td> 1</td>\n",
       "      <td>  249.322222</td>\n",
       "    </tr>\n",
       "    <tr>\n",
       "      <th>std</th>\n",
       "      <td> 143824.453413</td>\n",
       "      <td> 1.922094</td>\n",
       "      <td> 0</td>\n",
       "      <td>  367.367816</td>\n",
       "    </tr>\n",
       "    <tr>\n",
       "      <th>min</th>\n",
       "      <td>    143.000000</td>\n",
       "      <td> 1.000000</td>\n",
       "      <td> 1</td>\n",
       "      <td>    0.000000</td>\n",
       "    </tr>\n",
       "    <tr>\n",
       "      <th>25%</th>\n",
       "      <td>   2312.000000</td>\n",
       "      <td> 1.000000</td>\n",
       "      <td> 1</td>\n",
       "      <td>    1.500000</td>\n",
       "    </tr>\n",
       "    <tr>\n",
       "      <th>50%</th>\n",
       "      <td>   5545.000000</td>\n",
       "      <td> 3.000000</td>\n",
       "      <td> 1</td>\n",
       "      <td>   97.700000</td>\n",
       "    </tr>\n",
       "    <tr>\n",
       "      <th>75%</th>\n",
       "      <td> 113146.000000</td>\n",
       "      <td> 4.000000</td>\n",
       "      <td> 1</td>\n",
       "      <td>  212.700000</td>\n",
       "    </tr>\n",
       "    <tr>\n",
       "      <th>max</th>\n",
       "      <td> 388646.000000</td>\n",
       "      <td> 6.000000</td>\n",
       "      <td> 1</td>\n",
       "      <td> 1030.300000</td>\n",
       "    </tr>\n",
       "  </tbody>\n",
       "</table>\n",
       "</div>"
      ],
      "text/plain": [
       "       Entrez_Gene_Id    counts  Perc_Bi_Allelic      Density\n",
       "count        9.000000  9.000000                9     9.000000\n",
       "mean     98423.777778  2.777778                1   249.322222\n",
       "std     143824.453413  1.922094                0   367.367816\n",
       "min        143.000000  1.000000                1     0.000000\n",
       "25%       2312.000000  1.000000                1     1.500000\n",
       "50%       5545.000000  3.000000                1    97.700000\n",
       "75%     113146.000000  4.000000                1   212.700000\n",
       "max     388646.000000  6.000000                1  1030.300000"
      ]
     },
     "execution_count": 128,
     "metadata": {},
     "output_type": "execute_result"
    }
   ],
   "source": [
    "neutral_feature_vector = pd.concat([neutral_feature_vector_training, neutral_feature_vector_validation])\n",
    "neutral_feature_vector.describe()"
   ]
  },
  {
   "cell_type": "markdown",
   "metadata": {},
   "source": [
    "####Density appears to be the big differentiator. Let's plot it to get a better idea."
   ]
  },
  {
   "cell_type": "code",
   "execution_count": 129,
   "metadata": {
    "collapsed": false,
    "scrolled": true
   },
   "outputs": [
    {
     "data": {
      "text/plain": [
       "<matplotlib.legend.Legend at 0x11c6940d0>"
      ]
     },
     "execution_count": 129,
     "metadata": {},
     "output_type": "execute_result"
    },
    {
     "data": {
      "image/png": "[encoded data removed]",
      "text/plain": [
       "<matplotlib.figure.Figure at 0x116ae17d0>"
      ]
     },
     "metadata": {},
     "output_type": "display_data"
    }
   ],
   "source": [
    "ax = cancer_feature_vector.Density.hist(normed=True, alpha=0.5, color='b', label='Driver')\n",
    "neutral_feature_vector.Density.hist(normed=True, alpha=0.5, ax=ax, color='g', label='Passenger')\n",
    "ax.set_xlabel(\"Density\")\n",
    "ax.set_ylabel(\"Frequency\")\n",
    "patches, labels = ax.get_legend_handles_labels()\n",
    "ax.legend(patches, labels, loc=9)"
   ]
  },
  {
   "cell_type": "markdown",
   "metadata": {},
   "source": [
    "#This is supposed to be bioinformatics, right? Where's the biology?"
   ]
  },
  {
   "cell_type": "markdown",
   "metadata": {},
   "source": [
    "####Luckily, we can find out a little bit of information about some of our predicted genes."
   ]
  },
  {
   "cell_type": "code",
   "execution_count": 130,
   "metadata": {
    "collapsed": false
   },
   "outputs": [
    {
     "data": {
      "text/html": [
       "<div style=\"max-height:1000px;max-width:1500px;overflow:auto;\">\n",
       "<table border=\"1\" class=\"dataframe\">\n",
       "  <thead>\n",
       "    <tr style=\"text-align: right;\">\n",
       "      <th></th>\n",
       "      <th>Entrez_Gene_Id</th>\n",
       "      <th>counts</th>\n",
       "      <th>Perc_Bi_Allelic</th>\n",
       "      <th>Density</th>\n",
       "      <th>output</th>\n",
       "    </tr>\n",
       "  </thead>\n",
       "  <tbody>\n",
       "    <tr>\n",
       "      <th>1 </th>\n",
       "      <td> 94025</td>\n",
       "      <td> 23</td>\n",
       "      <td> 1</td>\n",
       "      <td>  14.2</td>\n",
       "      <td> 0</td>\n",
       "    </tr>\n",
       "    <tr>\n",
       "      <th>12</th>\n",
       "      <td>  5314</td>\n",
       "      <td> 14</td>\n",
       "      <td> 1</td>\n",
       "      <td> 319.2</td>\n",
       "      <td> 0</td>\n",
       "    </tr>\n",
       "    <tr>\n",
       "      <th>19</th>\n",
       "      <td>  7399</td>\n",
       "      <td> 13</td>\n",
       "      <td> 1</td>\n",
       "      <td> 172.6</td>\n",
       "      <td> 0</td>\n",
       "    </tr>\n",
       "    <tr>\n",
       "      <th>23</th>\n",
       "      <td>  6708</td>\n",
       "      <td> 11</td>\n",
       "      <td> 1</td>\n",
       "      <td> 401.0</td>\n",
       "      <td> 0</td>\n",
       "    </tr>\n",
       "    <tr>\n",
       "      <th>31</th>\n",
       "      <td> 84033</td>\n",
       "      <td> 11</td>\n",
       "      <td> 1</td>\n",
       "      <td> 189.8</td>\n",
       "      <td> 0</td>\n",
       "    </tr>\n",
       "  </tbody>\n",
       "</table>\n",
       "</div>"
      ],
      "text/plain": [
       "    Entrez_Gene_Id  counts  Perc_Bi_Allelic  Density  output\n",
       "1            94025      23                1     14.2       0\n",
       "12            5314      14                1    319.2       0\n",
       "19            7399      13                1    172.6       0\n",
       "23            6708      11                1    401.0       0\n",
       "31           84033      11                1    189.8       0"
      ]
     },
     "execution_count": 130,
     "metadata": {},
     "output_type": "execute_result"
    }
   ],
   "source": [
    "tcga_feature_vector['output'] = pd.Series(output)\n",
    "tcga_feature_vector.head()"
   ]
  },
  {
   "cell_type": "markdown",
   "metadata": {},
   "source": [
    "####Let's isolate the genes that are predicted to drive cancer."
   ]
  },
  {
   "cell_type": "code",
   "execution_count": 131,
   "metadata": {
    "collapsed": false
   },
   "outputs": [],
   "source": [
    "predicted_cancer_genes = list(tcga_feature_vector[tcga_feature_vector.output == 1].Entrez_Gene_Id)[:10]"
   ]
  },
  {
   "cell_type": "markdown",
   "metadata": {
    "collapsed": true
   },
   "source": [
    "####We can query the NCBI entrez database directly from a python notebook to look at their functions."
   ]
  },
  {
   "cell_type": "markdown",
   "metadata": {},
   "source": [
    "#####Biopython: a library that does several useful bioinformaticsy things"
   ]
  },
  {
   "cell_type": "code",
   "execution_count": 132,
   "metadata": {
    "collapsed": false
   },
   "outputs": [],
   "source": [
    "from Bio import Entrez\n",
    "Entrez.email = \"ramarty@ucsd.edu\"\n",
    "summaries = {}\n",
    "for gene in predicted_cancer_genes:\n",
    "    handle = Entrez.esummary(db=\"gene\", id=int(gene), rettype=\"gb\", retmode=\"text\")\n",
    "    soup = BeautifulSoup(handle.read(), 'xml')\n",
    "    summaries[gene] = [str(soup.find('NomenclatureSymbol').string), str(soup.find('Summary').string)]"
   ]
  },
  {
   "cell_type": "code",
   "execution_count": 133,
   "metadata": {
    "collapsed": false
   },
   "outputs": [
    {
     "ename": "IndexError",
     "evalue": "list index out of range",
     "output_type": "error",
     "traceback": [
      "\u001b[0;31m---------------------------------------------------------------------------\u001b[0m",
      "\u001b[0;31mIndexError\u001b[0m                                Traceback (most recent call last)",
      "\u001b[0;32m<ipython-input-133-ec278b208568>\u001b[0m in \u001b[0;36m<module>\u001b[0;34m()\u001b[0m\n\u001b[0;32m----> 1\u001b[0;31m \u001b[0;32mprint\u001b[0m \u001b[0msummaries\u001b[0m\u001b[0;34m[\u001b[0m\u001b[0mpredicted_cancer_genes\u001b[0m\u001b[0;34m[\u001b[0m\u001b[0;36m0\u001b[0m\u001b[0;34m]\u001b[0m\u001b[0;34m]\u001b[0m\u001b[0;34m\u001b[0m\u001b[0m\n\u001b[0m",
      "\u001b[0;31mIndexError\u001b[0m: list index out of range"
     ]
    }
   ],
   "source": [
    "print summaries[predicted_cancer_genes[0]]"
   ]
  },
  {
   "cell_type": "markdown",
   "metadata": {},
   "source": [
    "###Also check out these useful libraries\n",
    "* cython - a python to C source code translator; could be used to speed up your code\n",
    "* Rpy2 - integrate your R code with python code\n",
    "* sqlite - interact with a sql database\n",
    "* scikit-bio - still in beta, but has promise\n",
    "* future - division, print"
   ]
  },
  {
   "cell_type": "code",
   "execution_count": 78,
   "metadata": {
    "collapsed": false
   },
   "outputs": [
    {
     "data": {
      "text/plain": [
       "1"
      ]
     },
     "execution_count": 78,
     "metadata": {},
     "output_type": "execute_result"
    }
   ],
   "source": [
    "8/7"
   ]
  },
  {
   "cell_type": "code",
   "execution_count": 282,
   "metadata": {
    "collapsed": false
   },
   "outputs": [
    {
     "data": {
      "text/plain": [
       "1.1428571428571428"
      ]
     },
     "execution_count": 282,
     "metadata": {},
     "output_type": "execute_result"
    }
   ],
   "source": [
    "from __future__ import division\n",
    "8/7"
   ]
  },
  {
   "cell_type": "code",
   "execution_count": null,
   "metadata": {
    "collapsed": true
   },
   "outputs": [],
   "source": []
  }
 ],
 "metadata": {
  "kernelspec": {
   "display_name": "Python 2",
   "language": "python",
   "name": "python2"
  },
  "language_info": {
   "codemirror_mode": {
    "name": "ipython",
    "version": 2
   },
   "file_extension": ".py",
   "mimetype": "text/x-python",
   "name": "python",
   "nbconvert_exporter": "python",
   "pygments_lexer": "ipython2",
   "version": "2.7.7"
  }
 },
 "nbformat": 4,
 "nbformat_minor": 0
}
