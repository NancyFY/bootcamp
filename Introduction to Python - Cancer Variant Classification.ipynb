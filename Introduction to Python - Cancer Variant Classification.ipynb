{
 "cells": [
  {
   "cell_type": "markdown",
   "metadata": {},
   "source": [
    "#Why should I bother learning python?"
   ]
  },
  {
   "cell_type": "markdown",
   "metadata": {},
   "source": [
    "<img src=\"images/cartoon.jpeg\">"
   ]
  },
  {
   "cell_type": "markdown",
   "metadata": {},
   "source": [
    "###Most coding languages have advantages for specific use cases... LOLCODE does not.\n",
    "<img src=\"images/lolcode.png\" width=\"50%\" height=\"50%\">\n",
    "<img src=\"images/lolcode_example.png\" width=\"50%\" height=\"50%\">\n",
    "###This lecture will be addressing the advantages of python for bioinformatics data analysis coding environments."
   ]
  },
  {
   "cell_type": "markdown",
   "metadata": {},
   "source": [
    "###Fast Development\n",
    "* script language\n",
    "* dynamic typing\n",
    "* built in high level data types\n",
    "* huge standard library\n",
    "<img src=\"images/java.png\" width=\"50%\" height=\"50%\"><img src=\"images/python.png\" width=\"50%\" height=\"50%\">\n",
    "\n",
    "###Very little overhead\n",
    "* no compile setup - write your code in my_program.py and run it with python my_program.py\n",
    "* no memory management\n",
    "\n",
    "###Community support\n",
    "* huge bioinformatics toolset of libraries built in python\n",
    "* most of your questions will already be anwered on stack overflow\n",
    "* most of your colleagues will code in python, so sharing code will be simplier \n",
    "* integrates well with other languages\n",
    "\n",
    "<img src=\"images/community.png\">\n",
    "\n",
    "###Readability\n",
    "* easy to intepret what you are doing based on code\n",
    "\n",
    "###Drawbacks\n",
    "* programs run slower\n",
    "* less flexibility\n"
   ]
  },
  {
   "cell_type": "markdown",
   "metadata": {},
   "source": [
    "#\"I would love to be able to interact with this code as Rachel talks... How can I do that?\""
   ]
  },
  {
   "cell_type": "markdown",
   "metadata": {},
   "source": [
    "You're in luck! iPython (which stands for \"interactive Python\") has a notebook format which is easy to open and edit.\n",
    "\n",
    "###To Open:\n",
    "If you have downloaded the Anaconda distribution, you should already have ipython notebooks at your commandline.\n",
    "\n",
    "To check if you are using the Anaconda distribution, type the following at the command line:\n",
    "```\n",
    "$ which python\n",
    "```\n",
    "\n",
    "The response should be something like the following:\n",
    "```\n",
    "/Applications/anaconda/bin/python\n",
    "```\n",
    "\n",
    "Clone into my github repository:\n",
    "```\n",
    "git clone https://github.com/Rachelmarty20/bootcamp.git\n",
    "```\n",
    "\n",
    "Move into the direcory (I think):\n",
    "```\n",
    "cd bootcamp\n",
    "```\n",
    "\n",
    "Next, open an ipython notebook:\n",
    "```\n",
    "$ ipython notebook\n",
    "```\n",
    "<img src=\"images/ipy_notebook_start.png\">\n",
    "\n",
    "Select the \"Introduction to Python - Cancer Variant Classification\" notebook.\n",
    "\n",
    "###To Edit:\n",
    "\n",
    "Double click on any cell.\n",
    "\n",
    "### To Run:\n",
    "\n",
    "Select Cell -> Run from menu or click triangle or learn <a href=\"http://johnlaudun.org/20131228-ipython-notebook-keyboard-shortcuts/\">shortcuts</a>."
   ]
  },
  {
   "cell_type": "markdown",
   "metadata": {},
   "source": [
    "#Cancer Variant Classification\n",
    "\n",
    "Cancer is caused by variations in the genome. However, patients have thousands of germline variants and hundreds of somatic mutations. \n",
    "\n",
    "###Can we predict which somatic mutations \"drive\" cancer and which are just \"passengers\"?\n",
    "\n",
    "We will be working with The Cancer Genome Atlast (TCGA), which is a large cancer data set used in lots of cancer research. \n",
    "\n",
    "<img src=\"images/tcga.jpg\">"
   ]
  },
  {
   "cell_type": "markdown",
   "metadata": {},
   "source": [
    "##Let's start by getting the mutation calls\n",
    "\n",
    "These are stored in Mutation Annotation Format (MAF). Shout out to <a href=\"https://github.com/theandygross/TCGA\">Andy Gross</a> for some of this code."
   ]
  },
  {
   "cell_type": "markdown",
   "metadata": {},
   "source": [
    "###Warning:\n",
    "Here I download updated clinical data from the TCGA Data Portal. This is a secure site which uses HTTPS. I had to give it a path to my ca-cert for the download to work. Download a copy of a generic cacert.pem [here](http://curl.haxx.se/ca/cacert.pem)."
   ]
  },
  {
   "cell_type": "code",
   "execution_count": 87,
   "metadata": {
    "collapsed": true
   },
   "outputs": [],
   "source": [
    "PATH_TO_CACERT = 'cacert.pem'"
   ]
  },
  {
   "cell_type": "markdown",
   "metadata": {},
   "source": [
    "####os - a standard library that fascilitates communication with the operating system"
   ]
  },
  {
   "cell_type": "code",
   "execution_count": 88,
   "metadata": {
    "collapsed": false
   },
   "outputs": [],
   "source": [
    "import os\n",
    "out_path = 'mafs'\n",
    "if not os.path.isdir(out_path):\n",
    "    os.makedirs(out_path)"
   ]
  },
  {
   "cell_type": "code",
   "execution_count": 89,
   "metadata": {
    "collapsed": true
   },
   "outputs": [],
   "source": [
    "maf_dashboard = 'https://confluence.broadinstitute.org/display/GDAC/MAF+Dashboard'"
   ]
  },
  {
   "cell_type": "markdown",
   "metadata": {},
   "source": [
    "####'!' allows you to write bash directly to the command line;  python variables can be used with the '$' symbol"
   ]
  },
  {
   "cell_type": "code",
   "execution_count": 90,
   "metadata": {
    "collapsed": false,
    "scrolled": true
   },
   "outputs": [
    {
     "name": "stdout",
     "output_type": "stream",
     "text": [
      "  % Total    % Received % Xferd  Average Speed   Time    Time     Time  Current\n",
      "                                 Dload  Upload   Total   Spent    Left  Speed\n",
      "100  187k    0  187k    0     0  68627      0 --:--:--  0:00:02 --:--:-- 68620\n"
     ]
    }
   ],
   "source": [
    "! curl --cacert $PATH_TO_CACERT $maf_dashboard -o tmp.html"
   ]
  },
  {
   "cell_type": "markdown",
   "metadata": {},
   "source": [
    "####bs4 (BeautifulSoup) - a library for parsing HTML and XML files"
   ]
  },
  {
   "cell_type": "code",
   "execution_count": 91,
   "metadata": {
    "collapsed": false
   },
   "outputs": [],
   "source": [
    "from bs4 import BeautifulSoup\n",
    "f = open('tmp.html', 'rb').read()\n",
    "soup = BeautifulSoup(f)"
   ]
  },
  {
   "cell_type": "code",
   "execution_count": 92,
   "metadata": {
    "collapsed": true
   },
   "outputs": [],
   "source": [
    "r = [l.get('href') for l in soup.find_all('a')\n",
    "   if l.get('href') != None\n",
    "   and '.maf' in l.get('href')]"
   ]
  },
  {
   "cell_type": "markdown",
   "metadata": {},
   "source": [
    "####Note: we are only using one of the maf files for the sake of this lecture because it takes a while to download all of them"
   ]
  },
  {
   "cell_type": "code",
   "execution_count": 93,
   "metadata": {
    "collapsed": false
   },
   "outputs": [
    {
     "name": "stdout",
     "output_type": "stream",
     "text": [
      "https://tcga-data.nci.nih.gov/tcgafiles/ftp_auth/distro_ftpusers/anonymous/tumor/kirp/gsc/broad.mit.edu/illuminaga_dnaseq/mutations/broad.mit.edu_KIRP.IlluminaGA_DNASeq.Level_2.0.3.0/PR_TCGA_KIRP_PAIR_Capture_All_Pairs_QCPASS_v3.aggregated.capture.tcga.uuid.somatic.maf\n"
     ]
    }
   ],
   "source": [
    "a_maf_file = r[50]\n",
    "print a_maf_file"
   ]
  },
  {
   "cell_type": "code",
   "execution_count": 94,
   "metadata": {
    "collapsed": false,
    "scrolled": true
   },
   "outputs": [
    {
     "name": "stdout",
     "output_type": "stream",
     "text": [
      "  % Total    % Received % Xferd  Average Speed   Time    Time     Time  Current\n",
      "                                 Dload  Upload   Total   Spent    Left  Speed\n",
      "100  9.9M  100  9.9M    0     0  2484k      0  0:00:04  0:00:04 --:--:-- 2485k\n"
     ]
    }
   ],
   "source": [
    "! curl $a_maf_file > mafs/a_maf_file.tsv"
   ]
  },
  {
   "cell_type": "markdown",
   "metadata": {},
   "source": [
    "##Detour:\n",
    "###pandas - library for high performance data structures and data analysis \n",
    "\n",
    "<img src=\"images/pandas_real.jpg\">\n",
    "\n",
    "\n",
    "(will likely become your best friend - bite the bullet and learn how to use it as soon as possible)\n",
    "\n",
    "###Some things to know about pandas before we dive in:\n",
    "\n",
    "* It is built on top of numpy (numerical python), which allows you to do some fancy things with numbers and sequences"
   ]
  },
  {
   "cell_type": "code",
   "execution_count": 95,
   "metadata": {
    "collapsed": false
   },
   "outputs": [
    {
     "name": "stdout",
     "output_type": "stream",
     "text": [
      "x: [2 7 5]\n"
     ]
    }
   ],
   "source": [
    "import numpy as np\n",
    "# a one dimensional array\n",
    "x = np.array([2, 7, 5])\n",
    "print 'x:', x"
   ]
  },
  {
   "cell_type": "code",
   "execution_count": 96,
   "metadata": {
    "collapsed": false
   },
   "outputs": [
    {
     "name": "stdout",
     "output_type": "stream",
     "text": [
      "y: [ 4  7 10]\n"
     ]
    }
   ],
   "source": [
    "# a sequence starting from 4 to 12 with a step size of 3\n",
    "y = np.arange(4, 12, 3)\n",
    "print 'y:', y"
   ]
  },
  {
   "cell_type": "code",
   "execution_count": 97,
   "metadata": {
    "collapsed": false
   },
   "outputs": [
    {
     "name": "stdout",
     "output_type": "stream",
     "text": [
      "x + y: [ 6 14 15]\n",
      "x / y: [0 1 0]\n",
      "x ^ y: [     16  823543 9765625]\n"
     ]
    }
   ],
   "source": [
    "# element-wise operations on arrays\n",
    "print 'x + y:', x + y\n",
    "print 'x / y:', x / y\n",
    "print 'x ^ y:', x ** y "
   ]
  },
  {
   "cell_type": "markdown",
   "metadata": {},
   "source": [
    "* it also integrates well with scipy (scientific python), which will be your best resource for any complex statistics\n",
    "* let's also just introduce matplotlib while we are at it - pyplot is one of the most popular plotting tools in python"
   ]
  },
  {
   "cell_type": "code",
   "execution_count": 98,
   "metadata": {
    "collapsed": false
   },
   "outputs": [
    {
     "data": {
      "text/plain": [
       "[<matplotlib.lines.Line2D at 0x117c39cd0>]"
      ]
     },
     "execution_count": 98,
     "metadata": {},
     "output_type": "execute_result"
    },
    {
     "data": {
      "image/png": "[encoded data removed]",
      "text/plain": [
       "<matplotlib.figure.Figure at 0x10f860750>"
      ]
     },
     "metadata": {},
     "output_type": "display_data"
    }
   ],
   "source": [
    "from scipy.stats import norm\n",
    "import matplotlib.pyplot as plt\n",
    "fig, ax = plt.subplots(1, 1)\n",
    "x = np.linspace(norm.ppf(0.01), norm.ppf(0.99), 100)\n",
    "ax.plot(x, norm.pdf(x), 'r-', lw=5, alpha=0.6, label='norm pdf')"
   ]
  },
  {
   "cell_type": "markdown",
   "metadata": {},
   "source": [
    "##Now back to our cancer variants. Let's use pandas to get them into a dataframe."
   ]
  },
  {
   "cell_type": "code",
   "execution_count": 99,
   "metadata": {
    "collapsed": false
   },
   "outputs": [
    {
     "data": {
      "text/html": [
       "<div style=\"max-height:1000px;max-width:1500px;overflow:auto;\">\n",
       "<table border=\"1\" class=\"dataframe\">\n",
       "  <thead>\n",
       "    <tr style=\"text-align: right;\">\n",
       "      <th></th>\n",
       "      <th>Hugo_Symbol</th>\n",
       "      <th>Entrez_Gene_Id</th>\n",
       "      <th>Center</th>\n",
       "      <th>NCBI_Build</th>\n",
       "      <th>Chromosome</th>\n",
       "      <th>Start_position</th>\n",
       "      <th>End_position</th>\n",
       "      <th>Strand</th>\n",
       "      <th>Variant_Classification</th>\n",
       "      <th>Variant_Type</th>\n",
       "      <th>...</th>\n",
       "      <th>t_ref_count</th>\n",
       "      <th>validation_status</th>\n",
       "      <th>validation_tumor_sample</th>\n",
       "      <th>t_alt_count</th>\n",
       "      <th>validation_alt_allele</th>\n",
       "      <th>pox</th>\n",
       "      <th>qox</th>\n",
       "      <th>pox_cutoff</th>\n",
       "      <th>isArtifactMode</th>\n",
       "      <th>oxoGCut</th>\n",
       "    </tr>\n",
       "  </thead>\n",
       "  <tbody>\n",
       "    <tr>\n",
       "      <th>0</th>\n",
       "      <td> KRTAP4-11</td>\n",
       "      <td> 653240</td>\n",
       "      <td> broad.mit.edu</td>\n",
       "      <td> 37</td>\n",
       "      <td> 17</td>\n",
       "      <td>  39274291</td>\n",
       "      <td>  39274291</td>\n",
       "      <td> +</td>\n",
       "      <td> Missense_Mutation</td>\n",
       "      <td> SNP</td>\n",
       "      <td>...</td>\n",
       "      <td>  66</td>\n",
       "      <td> NaN</td>\n",
       "      <td> NaN</td>\n",
       "      <td>   4</td>\n",
       "      <td> NaN</td>\n",
       "      <td> 0.000000e+00</td>\n",
       "      <td> 0.000000e+00</td>\n",
       "      <td> 0.047766</td>\n",
       "      <td> 0</td>\n",
       "      <td> 0</td>\n",
       "    </tr>\n",
       "    <tr>\n",
       "      <th>1</th>\n",
       "      <td>    TRIM52</td>\n",
       "      <td>  84851</td>\n",
       "      <td> broad.mit.edu</td>\n",
       "      <td> 37</td>\n",
       "      <td>  5</td>\n",
       "      <td> 180687083</td>\n",
       "      <td> 180687083</td>\n",
       "      <td> +</td>\n",
       "      <td>            Silent</td>\n",
       "      <td> SNP</td>\n",
       "      <td>...</td>\n",
       "      <td> 102</td>\n",
       "      <td> NaN</td>\n",
       "      <td> NaN</td>\n",
       "      <td>  33</td>\n",
       "      <td> NaN</td>\n",
       "      <td> 5.833600e-16</td>\n",
       "      <td> 6.731080e-16</td>\n",
       "      <td> 0.015359</td>\n",
       "      <td> 1</td>\n",
       "      <td> 0</td>\n",
       "    </tr>\n",
       "    <tr>\n",
       "      <th>2</th>\n",
       "      <td>    SCAF11</td>\n",
       "      <td>   9169</td>\n",
       "      <td> broad.mit.edu</td>\n",
       "      <td> 37</td>\n",
       "      <td> 12</td>\n",
       "      <td>  46320210</td>\n",
       "      <td>  46320210</td>\n",
       "      <td> +</td>\n",
       "      <td> Missense_Mutation</td>\n",
       "      <td> SNP</td>\n",
       "      <td>...</td>\n",
       "      <td> 102</td>\n",
       "      <td> NaN</td>\n",
       "      <td> NaN</td>\n",
       "      <td>  20</td>\n",
       "      <td> NaN</td>\n",
       "      <td> 1.500390e-11</td>\n",
       "      <td> 1.667100e-11</td>\n",
       "      <td> 0.012319</td>\n",
       "      <td> 1</td>\n",
       "      <td> 0</td>\n",
       "    </tr>\n",
       "    <tr>\n",
       "      <th>3</th>\n",
       "      <td>   CSRP2BP</td>\n",
       "      <td>  57325</td>\n",
       "      <td> broad.mit.edu</td>\n",
       "      <td> 37</td>\n",
       "      <td> 20</td>\n",
       "      <td>  18142850</td>\n",
       "      <td>  18142850</td>\n",
       "      <td> +</td>\n",
       "      <td> Missense_Mutation</td>\n",
       "      <td> SNP</td>\n",
       "      <td>...</td>\n",
       "      <td> 413</td>\n",
       "      <td> NaN</td>\n",
       "      <td> NaN</td>\n",
       "      <td> 103</td>\n",
       "      <td> NaN</td>\n",
       "      <td> 0.000000e+00</td>\n",
       "      <td> 0.000000e+00</td>\n",
       "      <td> 0.048971</td>\n",
       "      <td> 0</td>\n",
       "      <td> 0</td>\n",
       "    </tr>\n",
       "    <tr>\n",
       "      <th>4</th>\n",
       "      <td>      AATK</td>\n",
       "      <td>   9625</td>\n",
       "      <td> broad.mit.edu</td>\n",
       "      <td> 37</td>\n",
       "      <td> 17</td>\n",
       "      <td>  79094952</td>\n",
       "      <td>  79094952</td>\n",
       "      <td> +</td>\n",
       "      <td>            Silent</td>\n",
       "      <td> SNP</td>\n",
       "      <td>...</td>\n",
       "      <td>  19</td>\n",
       "      <td> NaN</td>\n",
       "      <td> NaN</td>\n",
       "      <td>   6</td>\n",
       "      <td> NaN</td>\n",
       "      <td> 0.000000e+00</td>\n",
       "      <td> 0.000000e+00</td>\n",
       "      <td> 0.029380</td>\n",
       "      <td> 0</td>\n",
       "      <td> 0</td>\n",
       "    </tr>\n",
       "  </tbody>\n",
       "</table>\n",
       "<p>5 rows × 90 columns</p>\n",
       "</div>"
      ],
      "text/plain": [
       "  Hugo_Symbol  Entrez_Gene_Id         Center  NCBI_Build Chromosome  \\\n",
       "0   KRTAP4-11          653240  broad.mit.edu          37         17   \n",
       "1      TRIM52           84851  broad.mit.edu          37          5   \n",
       "2      SCAF11            9169  broad.mit.edu          37         12   \n",
       "3     CSRP2BP           57325  broad.mit.edu          37         20   \n",
       "4        AATK            9625  broad.mit.edu          37         17   \n",
       "\n",
       "   Start_position  End_position Strand Variant_Classification Variant_Type  \\\n",
       "0        39274291      39274291      +      Missense_Mutation          SNP   \n",
       "1       180687083     180687083      +                 Silent          SNP   \n",
       "2        46320210      46320210      +      Missense_Mutation          SNP   \n",
       "3        18142850      18142850      +      Missense_Mutation          SNP   \n",
       "4        79094952      79094952      +                 Silent          SNP   \n",
       "\n",
       "      ...      t_ref_count validation_status validation_tumor_sample  \\\n",
       "0     ...               66               NaN                     NaN   \n",
       "1     ...              102               NaN                     NaN   \n",
       "2     ...              102               NaN                     NaN   \n",
       "3     ...              413               NaN                     NaN   \n",
       "4     ...               19               NaN                     NaN   \n",
       "\n",
       "  t_alt_count validation_alt_allele           pox           qox  pox_cutoff  \\\n",
       "0           4                   NaN  0.000000e+00  0.000000e+00    0.047766   \n",
       "1          33                   NaN  5.833600e-16  6.731080e-16    0.015359   \n",
       "2          20                   NaN  1.500390e-11  1.667100e-11    0.012319   \n",
       "3         103                   NaN  0.000000e+00  0.000000e+00    0.048971   \n",
       "4           6                   NaN  0.000000e+00  0.000000e+00    0.029380   \n",
       "\n",
       "   isArtifactMode  oxoGCut  \n",
       "0               0        0  \n",
       "1               1        0  \n",
       "2               1        0  \n",
       "3               0        0  \n",
       "4               0        0  \n",
       "\n",
       "[5 rows x 90 columns]"
      ]
     },
     "execution_count": 99,
     "metadata": {},
     "output_type": "execute_result"
    }
   ],
   "source": [
    "import pandas as pd\n",
    "maf_df = pd.read_csv('mafs/a_maf_file.tsv', sep='\\t', header=0, skiprows= 4, comment='#')\n",
    "maf_df.head()"
   ]
  },
  {
   "cell_type": "markdown",
   "metadata": {},
   "source": [
    "####Now we have all of our somatic mutations.\n",
    "\n",
    "(If you haven't figured out the cacert.pem thing, here's an alternative so we can all stay together during the lecture. I am going to output the dataframe to a file and include the file in your folder.)"
   ]
  },
  {
   "cell_type": "code",
   "execution_count": 100,
   "metadata": {
    "collapsed": true
   },
   "outputs": [],
   "source": [
    "maf_df.to_csv('mafs/another_maf_file.tsv', sep='\\t', index=False)"
   ]
  },
  {
   "cell_type": "markdown",
   "metadata": {},
   "source": [
    "####Importing directly from a given file in the folder to get the same dataframe"
   ]
  },
  {
   "cell_type": "code",
   "execution_count": 101,
   "metadata": {
    "collapsed": false,
    "scrolled": false
   },
   "outputs": [
    {
     "data": {
      "text/html": [
       "<div style=\"max-height:1000px;max-width:1500px;overflow:auto;\">\n",
       "<table border=\"1\" class=\"dataframe\">\n",
       "  <thead>\n",
       "    <tr style=\"text-align: right;\">\n",
       "      <th></th>\n",
       "      <th>Hugo_Symbol</th>\n",
       "      <th>Entrez_Gene_Id</th>\n",
       "      <th>Center</th>\n",
       "      <th>NCBI_Build</th>\n",
       "      <th>Chromosome</th>\n",
       "      <th>Start_position</th>\n",
       "      <th>End_position</th>\n",
       "      <th>Strand</th>\n",
       "      <th>Variant_Classification</th>\n",
       "      <th>Variant_Type</th>\n",
       "      <th>...</th>\n",
       "      <th>t_ref_count</th>\n",
       "      <th>validation_status</th>\n",
       "      <th>validation_tumor_sample</th>\n",
       "      <th>t_alt_count</th>\n",
       "      <th>validation_alt_allele</th>\n",
       "      <th>pox</th>\n",
       "      <th>qox</th>\n",
       "      <th>pox_cutoff</th>\n",
       "      <th>isArtifactMode</th>\n",
       "      <th>oxoGCut</th>\n",
       "    </tr>\n",
       "  </thead>\n",
       "  <tbody>\n",
       "    <tr>\n",
       "      <th>0</th>\n",
       "      <td> KRTAP4-11</td>\n",
       "      <td> 653240</td>\n",
       "      <td> broad.mit.edu</td>\n",
       "      <td> 37</td>\n",
       "      <td> 17</td>\n",
       "      <td>  39274291</td>\n",
       "      <td>  39274291</td>\n",
       "      <td> +</td>\n",
       "      <td> Missense_Mutation</td>\n",
       "      <td> SNP</td>\n",
       "      <td>...</td>\n",
       "      <td>  66</td>\n",
       "      <td> NaN</td>\n",
       "      <td> NaN</td>\n",
       "      <td>   4</td>\n",
       "      <td> NaN</td>\n",
       "      <td> 0.000000e+00</td>\n",
       "      <td> 0.000000e+00</td>\n",
       "      <td> 0.047766</td>\n",
       "      <td> 0</td>\n",
       "      <td> 0</td>\n",
       "    </tr>\n",
       "    <tr>\n",
       "      <th>1</th>\n",
       "      <td>    TRIM52</td>\n",
       "      <td>  84851</td>\n",
       "      <td> broad.mit.edu</td>\n",
       "      <td> 37</td>\n",
       "      <td>  5</td>\n",
       "      <td> 180687083</td>\n",
       "      <td> 180687083</td>\n",
       "      <td> +</td>\n",
       "      <td>            Silent</td>\n",
       "      <td> SNP</td>\n",
       "      <td>...</td>\n",
       "      <td> 102</td>\n",
       "      <td> NaN</td>\n",
       "      <td> NaN</td>\n",
       "      <td>  33</td>\n",
       "      <td> NaN</td>\n",
       "      <td> 5.833600e-16</td>\n",
       "      <td> 6.731080e-16</td>\n",
       "      <td> 0.015359</td>\n",
       "      <td> 1</td>\n",
       "      <td> 0</td>\n",
       "    </tr>\n",
       "    <tr>\n",
       "      <th>2</th>\n",
       "      <td>    SCAF11</td>\n",
       "      <td>   9169</td>\n",
       "      <td> broad.mit.edu</td>\n",
       "      <td> 37</td>\n",
       "      <td> 12</td>\n",
       "      <td>  46320210</td>\n",
       "      <td>  46320210</td>\n",
       "      <td> +</td>\n",
       "      <td> Missense_Mutation</td>\n",
       "      <td> SNP</td>\n",
       "      <td>...</td>\n",
       "      <td> 102</td>\n",
       "      <td> NaN</td>\n",
       "      <td> NaN</td>\n",
       "      <td>  20</td>\n",
       "      <td> NaN</td>\n",
       "      <td> 1.500390e-11</td>\n",
       "      <td> 1.667100e-11</td>\n",
       "      <td> 0.012319</td>\n",
       "      <td> 1</td>\n",
       "      <td> 0</td>\n",
       "    </tr>\n",
       "    <tr>\n",
       "      <th>3</th>\n",
       "      <td>   CSRP2BP</td>\n",
       "      <td>  57325</td>\n",
       "      <td> broad.mit.edu</td>\n",
       "      <td> 37</td>\n",
       "      <td> 20</td>\n",
       "      <td>  18142850</td>\n",
       "      <td>  18142850</td>\n",
       "      <td> +</td>\n",
       "      <td> Missense_Mutation</td>\n",
       "      <td> SNP</td>\n",
       "      <td>...</td>\n",
       "      <td> 413</td>\n",
       "      <td> NaN</td>\n",
       "      <td> NaN</td>\n",
       "      <td> 103</td>\n",
       "      <td> NaN</td>\n",
       "      <td> 0.000000e+00</td>\n",
       "      <td> 0.000000e+00</td>\n",
       "      <td> 0.048971</td>\n",
       "      <td> 0</td>\n",
       "      <td> 0</td>\n",
       "    </tr>\n",
       "    <tr>\n",
       "      <th>4</th>\n",
       "      <td>      AATK</td>\n",
       "      <td>   9625</td>\n",
       "      <td> broad.mit.edu</td>\n",
       "      <td> 37</td>\n",
       "      <td> 17</td>\n",
       "      <td>  79094952</td>\n",
       "      <td>  79094952</td>\n",
       "      <td> +</td>\n",
       "      <td>            Silent</td>\n",
       "      <td> SNP</td>\n",
       "      <td>...</td>\n",
       "      <td>  19</td>\n",
       "      <td> NaN</td>\n",
       "      <td> NaN</td>\n",
       "      <td>   6</td>\n",
       "      <td> NaN</td>\n",
       "      <td> 0.000000e+00</td>\n",
       "      <td> 0.000000e+00</td>\n",
       "      <td> 0.029380</td>\n",
       "      <td> 0</td>\n",
       "      <td> 0</td>\n",
       "    </tr>\n",
       "  </tbody>\n",
       "</table>\n",
       "<p>5 rows × 90 columns</p>\n",
       "</div>"
      ],
      "text/plain": [
       "  Hugo_Symbol  Entrez_Gene_Id         Center  NCBI_Build Chromosome  \\\n",
       "0   KRTAP4-11          653240  broad.mit.edu          37         17   \n",
       "1      TRIM52           84851  broad.mit.edu          37          5   \n",
       "2      SCAF11            9169  broad.mit.edu          37         12   \n",
       "3     CSRP2BP           57325  broad.mit.edu          37         20   \n",
       "4        AATK            9625  broad.mit.edu          37         17   \n",
       "\n",
       "   Start_position  End_position Strand Variant_Classification Variant_Type  \\\n",
       "0        39274291      39274291      +      Missense_Mutation          SNP   \n",
       "1       180687083     180687083      +                 Silent          SNP   \n",
       "2        46320210      46320210      +      Missense_Mutation          SNP   \n",
       "3        18142850      18142850      +      Missense_Mutation          SNP   \n",
       "4        79094952      79094952      +                 Silent          SNP   \n",
       "\n",
       "      ...      t_ref_count validation_status validation_tumor_sample  \\\n",
       "0     ...               66               NaN                     NaN   \n",
       "1     ...              102               NaN                     NaN   \n",
       "2     ...              102               NaN                     NaN   \n",
       "3     ...              413               NaN                     NaN   \n",
       "4     ...               19               NaN                     NaN   \n",
       "\n",
       "  t_alt_count validation_alt_allele           pox           qox  pox_cutoff  \\\n",
       "0           4                   NaN  0.000000e+00  0.000000e+00    0.047766   \n",
       "1          33                   NaN  5.833600e-16  6.731080e-16    0.015359   \n",
       "2          20                   NaN  1.500390e-11  1.667100e-11    0.012319   \n",
       "3         103                   NaN  0.000000e+00  0.000000e+00    0.048971   \n",
       "4           6                   NaN  0.000000e+00  0.000000e+00    0.029380   \n",
       "\n",
       "   isArtifactMode  oxoGCut  \n",
       "0               0        0  \n",
       "1               1        0  \n",
       "2               1        0  \n",
       "3               0        0  \n",
       "4               0        0  \n",
       "\n",
       "[5 rows x 90 columns]"
      ]
     },
     "execution_count": 101,
     "metadata": {},
     "output_type": "execute_result"
    }
   ],
   "source": [
    "maf_df = pd.read_csv('mafs/another_maf_file.tsv', sep='\\t', header=0, comment='#')\n",
    "maf_df.head()"
   ]
  },
  {
   "cell_type": "markdown",
   "metadata": {},
   "source": [
    "####Some of the columns appear to be cut off, let's look at the complete list"
   ]
  },
  {
   "cell_type": "code",
   "execution_count": 102,
   "metadata": {
    "collapsed": false,
    "scrolled": true
   },
   "outputs": [
    {
     "data": {
      "text/plain": [
       "['Hugo_Symbol',\n",
       " 'Entrez_Gene_Id',\n",
       " 'Center',\n",
       " 'NCBI_Build',\n",
       " 'Chromosome',\n",
       " 'Start_position',\n",
       " 'End_position',\n",
       " 'Strand',\n",
       " 'Variant_Classification',\n",
       " 'Variant_Type',\n",
       " 'Reference_Allele',\n",
       " 'Tumor_Seq_Allele1',\n",
       " 'Tumor_Seq_Allele2',\n",
       " 'dbSNP_RS',\n",
       " 'dbSNP_Val_Status',\n",
       " 'Tumor_Sample_Barcode',\n",
       " 'Matched_Norm_Sample_Barcode',\n",
       " 'Match_Norm_Seq_Allele1',\n",
       " 'Match_Norm_Seq_Allele2',\n",
       " 'Tumor_Validation_Allele1',\n",
       " 'Tumor_Validation_Allele2',\n",
       " 'Match_Norm_Validation_Allele1',\n",
       " 'Match_Norm_Validation_Allele2',\n",
       " 'Verification_Status',\n",
       " 'Validation_Status',\n",
       " 'Mutation_Status',\n",
       " 'Sequencing_Phase',\n",
       " 'Sequence_Source',\n",
       " 'Validation_Method',\n",
       " 'Score',\n",
       " 'BAM_file',\n",
       " 'Sequencer',\n",
       " 'Tumor_Sample_UUID',\n",
       " 'Matched_Norm_Sample_UUID',\n",
       " 'Genome_Change',\n",
       " 'Annotation_Transcript',\n",
       " 'Transcript_Strand',\n",
       " 'Transcript_Exon',\n",
       " 'Transcript_Position',\n",
       " 'cDNA_Change',\n",
       " 'Codon_Change',\n",
       " 'Protein_Change',\n",
       " 'Other_Transcripts',\n",
       " 'Refseq_mRNA_Id',\n",
       " 'Refseq_prot_Id',\n",
       " 'SwissProt_acc_Id',\n",
       " 'SwissProt_entry_Id',\n",
       " 'Description',\n",
       " 'UniProt_AApos',\n",
       " 'UniProt_Region',\n",
       " 'UniProt_Site',\n",
       " 'UniProt_Natural_Variations',\n",
       " 'UniProt_Experimental_Info',\n",
       " 'GO_Biological_Process',\n",
       " 'GO_Cellular_Component',\n",
       " 'GO_Molecular_Function',\n",
       " 'COSMIC_overlapping_mutations',\n",
       " 'COSMIC_fusion_genes',\n",
       " 'COSMIC_tissue_types_affected',\n",
       " 'COSMIC_total_alterations_in_gene',\n",
       " 'Tumorscape_Amplification_Peaks',\n",
       " 'Tumorscape_Deletion_Peaks',\n",
       " 'TCGAscape_Amplification_Peaks',\n",
       " 'TCGAscape_Deletion_Peaks',\n",
       " 'DrugBank',\n",
       " 'ref_context',\n",
       " 'gc_content',\n",
       " 'CCLE_ONCOMAP_overlapping_mutations',\n",
       " 'CCLE_ONCOMAP_total_mutations_in_gene',\n",
       " 'CGC_Mutation_Type',\n",
       " 'CGC_Translocation_Partner',\n",
       " 'CGC_Tumor_Types_Somatic',\n",
       " 'CGC_Tumor_Types_Germline',\n",
       " 'CGC_Other_Diseases',\n",
       " 'DNARepairGenes_Role',\n",
       " 'FamilialCancerDatabase_Syndromes',\n",
       " 'MUTSIG_Published_Results',\n",
       " 'OREGANNO_ID',\n",
       " 'OREGANNO_Values',\n",
       " 'validation_method',\n",
       " 't_ref_count',\n",
       " 'validation_status',\n",
       " 'validation_tumor_sample',\n",
       " 't_alt_count',\n",
       " 'validation_alt_allele',\n",
       " 'pox',\n",
       " 'qox',\n",
       " 'pox_cutoff',\n",
       " 'isArtifactMode',\n",
       " 'oxoGCut']"
      ]
     },
     "execution_count": 102,
     "metadata": {},
     "output_type": "execute_result"
    }
   ],
   "source": [
    "list(maf_df.columns)"
   ]
  },
  {
   "cell_type": "markdown",
   "metadata": {},
   "source": [
    "####Let's restrict the number of columns to those useful to us. This will make the dataframe more managable (and aestheically pleasing)."
   ]
  },
  {
   "cell_type": "code",
   "execution_count": 103,
   "metadata": {
    "collapsed": false,
    "scrolled": true
   },
   "outputs": [
    {
     "data": {
      "text/html": [
       "<div style=\"max-height:1000px;max-width:1500px;overflow:auto;\">\n",
       "<table border=\"1\" class=\"dataframe\">\n",
       "  <thead>\n",
       "    <tr style=\"text-align: right;\">\n",
       "      <th></th>\n",
       "      <th>Hugo_Symbol</th>\n",
       "      <th>Chromosome</th>\n",
       "      <th>Start_position</th>\n",
       "      <th>End_position</th>\n",
       "      <th>Strand</th>\n",
       "      <th>Reference_Allele</th>\n",
       "      <th>Tumor_Seq_Allele1</th>\n",
       "      <th>Tumor_Seq_Allele2</th>\n",
       "      <th>Tumor_Sample_Barcode</th>\n",
       "      <th>Entrez_Gene_Id</th>\n",
       "      <th>Variant_Classification</th>\n",
       "      <th>Variant_Type</th>\n",
       "    </tr>\n",
       "  </thead>\n",
       "  <tbody>\n",
       "    <tr>\n",
       "      <th>0</th>\n",
       "      <td> KRTAP4-11</td>\n",
       "      <td> 17</td>\n",
       "      <td>  39274291</td>\n",
       "      <td>  39274291</td>\n",
       "      <td> +</td>\n",
       "      <td> T</td>\n",
       "      <td> C</td>\n",
       "      <td> C</td>\n",
       "      <td> TCGA-A4-7286-01A-11D-2136-08</td>\n",
       "      <td> 653240</td>\n",
       "      <td> Missense_Mutation</td>\n",
       "      <td> SNP</td>\n",
       "    </tr>\n",
       "    <tr>\n",
       "      <th>1</th>\n",
       "      <td>    TRIM52</td>\n",
       "      <td>  5</td>\n",
       "      <td> 180687083</td>\n",
       "      <td> 180687083</td>\n",
       "      <td> +</td>\n",
       "      <td> G</td>\n",
       "      <td> T</td>\n",
       "      <td> T</td>\n",
       "      <td> TCGA-A4-7286-01A-11D-2136-08</td>\n",
       "      <td>  84851</td>\n",
       "      <td>            Silent</td>\n",
       "      <td> SNP</td>\n",
       "    </tr>\n",
       "    <tr>\n",
       "      <th>2</th>\n",
       "      <td>    SCAF11</td>\n",
       "      <td> 12</td>\n",
       "      <td>  46320210</td>\n",
       "      <td>  46320210</td>\n",
       "      <td> +</td>\n",
       "      <td> G</td>\n",
       "      <td> T</td>\n",
       "      <td> T</td>\n",
       "      <td> TCGA-A4-7286-01A-11D-2136-08</td>\n",
       "      <td>   9169</td>\n",
       "      <td> Missense_Mutation</td>\n",
       "      <td> SNP</td>\n",
       "    </tr>\n",
       "    <tr>\n",
       "      <th>3</th>\n",
       "      <td>   CSRP2BP</td>\n",
       "      <td> 20</td>\n",
       "      <td>  18142850</td>\n",
       "      <td>  18142850</td>\n",
       "      <td> +</td>\n",
       "      <td> C</td>\n",
       "      <td> G</td>\n",
       "      <td> G</td>\n",
       "      <td> TCGA-A4-7286-01A-11D-2136-08</td>\n",
       "      <td>  57325</td>\n",
       "      <td> Missense_Mutation</td>\n",
       "      <td> SNP</td>\n",
       "    </tr>\n",
       "    <tr>\n",
       "      <th>4</th>\n",
       "      <td>      AATK</td>\n",
       "      <td> 17</td>\n",
       "      <td>  79094952</td>\n",
       "      <td>  79094952</td>\n",
       "      <td> +</td>\n",
       "      <td> A</td>\n",
       "      <td> T</td>\n",
       "      <td> T</td>\n",
       "      <td> TCGA-A4-7286-01A-11D-2136-08</td>\n",
       "      <td>   9625</td>\n",
       "      <td>            Silent</td>\n",
       "      <td> SNP</td>\n",
       "    </tr>\n",
       "  </tbody>\n",
       "</table>\n",
       "</div>"
      ],
      "text/plain": [
       "  Hugo_Symbol Chromosome  Start_position  End_position Strand  \\\n",
       "0   KRTAP4-11         17        39274291      39274291      +   \n",
       "1      TRIM52          5       180687083     180687083      +   \n",
       "2      SCAF11         12        46320210      46320210      +   \n",
       "3     CSRP2BP         20        18142850      18142850      +   \n",
       "4        AATK         17        79094952      79094952      +   \n",
       "\n",
       "  Reference_Allele Tumor_Seq_Allele1 Tumor_Seq_Allele2  \\\n",
       "0                T                 C                 C   \n",
       "1                G                 T                 T   \n",
       "2                G                 T                 T   \n",
       "3                C                 G                 G   \n",
       "4                A                 T                 T   \n",
       "\n",
       "           Tumor_Sample_Barcode  Entrez_Gene_Id Variant_Classification  \\\n",
       "0  TCGA-A4-7286-01A-11D-2136-08          653240      Missense_Mutation   \n",
       "1  TCGA-A4-7286-01A-11D-2136-08           84851                 Silent   \n",
       "2  TCGA-A4-7286-01A-11D-2136-08            9169      Missense_Mutation   \n",
       "3  TCGA-A4-7286-01A-11D-2136-08           57325      Missense_Mutation   \n",
       "4  TCGA-A4-7286-01A-11D-2136-08            9625                 Silent   \n",
       "\n",
       "  Variant_Type  \n",
       "0          SNP  \n",
       "1          SNP  \n",
       "2          SNP  \n",
       "3          SNP  \n",
       "4          SNP  "
      ]
     },
     "execution_count": 103,
     "metadata": {},
     "output_type": "execute_result"
    }
   ],
   "source": [
    "maf_df2 = maf_df[['Hugo_Symbol', 'Chromosome', 'Start_position', \n",
    "         'End_position', 'Strand', 'Reference_Allele', \n",
    "         'Tumor_Seq_Allele1', 'Tumor_Seq_Allele2',\n",
    "         'Tumor_Sample_Barcode', 'Entrez_Gene_Id',\n",
    "         'Variant_Classification','Variant_Type']]\n",
    "maf_df2.head()"
   ]
  },
  {
   "cell_type": "markdown",
   "metadata": {},
   "source": [
    "####We want to know if mutation has occured in both strands or only one. We apply a function to the pandas dataframe to get this information."
   ]
  },
  {
   "cell_type": "code",
   "execution_count": 104,
   "metadata": {
    "collapsed": false
   },
   "outputs": [],
   "source": [
    "def check_bi_allelic(x):\n",
    "    if x[0] == x[1]:\n",
    "        return True\n",
    "    else:\n",
    "        return False\n",
    "maf_df2[\"Both_Alleles\"] = maf_df2[['Tumor_Seq_Allele1', 'Tumor_Seq_Allele2']].apply(check_bi_allelic, axis=1)"
   ]
  },
  {
   "cell_type": "markdown",
   "metadata": {},
   "source": [
    "####Only the first 12 characters of the 'Tumor_Sample_Barcode' are relevant to the patient, so let's extract those characters."
   ]
  },
  {
   "cell_type": "code",
   "execution_count": 105,
   "metadata": {
    "collapsed": false
   },
   "outputs": [],
   "source": [
    "maf_df2['Patient_Barcode'] = maf_df2.Tumor_Sample_Barcode.str[:12]"
   ]
  },
  {
   "cell_type": "markdown",
   "metadata": {},
   "source": [
    "####And then simply the dataframe again..."
   ]
  },
  {
   "cell_type": "code",
   "execution_count": 106,
   "metadata": {
    "collapsed": false,
    "scrolled": true
   },
   "outputs": [
    {
     "data": {
      "text/html": [
       "<div style=\"max-height:1000px;max-width:1500px;overflow:auto;\">\n",
       "<table border=\"1\" class=\"dataframe\">\n",
       "  <thead>\n",
       "    <tr style=\"text-align: right;\">\n",
       "      <th></th>\n",
       "      <th>Hugo_Symbol</th>\n",
       "      <th>Entrez_Gene_Id</th>\n",
       "      <th>Patient_Barcode</th>\n",
       "      <th>Variant_Classification</th>\n",
       "      <th>Both_Alleles</th>\n",
       "      <th>Start_position</th>\n",
       "    </tr>\n",
       "  </thead>\n",
       "  <tbody>\n",
       "    <tr>\n",
       "      <th>0</th>\n",
       "      <td> KRTAP4-11</td>\n",
       "      <td> 653240</td>\n",
       "      <td> TCGA-A4-7286</td>\n",
       "      <td> Missense_Mutation</td>\n",
       "      <td> True</td>\n",
       "      <td>  39274291</td>\n",
       "    </tr>\n",
       "    <tr>\n",
       "      <th>1</th>\n",
       "      <td>    TRIM52</td>\n",
       "      <td>  84851</td>\n",
       "      <td> TCGA-A4-7286</td>\n",
       "      <td>            Silent</td>\n",
       "      <td> True</td>\n",
       "      <td> 180687083</td>\n",
       "    </tr>\n",
       "    <tr>\n",
       "      <th>2</th>\n",
       "      <td>    SCAF11</td>\n",
       "      <td>   9169</td>\n",
       "      <td> TCGA-A4-7286</td>\n",
       "      <td> Missense_Mutation</td>\n",
       "      <td> True</td>\n",
       "      <td>  46320210</td>\n",
       "    </tr>\n",
       "    <tr>\n",
       "      <th>3</th>\n",
       "      <td>   CSRP2BP</td>\n",
       "      <td>  57325</td>\n",
       "      <td> TCGA-A4-7286</td>\n",
       "      <td> Missense_Mutation</td>\n",
       "      <td> True</td>\n",
       "      <td>  18142850</td>\n",
       "    </tr>\n",
       "    <tr>\n",
       "      <th>4</th>\n",
       "      <td>      AATK</td>\n",
       "      <td>   9625</td>\n",
       "      <td> TCGA-A4-7286</td>\n",
       "      <td>            Silent</td>\n",
       "      <td> True</td>\n",
       "      <td>  79094952</td>\n",
       "    </tr>\n",
       "  </tbody>\n",
       "</table>\n",
       "</div>"
      ],
      "text/plain": [
       "  Hugo_Symbol  Entrez_Gene_Id Patient_Barcode Variant_Classification  \\\n",
       "0   KRTAP4-11          653240    TCGA-A4-7286      Missense_Mutation   \n",
       "1      TRIM52           84851    TCGA-A4-7286                 Silent   \n",
       "2      SCAF11            9169    TCGA-A4-7286      Missense_Mutation   \n",
       "3     CSRP2BP           57325    TCGA-A4-7286      Missense_Mutation   \n",
       "4        AATK            9625    TCGA-A4-7286                 Silent   \n",
       "\n",
       "  Both_Alleles  Start_position  \n",
       "0         True        39274291  \n",
       "1         True       180687083  \n",
       "2         True        46320210  \n",
       "3         True        18142850  \n",
       "4         True        79094952  "
      ]
     },
     "execution_count": 106,
     "metadata": {},
     "output_type": "execute_result"
    }
   ],
   "source": [
    "maf_df3 = maf_df2[['Hugo_Symbol', 'Entrez_Gene_Id', 'Patient_Barcode', 'Variant_Classification', 'Both_Alleles', 'Start_position']]\n",
    "maf_df3.head()"
   ]
  },
  {
   "cell_type": "markdown",
   "metadata": {},
   "source": [
    "##Let's explore the data a little bit!"
   ]
  },
  {
   "cell_type": "markdown",
   "metadata": {},
   "source": [
    "####How many patients are there?"
   ]
  },
  {
   "cell_type": "code",
   "execution_count": 107,
   "metadata": {
    "collapsed": false,
    "scrolled": true
   },
   "outputs": [
    {
     "data": {
      "text/plain": [
       "112"
      ]
     },
     "execution_count": 107,
     "metadata": {},
     "output_type": "execute_result"
    }
   ],
   "source": [
    "len(maf_df3.Patient_Barcode.unique())"
   ]
  },
  {
   "cell_type": "markdown",
   "metadata": {},
   "source": [
    "####How many rows (mutations) are in our dataframe?"
   ]
  },
  {
   "cell_type": "code",
   "execution_count": 108,
   "metadata": {
    "collapsed": false
   },
   "outputs": [
    {
     "data": {
      "text/plain": [
       "Hugo_Symbol               10029\n",
       "Entrez_Gene_Id            10029\n",
       "Patient_Barcode           10029\n",
       "Variant_Classification    10029\n",
       "Both_Alleles              10029\n",
       "Start_position            10029\n",
       "dtype: int64"
      ]
     },
     "execution_count": 108,
     "metadata": {},
     "output_type": "execute_result"
    }
   ],
   "source": [
    "maf_df3.count()"
   ]
  },
  {
   "cell_type": "markdown",
   "metadata": {},
   "source": [
    "####Do we have any mutations in TP53?"
   ]
  },
  {
   "cell_type": "code",
   "execution_count": 109,
   "metadata": {
    "collapsed": false
   },
   "outputs": [
    {
     "data": {
      "text/html": [
       "<div style=\"max-height:1000px;max-width:1500px;overflow:auto;\">\n",
       "<table border=\"1\" class=\"dataframe\">\n",
       "  <thead>\n",
       "    <tr style=\"text-align: right;\">\n",
       "      <th></th>\n",
       "      <th>Hugo_Symbol</th>\n",
       "      <th>Entrez_Gene_Id</th>\n",
       "      <th>Patient_Barcode</th>\n",
       "      <th>Variant_Classification</th>\n",
       "      <th>Both_Alleles</th>\n",
       "      <th>Start_position</th>\n",
       "    </tr>\n",
       "  </thead>\n",
       "  <tbody>\n",
       "    <tr>\n",
       "      <th>2485</th>\n",
       "      <td> TP53</td>\n",
       "      <td> 7157</td>\n",
       "      <td> TCGA-B3-4104</td>\n",
       "      <td> Nonsense_Mutation</td>\n",
       "      <td> True</td>\n",
       "      <td> 7579415</td>\n",
       "    </tr>\n",
       "    <tr>\n",
       "      <th>2607</th>\n",
       "      <td> TP53</td>\n",
       "      <td> 7157</td>\n",
       "      <td> TCGA-B3-4104</td>\n",
       "      <td> Nonsense_Mutation</td>\n",
       "      <td> True</td>\n",
       "      <td> 7579415</td>\n",
       "    </tr>\n",
       "    <tr>\n",
       "      <th>2724</th>\n",
       "      <td> TP53</td>\n",
       "      <td> 7157</td>\n",
       "      <td> TCGA-B3-4104</td>\n",
       "      <td> Nonsense_Mutation</td>\n",
       "      <td> True</td>\n",
       "      <td> 7579415</td>\n",
       "    </tr>\n",
       "    <tr>\n",
       "      <th>2845</th>\n",
       "      <td> TP53</td>\n",
       "      <td> 7157</td>\n",
       "      <td> TCGA-B3-4104</td>\n",
       "      <td> Nonsense_Mutation</td>\n",
       "      <td> True</td>\n",
       "      <td> 7579415</td>\n",
       "    </tr>\n",
       "    <tr>\n",
       "      <th>4087</th>\n",
       "      <td> TP53</td>\n",
       "      <td> 7157</td>\n",
       "      <td> TCGA-BQ-5881</td>\n",
       "      <td> Missense_Mutation</td>\n",
       "      <td> True</td>\n",
       "      <td> 7578190</td>\n",
       "    </tr>\n",
       "  </tbody>\n",
       "</table>\n",
       "</div>"
      ],
      "text/plain": [
       "     Hugo_Symbol  Entrez_Gene_Id Patient_Barcode Variant_Classification  \\\n",
       "2485        TP53            7157    TCGA-B3-4104      Nonsense_Mutation   \n",
       "2607        TP53            7157    TCGA-B3-4104      Nonsense_Mutation   \n",
       "2724        TP53            7157    TCGA-B3-4104      Nonsense_Mutation   \n",
       "2845        TP53            7157    TCGA-B3-4104      Nonsense_Mutation   \n",
       "4087        TP53            7157    TCGA-BQ-5881      Missense_Mutation   \n",
       "\n",
       "     Both_Alleles  Start_position  \n",
       "2485         True         7579415  \n",
       "2607         True         7579415  \n",
       "2724         True         7579415  \n",
       "2845         True         7579415  \n",
       "4087         True         7578190  "
      ]
     },
     "execution_count": 109,
     "metadata": {},
     "output_type": "execute_result"
    }
   ],
   "source": [
    "maf_df3[maf_df3.Hugo_Symbol == 'TP53']"
   ]
  },
  {
   "cell_type": "markdown",
   "metadata": {},
   "source": [
    "####Next, we save the dataframe as a csv file (just for fun). How easy is that?? "
   ]
  },
  {
   "cell_type": "code",
   "execution_count": 110,
   "metadata": {
    "collapsed": true
   },
   "outputs": [],
   "source": [
    "maf_df3.to_csv('mafs/a_maf_file.concise.csv')"
   ]
  },
  {
   "cell_type": "markdown",
   "metadata": {},
   "source": [
    "####How many mutations do each of the patients have?"
   ]
  },
  {
   "cell_type": "markdown",
   "metadata": {},
   "source": [
    "##### '%matplotlib inline' is a magic function that allows you to do all of your plotting inside an ipython notebook"
   ]
  },
  {
   "cell_type": "code",
   "execution_count": 111,
   "metadata": {
    "collapsed": false,
    "scrolled": true
   },
   "outputs": [
    {
     "data": {
      "text/plain": [
       "<matplotlib.text.Text at 0x118d6e3d0>"
      ]
     },
     "execution_count": 111,
     "metadata": {},
     "output_type": "execute_result"
    },
    {
     "data": {
      "image/png": "[encoded data removed]",
      "text/plain": [
       "<matplotlib.figure.Figure at 0x1146a4410>"
      ]
     },
     "metadata": {},
     "output_type": "display_data"
    }
   ],
   "source": [
    "%matplotlib inline\n",
    "ax = maf_df3.Patient_Barcode.value_counts().hist(color='r', alpha=0.8, bins=30)\n",
    "ax.set_xlabel(\"Number of Mutations per Patient\")\n",
    "ax.set_ylabel(\"Number of Patients\")"
   ]
  },
  {
   "cell_type": "markdown",
   "metadata": {},
   "source": [
    "#### Why is there so much variation??\n",
    "\n",
    "According to Lawrence et al. 2013 in Nature, different cancer types have vastly different distributions of mutations.\n",
    "\n",
    "<img src=\"images/nature12213-f1.2.jpg\">"
   ]
  },
  {
   "cell_type": "markdown",
   "metadata": {},
   "source": [
    "####What kinds of mutations are we dealing with?"
   ]
  },
  {
   "cell_type": "code",
   "execution_count": 112,
   "metadata": {
    "collapsed": false
   },
   "outputs": [
    {
     "data": {
      "text/plain": [
       "<matplotlib.text.Text at 0x1193abf50>"
      ]
     },
     "execution_count": 112,
     "metadata": {},
     "output_type": "execute_result"
    },
    {
     "data": {
      "image/png": "[encoded data removed]",
      "text/plain": [
       "<matplotlib.figure.Figure at 0x117134b10>"
      ]
     },
     "metadata": {},
     "output_type": "display_data"
    }
   ],
   "source": [
    "ax = maf_df3.Variant_Classification.value_counts().plot(kind='bar', color='r', alpha=0.8)\n",
    "ax.set_ylabel(\"Number of Mutations\")"
   ]
  },
  {
   "cell_type": "markdown",
   "metadata": {},
   "source": [
    "####Which genes are most frequently mutated?"
   ]
  },
  {
   "cell_type": "code",
   "execution_count": 113,
   "metadata": {
    "collapsed": false
   },
   "outputs": [
    {
     "data": {
      "text/plain": [
       "<matplotlib.text.Text at 0x1193abc50>"
      ]
     },
     "execution_count": 113,
     "metadata": {},
     "output_type": "execute_result"
    },
    {
     "data": {
      "image/png": "[encoded data removed]",
      "text/plain": [
       "<matplotlib.figure.Figure at 0x114674390>"
      ]
     },
     "metadata": {},
     "output_type": "display_data"
    }
   ],
   "source": [
    "ax = maf_df3['Hugo_Symbol'].value_counts()[:30].plot(kind='bar', color='r', alpha=0.8)\n",
    "ax.set_xlabel(\"Mutated Gene\")\n",
    "ax.set_ylabel(\"Number of Times Mutated\")"
   ]
  },
  {
   "cell_type": "markdown",
   "metadata": {},
   "source": [
    "#Let's get some genetic interaction information about our genes..."
   ]
  },
  {
   "cell_type": "markdown",
   "metadata": {},
   "source": [
    "#### In order to use machine learning to predict our \"driver\" genes, we need to create a useful feature vector. The best predicting algorithms use many features - we are going to use three fairly simple ones. One feature will be the possible disruption of a gene as measured by the number of other genes in which it interacts."
   ]
  },
  {
   "cell_type": "markdown",
   "metadata": {},
   "source": [
    "####<a href=\"http://www.functionalnet.org/humannet\">Human Net</a> is a probabilistic functional gene network of nearly 20,000 validated protein coding genes constructed by the integration of 21 'omics' data types.\n",
    "\n",
    "####Picture something like this:\n",
    "\n",
    "<img src=\"images/gene_network.jpg\">"
   ]
  },
  {
   "cell_type": "markdown",
   "metadata": {},
   "source": [
    "####The human net data is stored in a txt file in our folder. Let's read it. For each gene, let's create a list of its connections. This takes a little while to run, so we can also skip it and import the dictionary directly."
   ]
  },
  {
   "cell_type": "code",
   "execution_count": 114,
   "metadata": {
    "collapsed": false
   },
   "outputs": [],
   "source": [
    "edges = {}\n",
    "keys = []\n",
    "with open('HumanNet.v1.join.txt', 'r') as human_net:\n",
    "    for line in human_net:\n",
    "        c = [x for x in line.strip().split(\"\\t\")]\n",
    "        one = int(c[0])\n",
    "        two = int(c[1])\n",
    "        if one in keys:\n",
    "            edges[one].append(two)\n",
    "        else:\n",
    "            edges[one] = [two]\n",
    "            keys.append(one)\n",
    "        if two in keys:\n",
    "            edges[two].append(one)\n",
    "        else:\n",
    "            edges[two] = [one]\n",
    "            keys.append(two)"
   ]
  },
  {
   "cell_type": "markdown",
   "metadata": {},
   "source": [
    "####Wait! How are we a dictionary? Pickle!\n",
    "* Pickle can be used for any serializable object; however, it does not compress the object"
   ]
  },
  {
   "cell_type": "code",
   "execution_count": 115,
   "metadata": {
    "collapsed": false
   },
   "outputs": [],
   "source": [
    "import pickle\n",
    "pickle.dump(edges, open(\"edges.p\", 'wb'))"
   ]
  },
  {
   "cell_type": "markdown",
   "metadata": {},
   "source": [
    "####We can load the pickle file and get the exact same object back in python."
   ]
  },
  {
   "cell_type": "code",
   "execution_count": 116,
   "metadata": {
    "collapsed": false
   },
   "outputs": [],
   "source": [
    "import pickle\n",
    "edges = pickle.load(open(\"edges.p\", 'rb'))"
   ]
  },
  {
   "cell_type": "markdown",
   "metadata": {},
   "source": [
    "####What does the distribution of edge numbers look like in human net?"
   ]
  },
  {
   "cell_type": "code",
   "execution_count": 117,
   "metadata": {
    "collapsed": false,
    "scrolled": false
   },
   "outputs": [
    {
     "data": {
      "text/plain": [
       "<matplotlib.text.Text at 0x1196b5d90>"
      ]
     },
     "execution_count": 117,
     "metadata": {},
     "output_type": "execute_result"
    },
    {
     "data": {
      "image/png": "[encoded data removed]",
      "text/plain": [
       "<matplotlib.figure.Figure at 0x10ff1c210>"
      ]
     },
     "metadata": {},
     "output_type": "display_data"
    }
   ],
   "source": [
    "connect = []\n",
    "keys = edges.keys()\n",
    "for key in keys:\n",
    "    connect.append(len(edges[key]))\n",
    "connections = {\"Gene_id\": pd.Series(keys),\n",
    "               \"Number_of_Connections\": pd.Series(connect)}\n",
    "connectionsdf = pd.DataFrame(connections)\n",
    "ax = connectionsdf['Number_of_Connections'].hist(bins=100, color='y', alpha=0.5)\n",
    "ax.set_xlabel(\"Number of Connections\")\n",
    "ax.set_ylabel(\"Number of Genes\")\n",
    "ax.set_title(\"Human Net\")"
   ]
  },
  {
   "cell_type": "markdown",
   "metadata": {},
   "source": [
    "#Now that we have a fancy network feature, let's create a couple other simple features."
   ]
  },
  {
   "cell_type": "markdown",
   "metadata": {},
   "source": [
    "####How often is the gene mutated in TCGA? If a gene is mutated more frequently, it could mean that there is selective pressure toward mutation.\n",
    "\n",
    "# Er.. what is 0 mean?"
   ]
  },
  {
   "cell_type": "code",
   "execution_count": 118,
   "metadata": {
    "collapsed": false,
    "scrolled": true
   },
   "outputs": [
    {
     "data": {
      "text/html": [
       "<div style=\"max-height:1000px;max-width:1500px;overflow:auto;\">\n",
       "<table border=\"1\" class=\"dataframe\">\n",
       "  <thead>\n",
       "    <tr style=\"text-align: right;\">\n",
       "      <th></th>\n",
       "      <th>Entrez_Gene_Id</th>\n",
       "      <th>counts</th>\n",
       "    </tr>\n",
       "  </thead>\n",
       "  <tbody>\n",
       "    <tr>\n",
       "      <th>0</th>\n",
       "      <td>      0</td>\n",
       "      <td> 145</td>\n",
       "    </tr>\n",
       "    <tr>\n",
       "      <th>1</th>\n",
       "      <td>  56097</td>\n",
       "      <td>  31</td>\n",
       "    </tr>\n",
       "    <tr>\n",
       "      <th>2</th>\n",
       "      <td>   7273</td>\n",
       "      <td>  27</td>\n",
       "    </tr>\n",
       "    <tr>\n",
       "      <th>3</th>\n",
       "      <td> 403340</td>\n",
       "      <td>  22</td>\n",
       "    </tr>\n",
       "    <tr>\n",
       "      <th>4</th>\n",
       "      <td>   8085</td>\n",
       "      <td>  18</td>\n",
       "    </tr>\n",
       "  </tbody>\n",
       "</table>\n",
       "</div>"
      ],
      "text/plain": [
       "   Entrez_Gene_Id  counts\n",
       "0               0     145\n",
       "1           56097      31\n",
       "2            7273      27\n",
       "3          403340      22\n",
       "4            8085      18"
      ]
     },
     "execution_count": 118,
     "metadata": {},
     "output_type": "execute_result"
    }
   ],
   "source": [
    "mutations = pd.DataFrame(maf_df3.Entrez_Gene_Id.value_counts())\n",
    "mutations = mutations.reset_index()\n",
    "mutations.columns = ['Entrez_Gene_Id', 'counts']\n",
    "mutations.head()"
   ]
  },
  {
   "cell_type": "markdown",
   "metadata": {},
   "source": [
    "####Let's also add a feature based on the percentage of time a mutation is bi-allelic. (this may be unreliable in TCGA due to mutation calling, but let's use it anyway)."
   ]
  },
  {
   "cell_type": "code",
   "execution_count": 119,
   "metadata": {
    "collapsed": false
   },
   "outputs": [],
   "source": [
    "# this can definitely be optimized\n",
    "bi_all, total = [], []\n",
    "for gene in mutations.Entrez_Gene_Id:\n",
    "    bi_all.append(maf_df3[(maf_df3['Entrez_Gene_Id'] == gene) & maf_df3['Both_Alleles'] == True].count()[0])\n",
    "    total.append(maf_df3[maf_df3['Entrez_Gene_Id'] == gene].count()[0])"
   ]
  },
  {
   "cell_type": "markdown",
   "metadata": {},
   "source": [
    "####Thanks to numpy, we can divide these series by each other. Then we can add the new series to our mutations dataframe."
   ]
  },
  {
   "cell_type": "code",
   "execution_count": 120,
   "metadata": {
    "collapsed": false
   },
   "outputs": [
    {
     "data": {
      "text/html": [
       "<div style=\"max-height:1000px;max-width:1500px;overflow:auto;\">\n",
       "<table border=\"1\" class=\"dataframe\">\n",
       "  <thead>\n",
       "    <tr style=\"text-align: right;\">\n",
       "      <th></th>\n",
       "      <th>Entrez_Gene_Id</th>\n",
       "      <th>counts</th>\n",
       "      <th>Perc_Bi_Allelic</th>\n",
       "    </tr>\n",
       "  </thead>\n",
       "  <tbody>\n",
       "    <tr>\n",
       "      <th>0</th>\n",
       "      <td>      0</td>\n",
       "      <td> 145</td>\n",
       "      <td> 1</td>\n",
       "    </tr>\n",
       "    <tr>\n",
       "      <th>1</th>\n",
       "      <td>  56097</td>\n",
       "      <td>  31</td>\n",
       "      <td> 1</td>\n",
       "    </tr>\n",
       "    <tr>\n",
       "      <th>2</th>\n",
       "      <td>   7273</td>\n",
       "      <td>  27</td>\n",
       "      <td> 1</td>\n",
       "    </tr>\n",
       "    <tr>\n",
       "      <th>3</th>\n",
       "      <td> 403340</td>\n",
       "      <td>  22</td>\n",
       "      <td> 1</td>\n",
       "    </tr>\n",
       "    <tr>\n",
       "      <th>4</th>\n",
       "      <td>   8085</td>\n",
       "      <td>  18</td>\n",
       "      <td> 1</td>\n",
       "    </tr>\n",
       "  </tbody>\n",
       "</table>\n",
       "</div>"
      ],
      "text/plain": [
       "   Entrez_Gene_Id  counts  Perc_Bi_Allelic\n",
       "0               0     145                1\n",
       "1           56097      31                1\n",
       "2            7273      27                1\n",
       "3          403340      22                1\n",
       "4            8085      18                1"
      ]
     },
     "execution_count": 120,
     "metadata": {},
     "output_type": "execute_result"
    }
   ],
   "source": [
    "mutations['Perc_Bi_Allelic'] = pd.Series(bi_all)/pd.Series(total)\n",
    "mutations.head()"
   ]
  },
  {
   "cell_type": "code",
   "execution_count": 121,
   "metadata": {
    "collapsed": true
   },
   "outputs": [],
   "source": [
    "mutations.to_csv('mutations.csv')"
   ]
  },
  {
   "cell_type": "markdown",
   "metadata": {},
   "source": [
    "####Here, we import a txt file containing a density score for each gene that can be derived from our human net analysis. We are going to spare the details because of time and just import it. "
   ]
  },
  {
   "cell_type": "code",
   "execution_count": 122,
   "metadata": {
    "collapsed": false
   },
   "outputs": [],
   "source": [
    "densities = pd.read_csv('density_values.txt', sep=' ', header=None)"
   ]
  },
  {
   "cell_type": "code",
   "execution_count": 123,
   "metadata": {
    "collapsed": false,
    "scrolled": true
   },
   "outputs": [
    {
     "data": {
      "text/html": [
       "<div style=\"max-height:1000px;max-width:1500px;overflow:auto;\">\n",
       "<table border=\"1\" class=\"dataframe\">\n",
       "  <thead>\n",
       "    <tr style=\"text-align: right;\">\n",
       "      <th></th>\n",
       "      <th>Entrez_Gene_Id</th>\n",
       "      <th>Density</th>\n",
       "    </tr>\n",
       "  </thead>\n",
       "  <tbody>\n",
       "    <tr>\n",
       "      <th>0</th>\n",
       "      <td>    673</td>\n",
       "      <td> 1298.9</td>\n",
       "    </tr>\n",
       "    <tr>\n",
       "      <th>1</th>\n",
       "      <td>   2312</td>\n",
       "      <td>  135.1</td>\n",
       "    </tr>\n",
       "    <tr>\n",
       "      <th>2</th>\n",
       "      <td>   4893</td>\n",
       "      <td> 1736.6</td>\n",
       "    </tr>\n",
       "    <tr>\n",
       "      <th>3</th>\n",
       "      <td> 113146</td>\n",
       "      <td>    NaN</td>\n",
       "    </tr>\n",
       "    <tr>\n",
       "      <th>4</th>\n",
       "      <td>  94025</td>\n",
       "      <td>   14.2</td>\n",
       "    </tr>\n",
       "  </tbody>\n",
       "</table>\n",
       "</div>"
      ],
      "text/plain": [
       "   Entrez_Gene_Id  Density\n",
       "0             673   1298.9\n",
       "1            2312    135.1\n",
       "2            4893   1736.6\n",
       "3          113146      NaN\n",
       "4           94025     14.2"
      ]
     },
     "execution_count": 123,
     "metadata": {},
     "output_type": "execute_result"
    }
   ],
   "source": [
    "densities.columns = [\"Entrez_Gene_Id\", \"Density\"]\n",
    "densities.head()"
   ]
  },
  {
   "cell_type": "markdown",
   "metadata": {},
   "source": [
    "#####Merging pandas dataframes is quite handy (and fast)! Check out all of the ways they can be combined <a href=\"http://pandas.pydata.org/pandas-docs/stable/merging.html\">here</a>."
   ]
  },
  {
   "cell_type": "code",
   "execution_count": 124,
   "metadata": {
    "collapsed": false,
    "scrolled": true
   },
   "outputs": [
    {
     "data": {
      "text/html": [
       "<div style=\"max-height:1000px;max-width:1500px;overflow:auto;\">\n",
       "<table border=\"1\" class=\"dataframe\">\n",
       "  <thead>\n",
       "    <tr style=\"text-align: right;\">\n",
       "      <th></th>\n",
       "      <th>Entrez_Gene_Id</th>\n",
       "      <th>counts</th>\n",
       "      <th>Perc_Bi_Allelic</th>\n",
       "      <th>Density</th>\n",
       "    </tr>\n",
       "  </thead>\n",
       "  <tbody>\n",
       "    <tr>\n",
       "      <th>0</th>\n",
       "      <td>      0</td>\n",
       "      <td> 145</td>\n",
       "      <td> 1</td>\n",
       "      <td>    NaN</td>\n",
       "    </tr>\n",
       "    <tr>\n",
       "      <th>1</th>\n",
       "      <td>  56097</td>\n",
       "      <td>  31</td>\n",
       "      <td> 1</td>\n",
       "      <td>    NaN</td>\n",
       "    </tr>\n",
       "    <tr>\n",
       "      <th>2</th>\n",
       "      <td>   7273</td>\n",
       "      <td>  27</td>\n",
       "      <td> 1</td>\n",
       "      <td> 1011.3</td>\n",
       "    </tr>\n",
       "    <tr>\n",
       "      <th>3</th>\n",
       "      <td> 403340</td>\n",
       "      <td>  22</td>\n",
       "      <td> 1</td>\n",
       "      <td>    NaN</td>\n",
       "    </tr>\n",
       "    <tr>\n",
       "      <th>4</th>\n",
       "      <td>   8085</td>\n",
       "      <td>  18</td>\n",
       "      <td> 1</td>\n",
       "      <td>    NaN</td>\n",
       "    </tr>\n",
       "  </tbody>\n",
       "</table>\n",
       "</div>"
      ],
      "text/plain": [
       "   Entrez_Gene_Id  counts  Perc_Bi_Allelic  Density\n",
       "0               0     145                1      NaN\n",
       "1           56097      31                1      NaN\n",
       "2            7273      27                1   1011.3\n",
       "3          403340      22                1      NaN\n",
       "4            8085      18                1      NaN"
      ]
     },
     "execution_count": 124,
     "metadata": {},
     "output_type": "execute_result"
    }
   ],
   "source": [
    "mutations = pd.merge(mutations, densities, on='Entrez_Gene_Id', how='outer')\n",
    "mutations.head()"
   ]
  },
  {
   "cell_type": "code",
   "execution_count": 125,
   "metadata": {
    "collapsed": false
   },
   "outputs": [],
   "source": [
    "mutations = mutations[[\"Entrez_Gene_Id\", \"counts\", \"Perc_Bi_Allelic\", \"Density\"]]\n",
    "mutations.to_csv('tcga_feature_vector.csv')"
   ]
  },
  {
   "cell_type": "markdown",
   "metadata": {},
   "source": [
    "# In order to train our classifier, we need some truth data. "
   ]
  },
  {
   "cell_type": "markdown",
   "metadata": {},
   "source": [
    "####This data was taken from the Cosmic database. It has already been formatted like our TCGA data. We have a training and validation set for both cancer (driver) genes and neutral (passenger) genes."
   ]
  },
  {
   "cell_type": "code",
   "execution_count": 126,
   "metadata": {
    "collapsed": true
   },
   "outputs": [],
   "source": [
    "cancer_feature_vector_training = pd.read_csv('cancer_feature_vector_tcga_training.csv', index_col=0)\n",
    "neutral_feature_vector_training = pd.read_csv('neutral_feature_vector_tcga_training.csv', index_col=0)\n",
    "cancer_feature_vector_validation = pd.read_csv('cancer_feature_vector_tcga_validation.csv', index_col=0)\n",
    "neutral_feature_vector_validation = pd.read_csv('neutral_feature_vector_tcga_validation.csv', index_col=0)"
   ]
  },
  {
   "cell_type": "code",
   "execution_count": 127,
   "metadata": {
    "collapsed": false,
    "scrolled": true
   },
   "outputs": [
    {
     "data": {
      "text/html": [
       "<div style=\"max-height:1000px;max-width:1500px;overflow:auto;\">\n",
       "<table border=\"1\" class=\"dataframe\">\n",
       "  <thead>\n",
       "    <tr style=\"text-align: right;\">\n",
       "      <th></th>\n",
       "      <th>Entrez_Gene_Id</th>\n",
       "      <th>counts</th>\n",
       "      <th>Perc_Bi_Allelic</th>\n",
       "      <th>Density</th>\n",
       "    </tr>\n",
       "  </thead>\n",
       "  <tbody>\n",
       "    <tr>\n",
       "      <th>0   </th>\n",
       "      <td>  673</td>\n",
       "      <td> 480</td>\n",
       "      <td> 0.508333</td>\n",
       "      <td> 1298.9</td>\n",
       "    </tr>\n",
       "    <tr>\n",
       "      <th>259 </th>\n",
       "      <td> 4893</td>\n",
       "      <td>  54</td>\n",
       "      <td> 0.500000</td>\n",
       "      <td> 1736.6</td>\n",
       "    </tr>\n",
       "    <tr>\n",
       "      <th>297 </th>\n",
       "      <td> 3265</td>\n",
       "      <td>  24</td>\n",
       "      <td> 0.541667</td>\n",
       "      <td> 1824.5</td>\n",
       "    </tr>\n",
       "    <tr>\n",
       "      <th>918 </th>\n",
       "      <td> 3845</td>\n",
       "      <td>   4</td>\n",
       "      <td> 0.500000</td>\n",
       "      <td> 1794.8</td>\n",
       "    </tr>\n",
       "    <tr>\n",
       "      <th>1020</th>\n",
       "      <td>  207</td>\n",
       "      <td>   4</td>\n",
       "      <td> 0.500000</td>\n",
       "      <td> 1572.9</td>\n",
       "    </tr>\n",
       "  </tbody>\n",
       "</table>\n",
       "</div>"
      ],
      "text/plain": [
       "      Entrez_Gene_Id  counts  Perc_Bi_Allelic  Density\n",
       "0                673     480         0.508333   1298.9\n",
       "259             4893      54         0.500000   1736.6\n",
       "297             3265      24         0.541667   1824.5\n",
       "918             3845       4         0.500000   1794.8\n",
       "1020             207       4         0.500000   1572.9"
      ]
     },
     "execution_count": 127,
     "metadata": {},
     "output_type": "execute_result"
    }
   ],
   "source": [
    "cancer_feature_vector_training.head()"
   ]
  },
  {
   "cell_type": "markdown",
   "metadata": {
    "collapsed": true
   },
   "source": [
    "####Here, we manipulate the training set to form a numpy matrix. This will be a better input format for our classifier."
   ]
  },
  {
   "cell_type": "code",
   "execution_count": 128,
   "metadata": {
    "collapsed": false
   },
   "outputs": [],
   "source": [
    "cancer_feature_vector_training = cancer_feature_vector_training.fillna(0)\n",
    "cancer_matrix = cancer_feature_vector_training.values[:,1:].astype(float)\n",
    "neutral_feature_vector_training = neutral_feature_vector_training.fillna(0)\n",
    "neutral_matrix = neutral_feature_vector_training.values[:,1:].astype(float)\n",
    "training_matrix = np.concatenate((cancer_matrix, neutral_matrix), axis=0)\n",
    "training_assignments = [1 for gene in range(len(cancer_matrix))] + [0 for gene in range(len(neutral_matrix))]"
   ]
  },
  {
   "cell_type": "markdown",
   "metadata": {},
   "source": [
    "####And we do the same thing for the validation sets."
   ]
  },
  {
   "cell_type": "code",
   "execution_count": 129,
   "metadata": {
    "collapsed": false
   },
   "outputs": [],
   "source": [
    "cancer_feature_vector_validation = cancer_feature_vector_validation.fillna(0)\n",
    "cancer_matrix = cancer_feature_vector_validation.values[:,1:].astype(float)\n",
    "neutral_feature_vector_validation = neutral_feature_vector_validation.fillna(0)\n",
    "neutral_matrix = neutral_feature_vector_validation.values[:,1:].astype(float)\n",
    "validation_matrix = np.concatenate((cancer_matrix, neutral_matrix), axis=0)\n",
    "validation_key = [1 for gene in range(len(cancer_matrix))] + [0 for gene in range(len(neutral_matrix))]"
   ]
  },
  {
   "cell_type": "markdown",
   "metadata": {
    "collapsed": true
   },
   "source": [
    "####Let's also reformat our tcga gene data while we are at it."
   ]
  },
  {
   "cell_type": "code",
   "execution_count": 130,
   "metadata": {
    "collapsed": false
   },
   "outputs": [],
   "source": [
    "tcga_feature_vector = mutations.copy()\n",
    "tcga_feature_vector = tcga_feature_vector.dropna()\n",
    "tcga_matrix = tcga_feature_vector.values[:,1:].astype(float)"
   ]
  },
  {
   "cell_type": "markdown",
   "metadata": {},
   "source": [
    "####The data looks a little bit different now."
   ]
  },
  {
   "cell_type": "code",
   "execution_count": 131,
   "metadata": {
    "collapsed": false,
    "scrolled": true
   },
   "outputs": [
    {
     "name": "stdout",
     "output_type": "stream",
     "text": [
      "[[  2.70000000e+01   1.00000000e+00   1.01130000e+03]\n",
      " [  1.40000000e+01   1.00000000e+00   1.11800000e+02]\n",
      " [  1.30000000e+01   1.00000000e+00   2.34300000e+02]\n",
      " ..., \n",
      " [  1.00000000e+00   1.00000000e+00   4.28000000e+01]\n",
      " [  1.00000000e+00   1.00000000e+00   2.80000000e+01]\n",
      " [  1.00000000e+00   1.00000000e+00   4.33000000e+02]]\n"
     ]
    }
   ],
   "source": [
    "print tcga_matrix"
   ]
  },
  {
   "cell_type": "markdown",
   "metadata": {},
   "source": [
    "####Let's use a Random Forest to classify our mutated genes."
   ]
  },
  {
   "cell_type": "markdown",
   "metadata": {},
   "source": [
    "#####Scikit-learn: a library for machine learning in python"
   ]
  },
  {
   "cell_type": "code",
   "execution_count": 132,
   "metadata": {
    "collapsed": false
   },
   "outputs": [],
   "source": [
    "import sklearn as sk\n",
    "from sklearn.ensemble import RandomForestClassifier\n",
    "clf = RandomForestClassifier(n_estimators=100, min_samples_leaf=5)\n",
    "clf = clf.fit(training_matrix, training_assignments)"
   ]
  },
  {
   "cell_type": "code",
   "execution_count": 133,
   "metadata": {
    "collapsed": false
   },
   "outputs": [],
   "source": [
    "output = clf.predict(tcga_matrix)"
   ]
  },
  {
   "cell_type": "markdown",
   "metadata": {},
   "source": [
    "####We can save our classifier to be used later using scikit's joblib."
   ]
  },
  {
   "cell_type": "code",
   "execution_count": 134,
   "metadata": {
    "collapsed": true
   },
   "outputs": [],
   "source": [
    "from sklearn.externals import joblib\n",
    "save = joblib.dump(clf, 'classifiers/random_forest.pkl') "
   ]
  },
  {
   "cell_type": "markdown",
   "metadata": {},
   "source": [
    "####This is how we would re-load it."
   ]
  },
  {
   "cell_type": "code",
   "execution_count": 135,
   "metadata": {
    "collapsed": false,
    "scrolled": true
   },
   "outputs": [],
   "source": [
    "clf = joblib.load('classifiers/random_forest.pkl') "
   ]
  },
  {
   "cell_type": "markdown",
   "metadata": {},
   "source": [
    "####Scikit-learn can tell us how confident it is..."
   ]
  },
  {
   "cell_type": "code",
   "execution_count": 136,
   "metadata": {
    "collapsed": true
   },
   "outputs": [],
   "source": [
    "confidence = clf.predict_proba(tcga_matrix)"
   ]
  },
  {
   "cell_type": "code",
   "execution_count": 148,
   "metadata": {
    "collapsed": false
   },
   "outputs": [
    {
     "name": "stdout",
     "output_type": "stream",
     "text": [
      "[[ 0.47092857  0.52907143]\n",
      " [ 0.4875      0.5125    ]\n",
      " [ 0.4875      0.5125    ]\n",
      " [ 0.4875      0.5125    ]\n",
      " [ 0.4875      0.5125    ]\n",
      " [ 0.4875      0.5125    ]\n",
      " [ 0.47092857  0.52907143]\n",
      " [ 0.4875      0.5125    ]\n",
      " [ 0.47092857  0.52907143]\n",
      " [ 0.4875      0.5125    ]]\n"
     ]
    }
   ],
   "source": [
    "print probabilities[:10]"
   ]
  },
  {
   "cell_type": "markdown",
   "metadata": {},
   "source": [
    "####Okay, so this classifier kinda sucks. Let's continue anyway."
   ]
  },
  {
   "cell_type": "code",
   "execution_count": 138,
   "metadata": {
    "collapsed": false,
    "scrolled": true
   },
   "outputs": [
    {
     "name": "stdout",
     "output_type": "stream",
     "text": [
      "1053\n",
      "130\n"
     ]
    }
   ],
   "source": [
    "print list(output).count(0)\n",
    "print list(output).count(1)"
   ]
  },
  {
   "cell_type": "markdown",
   "metadata": {},
   "source": [
    "####It performs pretty well on our TINY validation set though."
   ]
  },
  {
   "cell_type": "code",
   "execution_count": 139,
   "metadata": {
    "collapsed": false,
    "scrolled": true
   },
   "outputs": [
    {
     "name": "stdout",
     "output_type": "stream",
     "text": [
      "[1, 1, 0, 0, 0]\n",
      "[1, 1, 0, 0, 0]\n"
     ]
    }
   ],
   "source": [
    "validation_predictions = clf.predict(validation_matrix)\n",
    "print list(validation_predictions)\n",
    "print validation_key"
   ]
  },
  {
   "cell_type": "markdown",
   "metadata": {},
   "source": [
    "####Here's some information about the driver genes and the passenger genes"
   ]
  },
  {
   "cell_type": "code",
   "execution_count": 140,
   "metadata": {
    "collapsed": false,
    "scrolled": false
   },
   "outputs": [
    {
     "data": {
      "text/html": [
       "<div style=\"max-height:1000px;max-width:1500px;overflow:auto;\">\n",
       "<table border=\"1\" class=\"dataframe\">\n",
       "  <thead>\n",
       "    <tr style=\"text-align: right;\">\n",
       "      <th></th>\n",
       "      <th>Entrez_Gene_Id</th>\n",
       "      <th>counts</th>\n",
       "      <th>Perc_Bi_Allelic</th>\n",
       "      <th>Density</th>\n",
       "    </tr>\n",
       "  </thead>\n",
       "  <tbody>\n",
       "    <tr>\n",
       "      <th>count</th>\n",
       "      <td>     8.00000</td>\n",
       "      <td>   8.000000</td>\n",
       "      <td> 8.000000</td>\n",
       "      <td>    8.000000</td>\n",
       "    </tr>\n",
       "    <tr>\n",
       "      <th>mean</th>\n",
       "      <td>  5913.25000</td>\n",
       "      <td>  71.375000</td>\n",
       "      <td> 0.443750</td>\n",
       "      <td> 1527.862500</td>\n",
       "    </tr>\n",
       "    <tr>\n",
       "      <th>std</th>\n",
       "      <td>  7355.63323</td>\n",
       "      <td> 166.122964</td>\n",
       "      <td> 0.179878</td>\n",
       "      <td>  280.582572</td>\n",
       "    </tr>\n",
       "    <tr>\n",
       "      <th>min</th>\n",
       "      <td>   207.00000</td>\n",
       "      <td>   1.000000</td>\n",
       "      <td> 0.000000</td>\n",
       "      <td> 1035.300000</td>\n",
       "    </tr>\n",
       "    <tr>\n",
       "      <th>25%</th>\n",
       "      <td>  2617.00000</td>\n",
       "      <td>   2.000000</td>\n",
       "      <td> 0.500000</td>\n",
       "      <td> 1320.200000</td>\n",
       "    </tr>\n",
       "    <tr>\n",
       "      <th>50%</th>\n",
       "      <td>  4369.00000</td>\n",
       "      <td>   4.000000</td>\n",
       "      <td> 0.500000</td>\n",
       "      <td> 1602.750000</td>\n",
       "    </tr>\n",
       "    <tr>\n",
       "      <th>75%</th>\n",
       "      <td>  5399.50000</td>\n",
       "      <td>  31.500000</td>\n",
       "      <td> 0.502083</td>\n",
       "      <td> 1751.150000</td>\n",
       "    </tr>\n",
       "    <tr>\n",
       "      <th>max</th>\n",
       "      <td> 23405.00000</td>\n",
       "      <td> 480.000000</td>\n",
       "      <td> 0.541667</td>\n",
       "      <td> 1824.500000</td>\n",
       "    </tr>\n",
       "  </tbody>\n",
       "</table>\n",
       "</div>"
      ],
      "text/plain": [
       "       Entrez_Gene_Id      counts  Perc_Bi_Allelic      Density\n",
       "count         8.00000    8.000000         8.000000     8.000000\n",
       "mean       5913.25000   71.375000         0.443750  1527.862500\n",
       "std        7355.63323  166.122964         0.179878   280.582572\n",
       "min         207.00000    1.000000         0.000000  1035.300000\n",
       "25%        2617.00000    2.000000         0.500000  1320.200000\n",
       "50%        4369.00000    4.000000         0.500000  1602.750000\n",
       "75%        5399.50000   31.500000         0.502083  1751.150000\n",
       "max       23405.00000  480.000000         0.541667  1824.500000"
      ]
     },
     "execution_count": 140,
     "metadata": {},
     "output_type": "execute_result"
    }
   ],
   "source": [
    "cancer_feature_vector = pd.concat([cancer_feature_vector_training, cancer_feature_vector_validation])\n",
    "cancer_feature_vector.describe()"
   ]
  },
  {
   "cell_type": "code",
   "execution_count": 149,
   "metadata": {
    "collapsed": false,
    "scrolled": false
   },
   "outputs": [
    {
     "data": {
      "text/html": [
       "<div style=\"max-height:1000px;max-width:1500px;overflow:auto;\">\n",
       "<table border=\"1\" class=\"dataframe\">\n",
       "  <thead>\n",
       "    <tr style=\"text-align: right;\">\n",
       "      <th></th>\n",
       "      <th>Entrez_Gene_Id</th>\n",
       "      <th>counts</th>\n",
       "      <th>Perc_Bi_Allelic</th>\n",
       "      <th>Density</th>\n",
       "    </tr>\n",
       "  </thead>\n",
       "  <tbody>\n",
       "    <tr>\n",
       "      <th>count</th>\n",
       "      <td>      9.000000</td>\n",
       "      <td> 9.000000</td>\n",
       "      <td> 9</td>\n",
       "      <td>    9.000000</td>\n",
       "    </tr>\n",
       "    <tr>\n",
       "      <th>mean</th>\n",
       "      <td>  98423.777778</td>\n",
       "      <td> 2.777778</td>\n",
       "      <td> 1</td>\n",
       "      <td>  249.322222</td>\n",
       "    </tr>\n",
       "    <tr>\n",
       "      <th>std</th>\n",
       "      <td> 143824.453413</td>\n",
       "      <td> 1.922094</td>\n",
       "      <td> 0</td>\n",
       "      <td>  367.367816</td>\n",
       "    </tr>\n",
       "    <tr>\n",
       "      <th>min</th>\n",
       "      <td>    143.000000</td>\n",
       "      <td> 1.000000</td>\n",
       "      <td> 1</td>\n",
       "      <td>    0.000000</td>\n",
       "    </tr>\n",
       "    <tr>\n",
       "      <th>25%</th>\n",
       "      <td>   2312.000000</td>\n",
       "      <td> 1.000000</td>\n",
       "      <td> 1</td>\n",
       "      <td>    1.500000</td>\n",
       "    </tr>\n",
       "    <tr>\n",
       "      <th>50%</th>\n",
       "      <td>   5545.000000</td>\n",
       "      <td> 3.000000</td>\n",
       "      <td> 1</td>\n",
       "      <td>   97.700000</td>\n",
       "    </tr>\n",
       "    <tr>\n",
       "      <th>75%</th>\n",
       "      <td> 113146.000000</td>\n",
       "      <td> 4.000000</td>\n",
       "      <td> 1</td>\n",
       "      <td>  212.700000</td>\n",
       "    </tr>\n",
       "    <tr>\n",
       "      <th>max</th>\n",
       "      <td> 388646.000000</td>\n",
       "      <td> 6.000000</td>\n",
       "      <td> 1</td>\n",
       "      <td> 1030.300000</td>\n",
       "    </tr>\n",
       "  </tbody>\n",
       "</table>\n",
       "</div>"
      ],
      "text/plain": [
       "       Entrez_Gene_Id    counts  Perc_Bi_Allelic      Density\n",
       "count        9.000000  9.000000                9     9.000000\n",
       "mean     98423.777778  2.777778                1   249.322222\n",
       "std     143824.453413  1.922094                0   367.367816\n",
       "min        143.000000  1.000000                1     0.000000\n",
       "25%       2312.000000  1.000000                1     1.500000\n",
       "50%       5545.000000  3.000000                1    97.700000\n",
       "75%     113146.000000  4.000000                1   212.700000\n",
       "max     388646.000000  6.000000                1  1030.300000"
      ]
     },
     "execution_count": 149,
     "metadata": {},
     "output_type": "execute_result"
    }
   ],
   "source": [
    "neutral_feature_vector = pd.concat([neutral_feature_vector_training, neutral_feature_vector_validation])\n",
    "neutral_feature_vector.describe()"
   ]
  },
  {
   "cell_type": "markdown",
   "metadata": {},
   "source": [
    "####Density appears to be the big differentiator. Let's plot it to get a better idea."
   ]
  },
  {
   "cell_type": "code",
   "execution_count": 142,
   "metadata": {
    "collapsed": false,
    "scrolled": true
   },
   "outputs": [
    {
     "data": {
      "text/plain": [
       "<matplotlib.legend.Legend at 0x119639e10>"
      ]
     },
     "execution_count": 142,
     "metadata": {},
     "output_type": "execute_result"
    },
    {
     "data": {
      "image/png": "[encoded data removed]",
      "text/plain": [
       "<matplotlib.figure.Figure at 0x11475fc50>"
      ]
     },
     "metadata": {},
     "output_type": "display_data"
    }
   ],
   "source": [
    "ax = cancer_feature_vector.Density.hist(normed=True, alpha=0.5, color='b', label='Driver')\n",
    "neutral_feature_vector.Density.hist(normed=True, alpha=0.5, ax=ax, color='g', label='Passenger')\n",
    "ax.set_xlabel(\"Density\")\n",
    "ax.set_ylabel(\"Frequency\")\n",
    "patches, labels = ax.get_legend_handles_labels()\n",
    "ax.legend(patches, labels, loc=9)"
   ]
  },
  {
   "cell_type": "markdown",
   "metadata": {},
   "source": [
    "#This is supposed to be bioinformatics, right? Where's the biology?"
   ]
  },
  {
   "cell_type": "markdown",
   "metadata": {},
   "source": [
    "####Luckily, we can find out a little bit of information about some of our predicted genes."
   ]
  },
  {
   "cell_type": "code",
   "execution_count": 143,
   "metadata": {
    "collapsed": true
   },
   "outputs": [],
   "source": [
    "tcga_feature_vector['output'] = pd.Series(output)\n",
    "tcga_feature_vector.head()"
   ]
  },
  {
   "cell_type": "markdown",
   "metadata": {},
   "source": [
    "####Let's isolate the genes that are predicted to drive cancer."
   ]
  },
  {
   "cell_type": "code",
   "execution_count": 145,
   "metadata": {
    "collapsed": false
   },
   "outputs": [],
   "source": [
    "predicted_cancer_genes = list(tcga_feature_vector[tcga_feature_vector.output == 1].Entrez_Gene_Id)[:10]"
   ]
  },
  {
   "cell_type": "markdown",
   "metadata": {
    "collapsed": true
   },
   "source": [
    "####We can query the NCBI entrez database directly from a python notebook to look at their functions."
   ]
  },
  {
   "cell_type": "markdown",
   "metadata": {},
   "source": [
    "#####Biopython: a library that does several useful bioinformaticsy things"
   ]
  },
  {
   "cell_type": "code",
   "execution_count": 146,
   "metadata": {
    "collapsed": false
   },
   "outputs": [],
   "source": [
    "from Bio import Entrez\n",
    "Entrez.email = \"ramarty@ucsd.edu\"\n",
    "summaries = {}\n",
    "for gene in predicted_cancer_genes:\n",
    "    handle = Entrez.esummary(db=\"gene\", id=int(gene), rettype=\"gb\", retmode=\"text\")\n",
    "    soup = BeautifulSoup(handle.read(), 'xml')\n",
    "    summaries[gene] = [str(soup.find('NomenclatureSymbol').string), str(soup.find('Summary').string)]"
   ]
  },
  {
   "cell_type": "code",
   "execution_count": 147,
   "metadata": {
    "collapsed": false
   },
   "outputs": [
    {
     "name": "stdout",
     "output_type": "stream",
     "text": [
      "['MUC4', 'The major constituents of mucus, the viscous secretion that covers epithelial surfaces such as those in the trachea, colon, and cervix, are highly glycosylated proteins called mucins. These glycoproteins play important roles in the protection of the epithelial cells and have been implicated in epithelial renewal and differentiation. This gene encodes an integral membrane glycoprotein found on the cell surface, although secreted isoforms may exist. At least two dozen transcript variants of this gene have been found, although for many of them the full-length transcript has not been determined or they are found only in tumor tissues. This gene contains a region in the coding sequence which has a variable number (>100) of 48 nt tandem repeats. [provided by RefSeq, Jul 2008]']\n"
     ]
    }
   ],
   "source": [
    "print summaries[predicted_cancer_genes[0]]"
   ]
  },
  {
   "cell_type": "markdown",
   "metadata": {},
   "source": [
    "###Also check out these useful libraries\n",
    "* cython - a python to C source code translator; could be used to speed up your code\n",
    "* Rpy2 - integrate your R code with python code\n",
    "* sqlite - interact with a sql database\n",
    "* scikit-bio - still in beta, but has promise"
   ]
  }
 ],
 "metadata": {
  "kernelspec": {
   "display_name": "Python 2",
   "language": "python",
   "name": "python2"
  },
  "language_info": {
   "codemirror_mode": {
    "name": "ipython",
    "version": 2
   },
   "file_extension": ".py",
   "mimetype": "text/x-python",
   "name": "python",
   "nbconvert_exporter": "python",
   "pygments_lexer": "ipython2",
   "version": "2.7.7"
  }
 },
 "nbformat": 4,
 "nbformat_minor": 0
}
