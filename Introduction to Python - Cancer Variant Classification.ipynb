{
 "cells": [
  {
   "cell_type": "markdown",
   "metadata": {},
   "source": [
    "# Why should I bother learning python?"
   ]
  },
  {
   "cell_type": "markdown",
   "metadata": {},
   "source": [
    "<img src=\"images/cartoon.jpeg\">"
   ]
  },
  {
   "cell_type": "markdown",
   "metadata": {},
   "source": [
    "### Most coding languages have advantages for specific use cases... LOLCODE does not.\n",
    "<img src=\"images/lolcode.png\" width=\"50%\" height=\"50%\">\n",
    "<img src=\"images/lolcode_example.png\" width=\"50%\" height=\"50%\">\n",
    "### This lecture will be addressing the advantages of python for bioinformatics data analysis coding environments."
   ]
  },
  {
   "cell_type": "markdown",
   "metadata": {},
   "source": [
    "### Fast Development\n",
    "* script language\n",
    "* dynamic typing\n",
    "* built in high level data types\n",
    "* huge standard library\n",
    "<img src=\"images/java.png\" width=\"50%\" height=\"50%\"><img src=\"images/python.png\" width=\"50%\" height=\"50%\">\n",
    "\n",
    "### Very little overhead\n",
    "* no compile setup - write your code in my_program.py and run it with python my_program.py\n",
    "* no memory management\n",
    "\n",
    "### Community support\n",
    "* huge bioinformatics toolset of libraries built in python\n",
    "* most of your questions will already be anwered on stack overflow\n",
    "* most of your colleagues will code in python, so sharing code will be simplier \n",
    "* integrates well with other languages\n",
    "\n",
    "<img src=\"images/community.png\">\n",
    "\n",
    "### Readability\n",
    "* easy to intepret what you are doing based on code\n",
    "\n",
    "### Drawbacks\n",
    "* programs can run slower\n",
    "* less flexibility\n"
   ]
  },
  {
   "cell_type": "markdown",
   "metadata": {},
   "source": [
    "# \"I would love to be able to interact with this code as Rachel talks... How can I do that?\""
   ]
  },
  {
   "cell_type": "markdown",
   "metadata": {},
   "source": [
    "You're in luck! iPython (now referred to as Jupyter) has a notebook format which is easy to open and edit.\n",
    "\n",
    "### To Open:\n",
    "If you have downloaded the Anaconda distribution, you should already have jupyter notebooks at your commandline.\n",
    "\n",
    "To check if you are using the Anaconda distribution, type the following at the command line:\n",
    "```\n",
    "$ which python\n",
    "```\n",
    "\n",
    "The response should be something like the following:\n",
    "```\n",
    "/Applications/anaconda/bin/python\n",
    "```\n",
    "\n",
    "Clone into my github repository:\n",
    "```\n",
    "git clone https://github.com/Rachelmarty20/bootcamp.git\n",
    "```\n",
    "\n",
    "Move into the direcory:\n",
    "```\n",
    "cd bootcamp\n",
    "```\n",
    "\n",
    "Next, open an ipython notebook:\n",
    "```\n",
    "$ ipython notebook\n",
    "```\n",
    "<img src=\"images/ipy_notebook_start.png\">\n",
    "\n",
    "Select the \"Introduction to Python - Cancer Variant Classification\" notebook.\n",
    "\n",
    "### To Edit:\n",
    "\n",
    "Double click on any cell.\n",
    "\n",
    "### To Run:\n",
    "\n",
    "Select Cell -> Run from menu or click triangle or learn <a href=\"http://johnlaudun.org/20131228-ipython-notebook-keyboard-shortcuts/\">shortcuts</a>."
   ]
  },
  {
   "cell_type": "markdown",
   "metadata": {},
   "source": [
    "# Cancer Variant Classification\n",
    "\n",
    "Cancer is caused by variations in the genome. However, patients have thousands of germline variants and hundreds of somatic mutations. \n",
    "\n",
    "### Can we predict which somatic mutations \"drive\" cancer and which are just \"passengers\"?\n",
    "\n",
    "We will be working with The Cancer Genome Atlast (TCGA), which is a large cancer data set used in lots of cancer research. \n",
    "\n",
    "<img src=\"images/tcga.jpg\">"
   ]
  },
  {
   "cell_type": "markdown",
   "metadata": {},
   "source": [
    "## Let's start by getting the mutation calls\n"
   ]
  },
  {
   "cell_type": "code",
   "execution_count": 1,
   "metadata": {},
   "outputs": [],
   "source": [
    "import pandas as pd"
   ]
  },
  {
   "cell_type": "markdown",
   "metadata": {},
   "source": [
    "## Detour:\n",
    "### pandas - library for high performance data structures and data analysis \n",
    "\n",
    "<img src=\"images/pandas_real.jpg\">\n",
    "\n",
    "\n",
    "(will likely become your best friend - bite the bullet and learn how to use it as soon as possible)\n",
    "\n",
    "### Some things to know about pandas before we dive in:\n",
    "\n",
    "* It is built on top of numpy (numerical python), which allows you to do some fancy things with numbers and sequences"
   ]
  },
  {
   "cell_type": "code",
   "execution_count": 1,
   "metadata": {},
   "outputs": [
    {
     "name": "stdout",
     "output_type": "stream",
     "text": [
      "('x:', array([2, 7, 5]))\n"
     ]
    }
   ],
   "source": [
    "import numpy as np\n",
    "# a one dimensional array\n",
    "x = np.array([2, 7, 5])\n",
    "print('x:', x)"
   ]
  },
  {
   "cell_type": "code",
   "execution_count": 3,
   "metadata": {
    "scrolled": true
   },
   "outputs": [
    {
     "name": "stdout",
     "output_type": "stream",
     "text": [
      "y: [ 4  7 10]\n"
     ]
    }
   ],
   "source": [
    "# a sequence starting from 4 to 12 with a step size of 3\n",
    "y = np.arange(4, 12, 3)\n",
    "print('y:', y)"
   ]
  },
  {
   "cell_type": "code",
   "execution_count": 4,
   "metadata": {},
   "outputs": [
    {
     "name": "stdout",
     "output_type": "stream",
     "text": [
      "x + y: [ 6 14 15]\n",
      "x / y: [0 1 0]\n",
      "x ^ y: [     16  823543 9765625]\n"
     ]
    }
   ],
   "source": [
    "# element-wise operations on arrays\n",
    "print('x + y:', x + y)\n",
    "print('x / y:', x / y)\n",
    "print('x ^ y:', x ** y) "
   ]
  },
  {
   "cell_type": "markdown",
   "metadata": {},
   "source": [
    "* it also integrates well with scipy (scientific python), which will be your best resource for any complex statistics\n",
    "* let's also just introduce matplotlib while we are at it - pyplot is one of the most popular plotting tools in python"
   ]
  },
  {
   "cell_type": "code",
   "execution_count": 5,
   "metadata": {
    "scrolled": true
   },
   "outputs": [
    {
     "data": {
      "text/plain": [
       "[<matplotlib.lines.Line2D at 0x1a1c6ec310>]"
      ]
     },
     "execution_count": 5,
     "metadata": {},
     "output_type": "execute_result"
    },
    {
     "data": {
      "image/png": "[encoded data removed]",
      "text/plain": [
       "<Figure size 432x288 with 1 Axes>"
      ]
     },
     "metadata": {},
     "output_type": "display_data"
    }
   ],
   "source": [
    "%matplotlib inline\n",
    "from scipy.stats import norm\n",
    "import matplotlib.pyplot as plt\n",
    "fig, ax = plt.subplots(1, 1)\n",
    "x = np.linspace(norm.ppf(0.01), norm.ppf(0.99), 100)\n",
    "ax.plot(x, norm.pdf(x), 'r-', lw=5, alpha=0.6, label='norm pdf')"
   ]
  },
  {
   "cell_type": "markdown",
   "metadata": {},
   "source": [
    "## Now back to downloading our cancer variants. Let's use pandas to get them into a dataframe. <BR>\n",
    "   I have already downloaded a metadata file for you from the TCGA data portal: https://portal.gdc.cancer.gov/ <br>\n",
    "    This metadata file allows us to download somatic variant files directly from our notebook."
   ]
  },
  {
   "cell_type": "code",
   "execution_count": 6,
   "metadata": {},
   "outputs": [],
   "source": [
    "metadata = pd.read_csv('./gdc_manifest.2018-08-09.txt', sep='\\t')"
   ]
  },
  {
   "cell_type": "code",
   "execution_count": 7,
   "metadata": {},
   "outputs": [
    {
     "data": {
      "text/html": [
       "<div>\n",
       "<style scoped>\n",
       "    .dataframe tbody tr th:only-of-type {\n",
       "        vertical-align: middle;\n",
       "    }\n",
       "\n",
       "    .dataframe tbody tr th {\n",
       "        vertical-align: top;\n",
       "    }\n",
       "\n",
       "    .dataframe thead th {\n",
       "        text-align: right;\n",
       "    }\n",
       "</style>\n",
       "<table border=\"1\" class=\"dataframe\">\n",
       "  <thead>\n",
       "    <tr style=\"text-align: right;\">\n",
       "      <th></th>\n",
       "      <th>id</th>\n",
       "      <th>filename</th>\n",
       "      <th>md5</th>\n",
       "      <th>size</th>\n",
       "      <th>state</th>\n",
       "    </tr>\n",
       "  </thead>\n",
       "  <tbody>\n",
       "    <tr>\n",
       "      <th>0</th>\n",
       "      <td>6f6a4290-b6be-49f5-be45-97d742957a9e</td>\n",
       "      <td>TCGA.TGCT.mutect.6f6a4290-b6be-49f5-be45-97d74...</td>\n",
       "      <td>d8b754219bc992b2736bb17109a7f872</td>\n",
       "      <td>876679</td>\n",
       "      <td>submitted</td>\n",
       "    </tr>\n",
       "    <tr>\n",
       "      <th>1</th>\n",
       "      <td>1aa33f25-3893-4f37-a6a4-361c9785d07e</td>\n",
       "      <td>TCGA.HNSC.mutect.1aa33f25-3893-4f37-a6a4-361c9...</td>\n",
       "      <td>03eec1f744c029418969a213d8ccc548</td>\n",
       "      <td>25886548</td>\n",
       "      <td>submitted</td>\n",
       "    </tr>\n",
       "    <tr>\n",
       "      <th>2</th>\n",
       "      <td>c06465a3-50e7-46f7-b2dd-7bd654ca206b</td>\n",
       "      <td>TCGA.STAD.mutect.c06465a3-50e7-46f7-b2dd-7bd65...</td>\n",
       "      <td>e0462a747a83d3f09abb28b83c1b634e</td>\n",
       "      <td>54560201</td>\n",
       "      <td>submitted</td>\n",
       "    </tr>\n",
       "    <tr>\n",
       "      <th>3</th>\n",
       "      <td>4b7a5729-b83e-4837-9b61-a6002dce1c0a</td>\n",
       "      <td>TCGA.SKCM.mutect.4b7a5729-b83e-4837-9b61-a6002...</td>\n",
       "      <td>e53f990f232210590c9a3624304e2bcf</td>\n",
       "      <td>89383976</td>\n",
       "      <td>submitted</td>\n",
       "    </tr>\n",
       "    <tr>\n",
       "      <th>4</th>\n",
       "      <td>995c0111-d90b-4140-bee7-3845436c3b42</td>\n",
       "      <td>TCGA.BRCA.mutect.995c0111-d90b-4140-bee7-38454...</td>\n",
       "      <td>4a00a1c3611c2ddcb2eed684c451eea7</td>\n",
       "      <td>31058116</td>\n",
       "      <td>submitted</td>\n",
       "    </tr>\n",
       "  </tbody>\n",
       "</table>\n",
       "</div>"
      ],
      "text/plain": [
       "                                     id  \\\n",
       "0  6f6a4290-b6be-49f5-be45-97d742957a9e   \n",
       "1  1aa33f25-3893-4f37-a6a4-361c9785d07e   \n",
       "2  c06465a3-50e7-46f7-b2dd-7bd654ca206b   \n",
       "3  4b7a5729-b83e-4837-9b61-a6002dce1c0a   \n",
       "4  995c0111-d90b-4140-bee7-3845436c3b42   \n",
       "\n",
       "                                            filename  \\\n",
       "0  TCGA.TGCT.mutect.6f6a4290-b6be-49f5-be45-97d74...   \n",
       "1  TCGA.HNSC.mutect.1aa33f25-3893-4f37-a6a4-361c9...   \n",
       "2  TCGA.STAD.mutect.c06465a3-50e7-46f7-b2dd-7bd65...   \n",
       "3  TCGA.SKCM.mutect.4b7a5729-b83e-4837-9b61-a6002...   \n",
       "4  TCGA.BRCA.mutect.995c0111-d90b-4140-bee7-38454...   \n",
       "\n",
       "                                md5      size      state  \n",
       "0  d8b754219bc992b2736bb17109a7f872    876679  submitted  \n",
       "1  03eec1f744c029418969a213d8ccc548  25886548  submitted  \n",
       "2  e0462a747a83d3f09abb28b83c1b634e  54560201  submitted  \n",
       "3  e53f990f232210590c9a3624304e2bcf  89383976  submitted  \n",
       "4  4a00a1c3611c2ddcb2eed684c451eea7  31058116  submitted  "
      ]
     },
     "execution_count": 7,
     "metadata": {},
     "output_type": "execute_result"
    }
   ],
   "source": [
    "metadata.head()"
   ]
  },
  {
   "cell_type": "markdown",
   "metadata": {},
   "source": [
    "#### Some handy libraries: <br>\n",
    "* Requests - HTTP library\n",
    "* JSON - allows for the easy reading and writing of JSON files\n",
    "* re - regular expression reader"
   ]
  },
  {
   "cell_type": "code",
   "execution_count": 8,
   "metadata": {},
   "outputs": [],
   "source": [
    "import requests\n",
    "import json\n",
    "import re"
   ]
  },
  {
   "cell_type": "markdown",
   "metadata": {},
   "source": [
    "#### Note: we are only downloading one of the variant files for the sake of this lecture because it takes a while to download all of them"
   ]
  },
  {
   "cell_type": "code",
   "execution_count": 12,
   "metadata": {},
   "outputs": [
    {
     "name": "stdout",
     "output_type": "stream",
     "text": [
      "data/TCGA.READ.mutect.faa5f62a-2731-4867-a264-0e85b7074e87.DR-10.0.somatic.maf.gz\n"
     ]
    }
   ],
   "source": [
    "file_id = metadata.loc[5, 'id']\n",
    "\n",
    "data_endpt = \"https://api.gdc.cancer.gov/data/{}\".format(file_id)\n",
    "\n",
    "response = requests.get(data_endpt, headers = {\"Content-Type\": \"application/json\"})\n",
    "\n",
    "# The file name can be found in the header within the Content-Disposition key.\n",
    "response_head_cd = response.headers[\"Content-Disposition\"]\n",
    "\n",
    "file_name = \"data/\" + re.findall(\"filename=(.+)\", response_head_cd)[0]\n",
    "\n",
    "print(file_name)\n",
    "with open(file_name, \"wb\") as output_file:\n",
    "    output_file.write(response.content)"
   ]
  },
  {
   "cell_type": "markdown",
   "metadata": {},
   "source": [
    "#### '!' allows you to write bash directly to the command line;  python variables can be used with the '$' symbol or placed in { }"
   ]
  },
  {
   "cell_type": "code",
   "execution_count": 13,
   "metadata": {
    "scrolled": true
   },
   "outputs": [],
   "source": [
    "! gunzip {file_name}"
   ]
  },
  {
   "cell_type": "code",
   "execution_count": 15,
   "metadata": {},
   "outputs": [
    {
     "name": "stderr",
     "output_type": "stream",
     "text": [
      "/Users/rachel/anaconda2/lib/python2.7/site-packages/IPython/core/interactiveshell.py:2714: DtypeWarning: Columns (87,98,118) have mixed types. Specify dtype option on import or set low_memory=False.\n",
      "  interactivity=interactivity, compiler=compiler, result=result)\n"
     ]
    },
    {
     "data": {
      "text/html": [
       "<div>\n",
       "<style scoped>\n",
       "    .dataframe tbody tr th:only-of-type {\n",
       "        vertical-align: middle;\n",
       "    }\n",
       "\n",
       "    .dataframe tbody tr th {\n",
       "        vertical-align: top;\n",
       "    }\n",
       "\n",
       "    .dataframe thead th {\n",
       "        text-align: right;\n",
       "    }\n",
       "</style>\n",
       "<table border=\"1\" class=\"dataframe\">\n",
       "  <thead>\n",
       "    <tr style=\"text-align: right;\">\n",
       "      <th></th>\n",
       "      <th>Hugo_Symbol</th>\n",
       "      <th>Entrez_Gene_Id</th>\n",
       "      <th>Center</th>\n",
       "      <th>NCBI_Build</th>\n",
       "      <th>Chromosome</th>\n",
       "      <th>Start_Position</th>\n",
       "      <th>End_Position</th>\n",
       "      <th>Strand</th>\n",
       "      <th>Variant_Classification</th>\n",
       "      <th>Variant_Type</th>\n",
       "      <th>...</th>\n",
       "      <th>FILTER</th>\n",
       "      <th>CONTEXT</th>\n",
       "      <th>src_vcf_id</th>\n",
       "      <th>tumor_bam_uuid</th>\n",
       "      <th>normal_bam_uuid</th>\n",
       "      <th>case_id</th>\n",
       "      <th>GDC_FILTER</th>\n",
       "      <th>COSMIC</th>\n",
       "      <th>MC3_Overlap</th>\n",
       "      <th>GDC_Validation_Status</th>\n",
       "    </tr>\n",
       "  </thead>\n",
       "  <tbody>\n",
       "    <tr>\n",
       "      <th>0</th>\n",
       "      <td>C1orf94</td>\n",
       "      <td>84970</td>\n",
       "      <td>BCM</td>\n",
       "      <td>GRCh38</td>\n",
       "      <td>chr1</td>\n",
       "      <td>34218878</td>\n",
       "      <td>34218878</td>\n",
       "      <td>+</td>\n",
       "      <td>3'UTR</td>\n",
       "      <td>SNP</td>\n",
       "      <td>...</td>\n",
       "      <td>PASS</td>\n",
       "      <td>GGTCACAGACA</td>\n",
       "      <td>a6945d7d-472c-4da7-a122-de6d014564e9</td>\n",
       "      <td>12f0b883-900e-41b4-bbdf-a66b96e825ca</td>\n",
       "      <td>8d36e3fc-bd2c-441d-a4e1-ed7c94d2cb3e</td>\n",
       "      <td>e6827400-0d95-46b0-8874-6ce9e9d5011b</td>\n",
       "      <td>wga_pair</td>\n",
       "      <td>NaN</td>\n",
       "      <td>True</td>\n",
       "      <td>Unknown</td>\n",
       "    </tr>\n",
       "    <tr>\n",
       "      <th>1</th>\n",
       "      <td>MACF1</td>\n",
       "      <td>23499</td>\n",
       "      <td>BCM</td>\n",
       "      <td>GRCh38</td>\n",
       "      <td>chr1</td>\n",
       "      <td>39357837</td>\n",
       "      <td>39357837</td>\n",
       "      <td>+</td>\n",
       "      <td>Missense_Mutation</td>\n",
       "      <td>SNP</td>\n",
       "      <td>...</td>\n",
       "      <td>PASS</td>\n",
       "      <td>GAAACTTAGTA</td>\n",
       "      <td>a6945d7d-472c-4da7-a122-de6d014564e9</td>\n",
       "      <td>12f0b883-900e-41b4-bbdf-a66b96e825ca</td>\n",
       "      <td>8d36e3fc-bd2c-441d-a4e1-ed7c94d2cb3e</td>\n",
       "      <td>e6827400-0d95-46b0-8874-6ce9e9d5011b</td>\n",
       "      <td>wga_pair</td>\n",
       "      <td>COSM288283;COSM288284</td>\n",
       "      <td>True</td>\n",
       "      <td>Unknown</td>\n",
       "    </tr>\n",
       "    <tr>\n",
       "      <th>2</th>\n",
       "      <td>GBP5</td>\n",
       "      <td>115362</td>\n",
       "      <td>BCM</td>\n",
       "      <td>GRCh38</td>\n",
       "      <td>chr1</td>\n",
       "      <td>89260749</td>\n",
       "      <td>89260749</td>\n",
       "      <td>+</td>\n",
       "      <td>Silent</td>\n",
       "      <td>SNP</td>\n",
       "      <td>...</td>\n",
       "      <td>PASS</td>\n",
       "      <td>TGGGCGTGCTG</td>\n",
       "      <td>a6945d7d-472c-4da7-a122-de6d014564e9</td>\n",
       "      <td>12f0b883-900e-41b4-bbdf-a66b96e825ca</td>\n",
       "      <td>8d36e3fc-bd2c-441d-a4e1-ed7c94d2cb3e</td>\n",
       "      <td>e6827400-0d95-46b0-8874-6ce9e9d5011b</td>\n",
       "      <td>wga_pair</td>\n",
       "      <td>COSM288277</td>\n",
       "      <td>True</td>\n",
       "      <td>Unknown</td>\n",
       "    </tr>\n",
       "    <tr>\n",
       "      <th>3</th>\n",
       "      <td>ZNF326</td>\n",
       "      <td>284695</td>\n",
       "      <td>BCM</td>\n",
       "      <td>GRCh38</td>\n",
       "      <td>chr1</td>\n",
       "      <td>90007501</td>\n",
       "      <td>90007501</td>\n",
       "      <td>+</td>\n",
       "      <td>Silent</td>\n",
       "      <td>SNP</td>\n",
       "      <td>...</td>\n",
       "      <td>PASS</td>\n",
       "      <td>TCTTTCGGAGG</td>\n",
       "      <td>a6945d7d-472c-4da7-a122-de6d014564e9</td>\n",
       "      <td>12f0b883-900e-41b4-bbdf-a66b96e825ca</td>\n",
       "      <td>8d36e3fc-bd2c-441d-a4e1-ed7c94d2cb3e</td>\n",
       "      <td>e6827400-0d95-46b0-8874-6ce9e9d5011b</td>\n",
       "      <td>wga_pair</td>\n",
       "      <td>COSM288313</td>\n",
       "      <td>True</td>\n",
       "      <td>Unknown</td>\n",
       "    </tr>\n",
       "    <tr>\n",
       "      <th>4</th>\n",
       "      <td>BRDT</td>\n",
       "      <td>676</td>\n",
       "      <td>BCM</td>\n",
       "      <td>GRCh38</td>\n",
       "      <td>chr1</td>\n",
       "      <td>91977358</td>\n",
       "      <td>91977358</td>\n",
       "      <td>+</td>\n",
       "      <td>Missense_Mutation</td>\n",
       "      <td>SNP</td>\n",
       "      <td>...</td>\n",
       "      <td>PASS</td>\n",
       "      <td>ATGACGTTGTC</td>\n",
       "      <td>a6945d7d-472c-4da7-a122-de6d014564e9</td>\n",
       "      <td>12f0b883-900e-41b4-bbdf-a66b96e825ca</td>\n",
       "      <td>8d36e3fc-bd2c-441d-a4e1-ed7c94d2cb3e</td>\n",
       "      <td>e6827400-0d95-46b0-8874-6ce9e9d5011b</td>\n",
       "      <td>wga_pair</td>\n",
       "      <td>COSM171492</td>\n",
       "      <td>True</td>\n",
       "      <td>Unknown</td>\n",
       "    </tr>\n",
       "  </tbody>\n",
       "</table>\n",
       "<p>5 rows × 120 columns</p>\n",
       "</div>"
      ],
      "text/plain": [
       "  Hugo_Symbol  Entrez_Gene_Id Center NCBI_Build Chromosome  Start_Position  \\\n",
       "0     C1orf94           84970    BCM     GRCh38       chr1        34218878   \n",
       "1       MACF1           23499    BCM     GRCh38       chr1        39357837   \n",
       "2        GBP5          115362    BCM     GRCh38       chr1        89260749   \n",
       "3      ZNF326          284695    BCM     GRCh38       chr1        90007501   \n",
       "4        BRDT             676    BCM     GRCh38       chr1        91977358   \n",
       "\n",
       "   End_Position Strand Variant_Classification Variant_Type  \\\n",
       "0      34218878      +                  3'UTR          SNP   \n",
       "1      39357837      +      Missense_Mutation          SNP   \n",
       "2      89260749      +                 Silent          SNP   \n",
       "3      90007501      +                 Silent          SNP   \n",
       "4      91977358      +      Missense_Mutation          SNP   \n",
       "\n",
       "           ...          FILTER      CONTEXT  \\\n",
       "0          ...            PASS  GGTCACAGACA   \n",
       "1          ...            PASS  GAAACTTAGTA   \n",
       "2          ...            PASS  TGGGCGTGCTG   \n",
       "3          ...            PASS  TCTTTCGGAGG   \n",
       "4          ...            PASS  ATGACGTTGTC   \n",
       "\n",
       "                             src_vcf_id                        tumor_bam_uuid  \\\n",
       "0  a6945d7d-472c-4da7-a122-de6d014564e9  12f0b883-900e-41b4-bbdf-a66b96e825ca   \n",
       "1  a6945d7d-472c-4da7-a122-de6d014564e9  12f0b883-900e-41b4-bbdf-a66b96e825ca   \n",
       "2  a6945d7d-472c-4da7-a122-de6d014564e9  12f0b883-900e-41b4-bbdf-a66b96e825ca   \n",
       "3  a6945d7d-472c-4da7-a122-de6d014564e9  12f0b883-900e-41b4-bbdf-a66b96e825ca   \n",
       "4  a6945d7d-472c-4da7-a122-de6d014564e9  12f0b883-900e-41b4-bbdf-a66b96e825ca   \n",
       "\n",
       "                        normal_bam_uuid                               case_id  \\\n",
       "0  8d36e3fc-bd2c-441d-a4e1-ed7c94d2cb3e  e6827400-0d95-46b0-8874-6ce9e9d5011b   \n",
       "1  8d36e3fc-bd2c-441d-a4e1-ed7c94d2cb3e  e6827400-0d95-46b0-8874-6ce9e9d5011b   \n",
       "2  8d36e3fc-bd2c-441d-a4e1-ed7c94d2cb3e  e6827400-0d95-46b0-8874-6ce9e9d5011b   \n",
       "3  8d36e3fc-bd2c-441d-a4e1-ed7c94d2cb3e  e6827400-0d95-46b0-8874-6ce9e9d5011b   \n",
       "4  8d36e3fc-bd2c-441d-a4e1-ed7c94d2cb3e  e6827400-0d95-46b0-8874-6ce9e9d5011b   \n",
       "\n",
       "  GDC_FILTER                 COSMIC  MC3_Overlap GDC_Validation_Status  \n",
       "0   wga_pair                    NaN         True               Unknown  \n",
       "1   wga_pair  COSM288283;COSM288284         True               Unknown  \n",
       "2   wga_pair             COSM288277         True               Unknown  \n",
       "3   wga_pair             COSM288313         True               Unknown  \n",
       "4   wga_pair             COSM171492         True               Unknown  \n",
       "\n",
       "[5 rows x 120 columns]"
      ]
     },
     "execution_count": 15,
     "metadata": {},
     "output_type": "execute_result"
    }
   ],
   "source": [
    "maf_df = pd.read_csv(file_name[:-3], sep='\\t', header=0, skiprows= 4, comment='#')\n",
    "maf_df.head()"
   ]
  },
  {
   "cell_type": "code",
   "execution_count": 16,
   "metadata": {},
   "outputs": [
    {
     "data": {
      "text/plain": [
       "['Hugo_Symbol',\n",
       " 'Entrez_Gene_Id',\n",
       " 'Center',\n",
       " 'NCBI_Build',\n",
       " 'Chromosome',\n",
       " 'Start_Position',\n",
       " 'End_Position',\n",
       " 'Strand',\n",
       " 'Variant_Classification',\n",
       " 'Variant_Type',\n",
       " 'Reference_Allele',\n",
       " 'Tumor_Seq_Allele1',\n",
       " 'Tumor_Seq_Allele2',\n",
       " 'dbSNP_RS',\n",
       " 'dbSNP_Val_Status',\n",
       " 'Tumor_Sample_Barcode',\n",
       " 'Matched_Norm_Sample_Barcode',\n",
       " 'Match_Norm_Seq_Allele1',\n",
       " 'Match_Norm_Seq_Allele2',\n",
       " 'Tumor_Validation_Allele1',\n",
       " 'Tumor_Validation_Allele2',\n",
       " 'Match_Norm_Validation_Allele1',\n",
       " 'Match_Norm_Validation_Allele2',\n",
       " 'Verification_Status',\n",
       " 'Validation_Status',\n",
       " 'Mutation_Status',\n",
       " 'Sequencing_Phase',\n",
       " 'Sequence_Source',\n",
       " 'Validation_Method',\n",
       " 'Score',\n",
       " 'BAM_File',\n",
       " 'Sequencer',\n",
       " 'Tumor_Sample_UUID',\n",
       " 'Matched_Norm_Sample_UUID',\n",
       " 'HGVSc',\n",
       " 'HGVSp',\n",
       " 'HGVSp_Short',\n",
       " 'Transcript_ID',\n",
       " 'Exon_Number',\n",
       " 't_depth',\n",
       " 't_ref_count',\n",
       " 't_alt_count',\n",
       " 'n_depth',\n",
       " 'n_ref_count',\n",
       " 'n_alt_count',\n",
       " 'all_effects',\n",
       " 'Allele',\n",
       " 'Gene',\n",
       " 'Feature',\n",
       " 'Feature_type',\n",
       " 'One_Consequence',\n",
       " 'Consequence',\n",
       " 'cDNA_position',\n",
       " 'CDS_position',\n",
       " 'Protein_position',\n",
       " 'Amino_acids',\n",
       " 'Codons',\n",
       " 'Existing_variation',\n",
       " 'ALLELE_NUM',\n",
       " 'DISTANCE',\n",
       " 'TRANSCRIPT_STRAND',\n",
       " 'SYMBOL',\n",
       " 'SYMBOL_SOURCE',\n",
       " 'HGNC_ID',\n",
       " 'BIOTYPE',\n",
       " 'CANONICAL',\n",
       " 'CCDS',\n",
       " 'ENSP',\n",
       " 'SWISSPROT',\n",
       " 'TREMBL',\n",
       " 'UNIPARC',\n",
       " 'RefSeq',\n",
       " 'SIFT',\n",
       " 'PolyPhen',\n",
       " 'EXON',\n",
       " 'INTRON',\n",
       " 'DOMAINS',\n",
       " 'GMAF',\n",
       " 'AFR_MAF',\n",
       " 'AMR_MAF',\n",
       " 'ASN_MAF',\n",
       " 'EAS_MAF',\n",
       " 'EUR_MAF',\n",
       " 'SAS_MAF',\n",
       " 'AA_MAF',\n",
       " 'EA_MAF',\n",
       " 'CLIN_SIG',\n",
       " 'SOMATIC',\n",
       " 'PUBMED',\n",
       " 'MOTIF_NAME',\n",
       " 'MOTIF_POS',\n",
       " 'HIGH_INF_POS',\n",
       " 'MOTIF_SCORE_CHANGE',\n",
       " 'IMPACT',\n",
       " 'PICK',\n",
       " 'VARIANT_CLASS',\n",
       " 'TSL',\n",
       " 'HGVS_OFFSET',\n",
       " 'PHENO',\n",
       " 'MINIMISED',\n",
       " 'ExAC_AF',\n",
       " 'ExAC_AF_Adj',\n",
       " 'ExAC_AF_AFR',\n",
       " 'ExAC_AF_AMR',\n",
       " 'ExAC_AF_EAS',\n",
       " 'ExAC_AF_FIN',\n",
       " 'ExAC_AF_NFE',\n",
       " 'ExAC_AF_OTH',\n",
       " 'ExAC_AF_SAS',\n",
       " 'GENE_PHENO',\n",
       " 'FILTER',\n",
       " 'CONTEXT',\n",
       " 'src_vcf_id',\n",
       " 'tumor_bam_uuid',\n",
       " 'normal_bam_uuid',\n",
       " 'case_id',\n",
       " 'GDC_FILTER',\n",
       " 'COSMIC',\n",
       " 'MC3_Overlap',\n",
       " 'GDC_Validation_Status']"
      ]
     },
     "execution_count": 16,
     "metadata": {},
     "output_type": "execute_result"
    }
   ],
   "source": [
    "list(maf_df.columns)"
   ]
  },
  {
   "cell_type": "markdown",
   "metadata": {},
   "source": [
    "#### Now we have all of our somatic mutations."
   ]
  },
  {
   "cell_type": "markdown",
   "metadata": {},
   "source": [
    "#### Let's restrict the number of columns to those useful to us. This will make the dataframe more managable (and aestheically pleasing)."
   ]
  },
  {
   "cell_type": "code",
   "execution_count": 17,
   "metadata": {
    "scrolled": true
   },
   "outputs": [
    {
     "data": {
      "text/html": [
       "<div>\n",
       "<style scoped>\n",
       "    .dataframe tbody tr th:only-of-type {\n",
       "        vertical-align: middle;\n",
       "    }\n",
       "\n",
       "    .dataframe tbody tr th {\n",
       "        vertical-align: top;\n",
       "    }\n",
       "\n",
       "    .dataframe thead th {\n",
       "        text-align: right;\n",
       "    }\n",
       "</style>\n",
       "<table border=\"1\" class=\"dataframe\">\n",
       "  <thead>\n",
       "    <tr style=\"text-align: right;\">\n",
       "      <th></th>\n",
       "      <th>Hugo_Symbol</th>\n",
       "      <th>Chromosome</th>\n",
       "      <th>Start_Position</th>\n",
       "      <th>End_Position</th>\n",
       "      <th>Strand</th>\n",
       "      <th>Reference_Allele</th>\n",
       "      <th>Tumor_Seq_Allele1</th>\n",
       "      <th>Tumor_Seq_Allele2</th>\n",
       "      <th>Tumor_Sample_Barcode</th>\n",
       "      <th>Entrez_Gene_Id</th>\n",
       "      <th>Variant_Classification</th>\n",
       "      <th>Variant_Type</th>\n",
       "    </tr>\n",
       "  </thead>\n",
       "  <tbody>\n",
       "    <tr>\n",
       "      <th>0</th>\n",
       "      <td>C1orf94</td>\n",
       "      <td>chr1</td>\n",
       "      <td>34218878</td>\n",
       "      <td>34218878</td>\n",
       "      <td>+</td>\n",
       "      <td>C</td>\n",
       "      <td>C</td>\n",
       "      <td>T</td>\n",
       "      <td>TCGA-AG-3727-01A-01W-0899-10</td>\n",
       "      <td>84970</td>\n",
       "      <td>3'UTR</td>\n",
       "      <td>SNP</td>\n",
       "    </tr>\n",
       "    <tr>\n",
       "      <th>1</th>\n",
       "      <td>MACF1</td>\n",
       "      <td>chr1</td>\n",
       "      <td>39357837</td>\n",
       "      <td>39357837</td>\n",
       "      <td>+</td>\n",
       "      <td>T</td>\n",
       "      <td>T</td>\n",
       "      <td>G</td>\n",
       "      <td>TCGA-AG-3727-01A-01W-0899-10</td>\n",
       "      <td>23499</td>\n",
       "      <td>Missense_Mutation</td>\n",
       "      <td>SNP</td>\n",
       "    </tr>\n",
       "    <tr>\n",
       "      <th>2</th>\n",
       "      <td>GBP5</td>\n",
       "      <td>chr1</td>\n",
       "      <td>89260749</td>\n",
       "      <td>89260749</td>\n",
       "      <td>+</td>\n",
       "      <td>G</td>\n",
       "      <td>G</td>\n",
       "      <td>A</td>\n",
       "      <td>TCGA-AG-3727-01A-01W-0899-10</td>\n",
       "      <td>115362</td>\n",
       "      <td>Silent</td>\n",
       "      <td>SNP</td>\n",
       "    </tr>\n",
       "    <tr>\n",
       "      <th>3</th>\n",
       "      <td>ZNF326</td>\n",
       "      <td>chr1</td>\n",
       "      <td>90007501</td>\n",
       "      <td>90007501</td>\n",
       "      <td>+</td>\n",
       "      <td>C</td>\n",
       "      <td>C</td>\n",
       "      <td>T</td>\n",
       "      <td>TCGA-AG-3727-01A-01W-0899-10</td>\n",
       "      <td>284695</td>\n",
       "      <td>Silent</td>\n",
       "      <td>SNP</td>\n",
       "    </tr>\n",
       "    <tr>\n",
       "      <th>4</th>\n",
       "      <td>BRDT</td>\n",
       "      <td>chr1</td>\n",
       "      <td>91977358</td>\n",
       "      <td>91977358</td>\n",
       "      <td>+</td>\n",
       "      <td>G</td>\n",
       "      <td>G</td>\n",
       "      <td>A</td>\n",
       "      <td>TCGA-AG-3727-01A-01W-0899-10</td>\n",
       "      <td>676</td>\n",
       "      <td>Missense_Mutation</td>\n",
       "      <td>SNP</td>\n",
       "    </tr>\n",
       "  </tbody>\n",
       "</table>\n",
       "</div>"
      ],
      "text/plain": [
       "  Hugo_Symbol Chromosome  Start_Position  End_Position Strand  \\\n",
       "0     C1orf94       chr1        34218878      34218878      +   \n",
       "1       MACF1       chr1        39357837      39357837      +   \n",
       "2        GBP5       chr1        89260749      89260749      +   \n",
       "3      ZNF326       chr1        90007501      90007501      +   \n",
       "4        BRDT       chr1        91977358      91977358      +   \n",
       "\n",
       "  Reference_Allele Tumor_Seq_Allele1 Tumor_Seq_Allele2  \\\n",
       "0                C                 C                 T   \n",
       "1                T                 T                 G   \n",
       "2                G                 G                 A   \n",
       "3                C                 C                 T   \n",
       "4                G                 G                 A   \n",
       "\n",
       "           Tumor_Sample_Barcode  Entrez_Gene_Id Variant_Classification  \\\n",
       "0  TCGA-AG-3727-01A-01W-0899-10           84970                  3'UTR   \n",
       "1  TCGA-AG-3727-01A-01W-0899-10           23499      Missense_Mutation   \n",
       "2  TCGA-AG-3727-01A-01W-0899-10          115362                 Silent   \n",
       "3  TCGA-AG-3727-01A-01W-0899-10          284695                 Silent   \n",
       "4  TCGA-AG-3727-01A-01W-0899-10             676      Missense_Mutation   \n",
       "\n",
       "  Variant_Type  \n",
       "0          SNP  \n",
       "1          SNP  \n",
       "2          SNP  \n",
       "3          SNP  \n",
       "4          SNP  "
      ]
     },
     "execution_count": 17,
     "metadata": {},
     "output_type": "execute_result"
    }
   ],
   "source": [
    "maf_df2 = maf_df.loc[:, ['Hugo_Symbol', 'Chromosome', 'Start_Position', \n",
    "         'End_Position', 'Strand', 'Reference_Allele', \n",
    "         'Tumor_Seq_Allele1', 'Tumor_Seq_Allele2',\n",
    "         'Tumor_Sample_Barcode', 'Entrez_Gene_Id',\n",
    "         'Variant_Classification','Variant_Type']]\n",
    "maf_df2.head()"
   ]
  },
  {
   "cell_type": "markdown",
   "metadata": {},
   "source": [
    "#### We want to know if mutation has occured in both strands or only one. We apply a function to the pandas dataframe to get this information."
   ]
  },
  {
   "cell_type": "code",
   "execution_count": 18,
   "metadata": {
    "scrolled": true
   },
   "outputs": [],
   "source": [
    "def check_bi_allelic(x):\n",
    "    if x[0] == x[1]:\n",
    "        return True\n",
    "    else:\n",
    "        return False\n",
    "    \n",
    "maf_df2.loc[:, \"Both_Alleles\"] = maf_df2.loc[:, ['Tumor_Seq_Allele1', 'Tumor_Seq_Allele2']].apply(check_bi_allelic, axis=1)"
   ]
  },
  {
   "cell_type": "code",
   "execution_count": 19,
   "metadata": {},
   "outputs": [
    {
     "data": {
      "text/html": [
       "<div>\n",
       "<style scoped>\n",
       "    .dataframe tbody tr th:only-of-type {\n",
       "        vertical-align: middle;\n",
       "    }\n",
       "\n",
       "    .dataframe tbody tr th {\n",
       "        vertical-align: top;\n",
       "    }\n",
       "\n",
       "    .dataframe thead th {\n",
       "        text-align: right;\n",
       "    }\n",
       "</style>\n",
       "<table border=\"1\" class=\"dataframe\">\n",
       "  <thead>\n",
       "    <tr style=\"text-align: right;\">\n",
       "      <th></th>\n",
       "      <th>Hugo_Symbol</th>\n",
       "      <th>Chromosome</th>\n",
       "      <th>Start_Position</th>\n",
       "      <th>End_Position</th>\n",
       "      <th>Strand</th>\n",
       "      <th>Reference_Allele</th>\n",
       "      <th>Tumor_Seq_Allele1</th>\n",
       "      <th>Tumor_Seq_Allele2</th>\n",
       "      <th>Tumor_Sample_Barcode</th>\n",
       "      <th>Entrez_Gene_Id</th>\n",
       "      <th>Variant_Classification</th>\n",
       "      <th>Variant_Type</th>\n",
       "      <th>Both_Alleles</th>\n",
       "    </tr>\n",
       "  </thead>\n",
       "  <tbody>\n",
       "    <tr>\n",
       "      <th>0</th>\n",
       "      <td>C1orf94</td>\n",
       "      <td>chr1</td>\n",
       "      <td>34218878</td>\n",
       "      <td>34218878</td>\n",
       "      <td>+</td>\n",
       "      <td>C</td>\n",
       "      <td>C</td>\n",
       "      <td>T</td>\n",
       "      <td>TCGA-AG-3727-01A-01W-0899-10</td>\n",
       "      <td>84970</td>\n",
       "      <td>3'UTR</td>\n",
       "      <td>SNP</td>\n",
       "      <td>False</td>\n",
       "    </tr>\n",
       "    <tr>\n",
       "      <th>1</th>\n",
       "      <td>MACF1</td>\n",
       "      <td>chr1</td>\n",
       "      <td>39357837</td>\n",
       "      <td>39357837</td>\n",
       "      <td>+</td>\n",
       "      <td>T</td>\n",
       "      <td>T</td>\n",
       "      <td>G</td>\n",
       "      <td>TCGA-AG-3727-01A-01W-0899-10</td>\n",
       "      <td>23499</td>\n",
       "      <td>Missense_Mutation</td>\n",
       "      <td>SNP</td>\n",
       "      <td>False</td>\n",
       "    </tr>\n",
       "    <tr>\n",
       "      <th>2</th>\n",
       "      <td>GBP5</td>\n",
       "      <td>chr1</td>\n",
       "      <td>89260749</td>\n",
       "      <td>89260749</td>\n",
       "      <td>+</td>\n",
       "      <td>G</td>\n",
       "      <td>G</td>\n",
       "      <td>A</td>\n",
       "      <td>TCGA-AG-3727-01A-01W-0899-10</td>\n",
       "      <td>115362</td>\n",
       "      <td>Silent</td>\n",
       "      <td>SNP</td>\n",
       "      <td>False</td>\n",
       "    </tr>\n",
       "    <tr>\n",
       "      <th>3</th>\n",
       "      <td>ZNF326</td>\n",
       "      <td>chr1</td>\n",
       "      <td>90007501</td>\n",
       "      <td>90007501</td>\n",
       "      <td>+</td>\n",
       "      <td>C</td>\n",
       "      <td>C</td>\n",
       "      <td>T</td>\n",
       "      <td>TCGA-AG-3727-01A-01W-0899-10</td>\n",
       "      <td>284695</td>\n",
       "      <td>Silent</td>\n",
       "      <td>SNP</td>\n",
       "      <td>False</td>\n",
       "    </tr>\n",
       "    <tr>\n",
       "      <th>4</th>\n",
       "      <td>BRDT</td>\n",
       "      <td>chr1</td>\n",
       "      <td>91977358</td>\n",
       "      <td>91977358</td>\n",
       "      <td>+</td>\n",
       "      <td>G</td>\n",
       "      <td>G</td>\n",
       "      <td>A</td>\n",
       "      <td>TCGA-AG-3727-01A-01W-0899-10</td>\n",
       "      <td>676</td>\n",
       "      <td>Missense_Mutation</td>\n",
       "      <td>SNP</td>\n",
       "      <td>False</td>\n",
       "    </tr>\n",
       "  </tbody>\n",
       "</table>\n",
       "</div>"
      ],
      "text/plain": [
       "  Hugo_Symbol Chromosome  Start_Position  End_Position Strand  \\\n",
       "0     C1orf94       chr1        34218878      34218878      +   \n",
       "1       MACF1       chr1        39357837      39357837      +   \n",
       "2        GBP5       chr1        89260749      89260749      +   \n",
       "3      ZNF326       chr1        90007501      90007501      +   \n",
       "4        BRDT       chr1        91977358      91977358      +   \n",
       "\n",
       "  Reference_Allele Tumor_Seq_Allele1 Tumor_Seq_Allele2  \\\n",
       "0                C                 C                 T   \n",
       "1                T                 T                 G   \n",
       "2                G                 G                 A   \n",
       "3                C                 C                 T   \n",
       "4                G                 G                 A   \n",
       "\n",
       "           Tumor_Sample_Barcode  Entrez_Gene_Id Variant_Classification  \\\n",
       "0  TCGA-AG-3727-01A-01W-0899-10           84970                  3'UTR   \n",
       "1  TCGA-AG-3727-01A-01W-0899-10           23499      Missense_Mutation   \n",
       "2  TCGA-AG-3727-01A-01W-0899-10          115362                 Silent   \n",
       "3  TCGA-AG-3727-01A-01W-0899-10          284695                 Silent   \n",
       "4  TCGA-AG-3727-01A-01W-0899-10             676      Missense_Mutation   \n",
       "\n",
       "  Variant_Type  Both_Alleles  \n",
       "0          SNP         False  \n",
       "1          SNP         False  \n",
       "2          SNP         False  \n",
       "3          SNP         False  \n",
       "4          SNP         False  "
      ]
     },
     "execution_count": 19,
     "metadata": {},
     "output_type": "execute_result"
    }
   ],
   "source": [
    "maf_df2.head()"
   ]
  },
  {
   "cell_type": "markdown",
   "metadata": {},
   "source": [
    "#### Only the first 12 characters of the 'Tumor_Sample_Barcode' are relevant to the patient, so let's extract those characters."
   ]
  },
  {
   "cell_type": "code",
   "execution_count": 20,
   "metadata": {},
   "outputs": [],
   "source": [
    "maf_df2['Patient_Barcode'] = maf_df2.Tumor_Sample_Barcode.str[:12]"
   ]
  },
  {
   "cell_type": "markdown",
   "metadata": {},
   "source": [
    "#### And then simplify the dataframe again..."
   ]
  },
  {
   "cell_type": "code",
   "execution_count": 21,
   "metadata": {
    "scrolled": true
   },
   "outputs": [
    {
     "name": "stderr",
     "output_type": "stream",
     "text": [
      "/Users/rachel/anaconda2/lib/python2.7/site-packages/pandas/core/indexing.py:1472: FutureWarning: \n",
      "Passing list-likes to .loc or [] with any missing label will raise\n",
      "KeyError in the future, you can use .reindex() as an alternative.\n",
      "\n",
      "See the documentation here:\n",
      "https://pandas.pydata.org/pandas-docs/stable/indexing.html#deprecate-loc-reindex-listlike\n",
      "  return self._getitem_tuple(key)\n"
     ]
    },
    {
     "data": {
      "text/html": [
       "<div>\n",
       "<style scoped>\n",
       "    .dataframe tbody tr th:only-of-type {\n",
       "        vertical-align: middle;\n",
       "    }\n",
       "\n",
       "    .dataframe tbody tr th {\n",
       "        vertical-align: top;\n",
       "    }\n",
       "\n",
       "    .dataframe thead th {\n",
       "        text-align: right;\n",
       "    }\n",
       "</style>\n",
       "<table border=\"1\" class=\"dataframe\">\n",
       "  <thead>\n",
       "    <tr style=\"text-align: right;\">\n",
       "      <th></th>\n",
       "      <th>Hugo_Symbol</th>\n",
       "      <th>Entrez_Gene_Id</th>\n",
       "      <th>Patient_Barcode</th>\n",
       "      <th>Variant_Classification</th>\n",
       "      <th>Both_Alleles</th>\n",
       "      <th>Start_position</th>\n",
       "    </tr>\n",
       "  </thead>\n",
       "  <tbody>\n",
       "    <tr>\n",
       "      <th>0</th>\n",
       "      <td>C1orf94</td>\n",
       "      <td>84970</td>\n",
       "      <td>TCGA-AG-3727</td>\n",
       "      <td>3'UTR</td>\n",
       "      <td>False</td>\n",
       "      <td>NaN</td>\n",
       "    </tr>\n",
       "    <tr>\n",
       "      <th>1</th>\n",
       "      <td>MACF1</td>\n",
       "      <td>23499</td>\n",
       "      <td>TCGA-AG-3727</td>\n",
       "      <td>Missense_Mutation</td>\n",
       "      <td>False</td>\n",
       "      <td>NaN</td>\n",
       "    </tr>\n",
       "    <tr>\n",
       "      <th>2</th>\n",
       "      <td>GBP5</td>\n",
       "      <td>115362</td>\n",
       "      <td>TCGA-AG-3727</td>\n",
       "      <td>Silent</td>\n",
       "      <td>False</td>\n",
       "      <td>NaN</td>\n",
       "    </tr>\n",
       "    <tr>\n",
       "      <th>3</th>\n",
       "      <td>ZNF326</td>\n",
       "      <td>284695</td>\n",
       "      <td>TCGA-AG-3727</td>\n",
       "      <td>Silent</td>\n",
       "      <td>False</td>\n",
       "      <td>NaN</td>\n",
       "    </tr>\n",
       "    <tr>\n",
       "      <th>4</th>\n",
       "      <td>BRDT</td>\n",
       "      <td>676</td>\n",
       "      <td>TCGA-AG-3727</td>\n",
       "      <td>Missense_Mutation</td>\n",
       "      <td>False</td>\n",
       "      <td>NaN</td>\n",
       "    </tr>\n",
       "  </tbody>\n",
       "</table>\n",
       "</div>"
      ],
      "text/plain": [
       "  Hugo_Symbol  Entrez_Gene_Id Patient_Barcode Variant_Classification  \\\n",
       "0     C1orf94           84970    TCGA-AG-3727                  3'UTR   \n",
       "1       MACF1           23499    TCGA-AG-3727      Missense_Mutation   \n",
       "2        GBP5          115362    TCGA-AG-3727                 Silent   \n",
       "3      ZNF326          284695    TCGA-AG-3727                 Silent   \n",
       "4        BRDT             676    TCGA-AG-3727      Missense_Mutation   \n",
       "\n",
       "   Both_Alleles  Start_position  \n",
       "0         False             NaN  \n",
       "1         False             NaN  \n",
       "2         False             NaN  \n",
       "3         False             NaN  \n",
       "4         False             NaN  "
      ]
     },
     "execution_count": 21,
     "metadata": {},
     "output_type": "execute_result"
    }
   ],
   "source": [
    "maf_df3 = maf_df2.loc[:, ['Hugo_Symbol', 'Entrez_Gene_Id', 'Patient_Barcode', \n",
    "                          'Variant_Classification', 'Both_Alleles', 'Start_position']]\n",
    "maf_df3 = maf_df3[maf_df3.Entrez_Gene_Id != 0]\n",
    "maf_df3.head()"
   ]
  },
  {
   "cell_type": "markdown",
   "metadata": {},
   "source": [
    "## Let's explore the data a little bit!"
   ]
  },
  {
   "cell_type": "markdown",
   "metadata": {},
   "source": [
    "#### How many patients are there?"
   ]
  },
  {
   "cell_type": "code",
   "execution_count": 22,
   "metadata": {
    "scrolled": true
   },
   "outputs": [
    {
     "data": {
      "text/plain": [
       "137"
      ]
     },
     "execution_count": 22,
     "metadata": {},
     "output_type": "execute_result"
    }
   ],
   "source": [
    "len(maf_df3.Patient_Barcode.unique())"
   ]
  },
  {
   "cell_type": "markdown",
   "metadata": {},
   "source": [
    "#### How many rows (mutations) are in our dataframe?"
   ]
  },
  {
   "cell_type": "code",
   "execution_count": 23,
   "metadata": {},
   "outputs": [
    {
     "data": {
      "text/plain": [
       "Hugo_Symbol               64362\n",
       "Entrez_Gene_Id            64362\n",
       "Patient_Barcode           64362\n",
       "Variant_Classification    64362\n",
       "Both_Alleles              64362\n",
       "Start_position                0\n",
       "dtype: int64"
      ]
     },
     "execution_count": 23,
     "metadata": {},
     "output_type": "execute_result"
    }
   ],
   "source": [
    "maf_df3.count()"
   ]
  },
  {
   "cell_type": "markdown",
   "metadata": {},
   "source": [
    "#### Do we have any mutations in TP53?"
   ]
  },
  {
   "cell_type": "code",
   "execution_count": 24,
   "metadata": {},
   "outputs": [],
   "source": [
    "maf_tp53 = maf_df3[maf_df3.Hugo_Symbol == 'TP53']"
   ]
  },
  {
   "cell_type": "code",
   "execution_count": 25,
   "metadata": {},
   "outputs": [
    {
     "data": {
      "text/html": [
       "<div>\n",
       "<style scoped>\n",
       "    .dataframe tbody tr th:only-of-type {\n",
       "        vertical-align: middle;\n",
       "    }\n",
       "\n",
       "    .dataframe tbody tr th {\n",
       "        vertical-align: top;\n",
       "    }\n",
       "\n",
       "    .dataframe thead th {\n",
       "        text-align: right;\n",
       "    }\n",
       "</style>\n",
       "<table border=\"1\" class=\"dataframe\">\n",
       "  <thead>\n",
       "    <tr style=\"text-align: right;\">\n",
       "      <th></th>\n",
       "      <th>Hugo_Symbol</th>\n",
       "      <th>Entrez_Gene_Id</th>\n",
       "      <th>Patient_Barcode</th>\n",
       "      <th>Variant_Classification</th>\n",
       "      <th>Both_Alleles</th>\n",
       "      <th>Start_position</th>\n",
       "    </tr>\n",
       "  </thead>\n",
       "  <tbody>\n",
       "    <tr>\n",
       "      <th>194</th>\n",
       "      <td>TP53</td>\n",
       "      <td>7157</td>\n",
       "      <td>TCGA-DC-6160</td>\n",
       "      <td>Frame_Shift_Del</td>\n",
       "      <td>False</td>\n",
       "      <td>NaN</td>\n",
       "    </tr>\n",
       "    <tr>\n",
       "      <th>311</th>\n",
       "      <td>TP53</td>\n",
       "      <td>7157</td>\n",
       "      <td>TCGA-AG-3882</td>\n",
       "      <td>Missense_Mutation</td>\n",
       "      <td>False</td>\n",
       "      <td>NaN</td>\n",
       "    </tr>\n",
       "    <tr>\n",
       "      <th>581</th>\n",
       "      <td>TP53</td>\n",
       "      <td>7157</td>\n",
       "      <td>TCGA-F5-6863</td>\n",
       "      <td>Missense_Mutation</td>\n",
       "      <td>False</td>\n",
       "      <td>NaN</td>\n",
       "    </tr>\n",
       "    <tr>\n",
       "      <th>929</th>\n",
       "      <td>TP53</td>\n",
       "      <td>7157</td>\n",
       "      <td>TCGA-G5-6233</td>\n",
       "      <td>Frame_Shift_Ins</td>\n",
       "      <td>False</td>\n",
       "      <td>NaN</td>\n",
       "    </tr>\n",
       "    <tr>\n",
       "      <th>6671</th>\n",
       "      <td>TP53</td>\n",
       "      <td>7157</td>\n",
       "      <td>TCGA-EI-6917</td>\n",
       "      <td>Missense_Mutation</td>\n",
       "      <td>False</td>\n",
       "      <td>NaN</td>\n",
       "    </tr>\n",
       "  </tbody>\n",
       "</table>\n",
       "</div>"
      ],
      "text/plain": [
       "     Hugo_Symbol  Entrez_Gene_Id Patient_Barcode Variant_Classification  \\\n",
       "194         TP53            7157    TCGA-DC-6160        Frame_Shift_Del   \n",
       "311         TP53            7157    TCGA-AG-3882      Missense_Mutation   \n",
       "581         TP53            7157    TCGA-F5-6863      Missense_Mutation   \n",
       "929         TP53            7157    TCGA-G5-6233        Frame_Shift_Ins   \n",
       "6671        TP53            7157    TCGA-EI-6917      Missense_Mutation   \n",
       "\n",
       "      Both_Alleles  Start_position  \n",
       "194          False             NaN  \n",
       "311          False             NaN  \n",
       "581          False             NaN  \n",
       "929          False             NaN  \n",
       "6671         False             NaN  "
      ]
     },
     "execution_count": 25,
     "metadata": {},
     "output_type": "execute_result"
    }
   ],
   "source": [
    "maf_tp53.head()"
   ]
  },
  {
   "cell_type": "markdown",
   "metadata": {},
   "source": [
    "#### Next, we save the dataframe as a csv file (just for fun). How easy is that?? "
   ]
  },
  {
   "cell_type": "code",
   "execution_count": 26,
   "metadata": {},
   "outputs": [],
   "source": [
    "maf_df3.to_csv('mafs/a_maf_file.concise.csv')"
   ]
  },
  {
   "cell_type": "markdown",
   "metadata": {},
   "source": [
    "#### How many mutations do each of the patients have?"
   ]
  },
  {
   "cell_type": "markdown",
   "metadata": {},
   "source": [
    "##### '%matplotlib inline' is a magic function that allows you to do all of your plotting inside an ipython notebook"
   ]
  },
  {
   "cell_type": "code",
   "execution_count": 27,
   "metadata": {
    "scrolled": true
   },
   "outputs": [
    {
     "data": {
      "text/plain": [
       "Text(0,0.5,'Number of Patients')"
      ]
     },
     "execution_count": 27,
     "metadata": {},
     "output_type": "execute_result"
    },
    {
     "data": {
      "image/png": "[encoded data removed]",
      "text/plain": [
       "<Figure size 432x288 with 1 Axes>"
      ]
     },
     "metadata": {},
     "output_type": "display_data"
    }
   ],
   "source": [
    "%matplotlib inline\n",
    "import matplotlib.pyplot as plt\n",
    "ax = maf_df3.Patient_Barcode.value_counts().hist(color='r', alpha=0.8, bins=30)\n",
    "ax.set_xlabel(\"Number of Mutations per Patient\")\n",
    "ax.set_ylabel(\"Number of Patients\")"
   ]
  },
  {
   "cell_type": "markdown",
   "metadata": {},
   "source": [
    "#### Why is there so much variation??\n",
    "\n",
    "According to Lawrence et al. 2013 in Nature, different cancer types have vastly different distributions of mutations.\n",
    "\n",
    "<img src=\"images/nature12213-f1.2.jpg\">"
   ]
  },
  {
   "cell_type": "markdown",
   "metadata": {},
   "source": [
    "#### What kinds of mutations are we dealing with?"
   ]
  },
  {
   "cell_type": "code",
   "execution_count": 28,
   "metadata": {},
   "outputs": [
    {
     "data": {
      "text/plain": [
       "Text(0.5,0,'Type of Mutation')"
      ]
     },
     "execution_count": 28,
     "metadata": {},
     "output_type": "execute_result"
    },
    {
     "data": {
      "image/png": "[encoded data removed]",
      "text/plain": [
       "<Figure size 432x288 with 1 Axes>"
      ]
     },
     "metadata": {},
     "output_type": "display_data"
    }
   ],
   "source": [
    "# make a pie chart instead? \n",
    "ax = maf_df3.Variant_Classification.value_counts().plot(kind='bar', color='r', alpha=0.8)\n",
    "ax.set_ylabel(\"Number of Mutations\")\n",
    "ax.set_xlabel(\"Type of Mutation\")"
   ]
  },
  {
   "cell_type": "markdown",
   "metadata": {},
   "source": [
    "#### Which genes are most frequently mutated?"
   ]
  },
  {
   "cell_type": "code",
   "execution_count": 29,
   "metadata": {},
   "outputs": [
    {
     "data": {
      "text/plain": [
       "Text(0,0.5,'Number of Times Mutated')"
      ]
     },
     "execution_count": 29,
     "metadata": {},
     "output_type": "execute_result"
    },
    {
     "data": {
      "image/png": "[encoded data removed]",
      "text/plain": [
       "<Figure size 432x288 with 1 Axes>"
      ]
     },
     "metadata": {},
     "output_type": "display_data"
    }
   ],
   "source": [
    "import seaborn as sns\n",
    "sns.set_style(\"whitegrid\")\n",
    "ax = maf_df3['Hugo_Symbol'].value_counts()[:30].plot(kind='bar', color='r', alpha=0.8)\n",
    "ax.set_xlabel(\"Mutated Gene\")\n",
    "ax.set_ylabel(\"Number of Times Mutated\")"
   ]
  },
  {
   "cell_type": "markdown",
   "metadata": {},
   "source": [
    "# Let's get some genetic interaction information about our genes..."
   ]
  },
  {
   "cell_type": "markdown",
   "metadata": {},
   "source": [
    "#### In order to use machine learning to predict our \"driver\" genes, we need to create a useful feature vector. The best predicting algorithms use many features - we are going to use three fairly simple ones. One feature will be the possible disruption of a gene as measured by the number of other genes in which it interacts."
   ]
  },
  {
   "cell_type": "markdown",
   "metadata": {},
   "source": [
    "#### <a href=\"http://www.functionalnet.org/humannet\">Human Net</a> is a probabilistic functional gene network of nearly 20,000 validated protein coding genes constructed by the integration of 21 'omics' data types.\n",
    "\n",
    "#### Picture something like this:\n",
    "\n",
    "<img src=\"images/gene_network.jpg\">"
   ]
  },
  {
   "cell_type": "markdown",
   "metadata": {},
   "source": [
    "#### The human net data is stored in a txt file in our folder. Let's read it. For each gene, let's create a list of its connections. "
   ]
  },
  {
   "cell_type": "code",
   "execution_count": 30,
   "metadata": {},
   "outputs": [],
   "source": [
    "edges = {}\n",
    "with open('data/HumanNet.v1.join.txt', 'r') as human_net:\n",
    "    for line in human_net:\n",
    "        c = [x for x in line.strip().split(\"\\t\")]\n",
    "        one = int(c[0])\n",
    "        two = int(c[1])\n",
    "        \n",
    "        if one in edges:\n",
    "            edges[one].append(two)\n",
    "        else:\n",
    "            edges[one] = [two]\n",
    "        if two in edges:\n",
    "            edges[two].append(one)\n",
    "        else:\n",
    "            edges[two] = [one]\n"
   ]
  },
  {
   "cell_type": "markdown",
   "metadata": {},
   "source": [
    "#### Is it possible to save a dictionary? Yes! Pickle!\n",
    "* Pickle can be used for any serializable object; however, it does not compress the object"
   ]
  },
  {
   "cell_type": "code",
   "execution_count": 31,
   "metadata": {},
   "outputs": [],
   "source": [
    "import cPickle as pickle\n",
    "pickle.dump(edges, open(\"pickles/edges.p\", 'wb'))"
   ]
  },
  {
   "cell_type": "markdown",
   "metadata": {},
   "source": [
    "#### We can load the pickle file and get the exact same object back in python."
   ]
  },
  {
   "cell_type": "code",
   "execution_count": 32,
   "metadata": {},
   "outputs": [],
   "source": [
    "import cPickle as pickle\n",
    "edges = pickle.load(open(\"pickles/edges.p\", 'rb'))"
   ]
  },
  {
   "cell_type": "markdown",
   "metadata": {},
   "source": [
    "#### What does the distribution of edge numbers look like in human net?"
   ]
  },
  {
   "cell_type": "code",
   "execution_count": 33,
   "metadata": {
    "scrolled": true
   },
   "outputs": [
    {
     "data": {
      "image/png": "[encoded data removed]",
      "text/plain": [
       "<Figure size 432x288 with 1 Axes>"
      ]
     },
     "metadata": {},
     "output_type": "display_data"
    }
   ],
   "source": [
    "connect = map(len, edges.values())\n",
    "\n",
    "n, bins, patches = plt.hist(connect, bins=100, alpha=0.5)\n",
    "plt.xlabel('Number of Connections')\n",
    "plt.ylabel('Number of Genes')\n",
    "plt.title('Human Net Histogram')\n",
    "plt.grid(True)"
   ]
  },
  {
   "cell_type": "markdown",
   "metadata": {},
   "source": [
    "# Now that we have a fancy network feature, let's create a couple other simple features."
   ]
  },
  {
   "cell_type": "markdown",
   "metadata": {},
   "source": [
    "#### How often is the gene mutated in TCGA? If a gene is mutated more frequently, it could mean that there is selective pressure toward mutation."
   ]
  },
  {
   "cell_type": "code",
   "execution_count": 34,
   "metadata": {
    "scrolled": true
   },
   "outputs": [
    {
     "data": {
      "text/html": [
       "<div>\n",
       "<style scoped>\n",
       "    .dataframe tbody tr th:only-of-type {\n",
       "        vertical-align: middle;\n",
       "    }\n",
       "\n",
       "    .dataframe tbody tr th {\n",
       "        vertical-align: top;\n",
       "    }\n",
       "\n",
       "    .dataframe thead th {\n",
       "        text-align: right;\n",
       "    }\n",
       "</style>\n",
       "<table border=\"1\" class=\"dataframe\">\n",
       "  <thead>\n",
       "    <tr style=\"text-align: right;\">\n",
       "      <th></th>\n",
       "      <th>Entrez_Gene_Id</th>\n",
       "      <th>counts</th>\n",
       "    </tr>\n",
       "  </thead>\n",
       "  <tbody>\n",
       "    <tr>\n",
       "      <th>0</th>\n",
       "      <td>7273</td>\n",
       "      <td>329</td>\n",
       "    </tr>\n",
       "    <tr>\n",
       "      <th>1</th>\n",
       "      <td>324</td>\n",
       "      <td>194</td>\n",
       "    </tr>\n",
       "    <tr>\n",
       "      <th>2</th>\n",
       "      <td>94025</td>\n",
       "      <td>123</td>\n",
       "    </tr>\n",
       "    <tr>\n",
       "      <th>3</th>\n",
       "      <td>7157</td>\n",
       "      <td>111</td>\n",
       "    </tr>\n",
       "    <tr>\n",
       "      <th>4</th>\n",
       "      <td>23345</td>\n",
       "      <td>102</td>\n",
       "    </tr>\n",
       "  </tbody>\n",
       "</table>\n",
       "</div>"
      ],
      "text/plain": [
       "   Entrez_Gene_Id  counts\n",
       "0            7273     329\n",
       "1             324     194\n",
       "2           94025     123\n",
       "3            7157     111\n",
       "4           23345     102"
      ]
     },
     "execution_count": 34,
     "metadata": {},
     "output_type": "execute_result"
    }
   ],
   "source": [
    "mutations = pd.DataFrame(maf_df3.Entrez_Gene_Id.value_counts())\n",
    "mutations = mutations.reset_index()\n",
    "mutations.columns = ['Entrez_Gene_Id', 'counts']\n",
    "mutations.head()"
   ]
  },
  {
   "cell_type": "markdown",
   "metadata": {},
   "source": [
    "#### Let's also add a feature based on the percentage of time a mutation is bi-allelic. (this may be unreliable in TCGA due to mutation calling, but let's use it anyway)."
   ]
  },
  {
   "cell_type": "code",
   "execution_count": 35,
   "metadata": {
    "scrolled": true
   },
   "outputs": [
    {
     "data": {
      "text/html": [
       "<div>\n",
       "<style scoped>\n",
       "    .dataframe tbody tr th:only-of-type {\n",
       "        vertical-align: middle;\n",
       "    }\n",
       "\n",
       "    .dataframe tbody tr th {\n",
       "        vertical-align: top;\n",
       "    }\n",
       "\n",
       "    .dataframe thead th {\n",
       "        text-align: right;\n",
       "    }\n",
       "</style>\n",
       "<table border=\"1\" class=\"dataframe\">\n",
       "  <thead>\n",
       "    <tr style=\"text-align: right;\">\n",
       "      <th></th>\n",
       "      <th>Hugo_Symbol</th>\n",
       "      <th>Entrez_Gene_Id</th>\n",
       "      <th>Patient_Barcode</th>\n",
       "      <th>Variant_Classification</th>\n",
       "      <th>Both_Alleles</th>\n",
       "      <th>Start_position</th>\n",
       "    </tr>\n",
       "  </thead>\n",
       "  <tbody>\n",
       "    <tr>\n",
       "      <th>0</th>\n",
       "      <td>C1orf94</td>\n",
       "      <td>84970</td>\n",
       "      <td>TCGA-AG-3727</td>\n",
       "      <td>3'UTR</td>\n",
       "      <td>False</td>\n",
       "      <td>NaN</td>\n",
       "    </tr>\n",
       "    <tr>\n",
       "      <th>1</th>\n",
       "      <td>MACF1</td>\n",
       "      <td>23499</td>\n",
       "      <td>TCGA-AG-3727</td>\n",
       "      <td>Missense_Mutation</td>\n",
       "      <td>False</td>\n",
       "      <td>NaN</td>\n",
       "    </tr>\n",
       "    <tr>\n",
       "      <th>2</th>\n",
       "      <td>GBP5</td>\n",
       "      <td>115362</td>\n",
       "      <td>TCGA-AG-3727</td>\n",
       "      <td>Silent</td>\n",
       "      <td>False</td>\n",
       "      <td>NaN</td>\n",
       "    </tr>\n",
       "    <tr>\n",
       "      <th>3</th>\n",
       "      <td>ZNF326</td>\n",
       "      <td>284695</td>\n",
       "      <td>TCGA-AG-3727</td>\n",
       "      <td>Silent</td>\n",
       "      <td>False</td>\n",
       "      <td>NaN</td>\n",
       "    </tr>\n",
       "    <tr>\n",
       "      <th>4</th>\n",
       "      <td>BRDT</td>\n",
       "      <td>676</td>\n",
       "      <td>TCGA-AG-3727</td>\n",
       "      <td>Missense_Mutation</td>\n",
       "      <td>False</td>\n",
       "      <td>NaN</td>\n",
       "    </tr>\n",
       "  </tbody>\n",
       "</table>\n",
       "</div>"
      ],
      "text/plain": [
       "  Hugo_Symbol  Entrez_Gene_Id Patient_Barcode Variant_Classification  \\\n",
       "0     C1orf94           84970    TCGA-AG-3727                  3'UTR   \n",
       "1       MACF1           23499    TCGA-AG-3727      Missense_Mutation   \n",
       "2        GBP5          115362    TCGA-AG-3727                 Silent   \n",
       "3      ZNF326          284695    TCGA-AG-3727                 Silent   \n",
       "4        BRDT             676    TCGA-AG-3727      Missense_Mutation   \n",
       "\n",
       "   Both_Alleles  Start_position  \n",
       "0         False             NaN  \n",
       "1         False             NaN  \n",
       "2         False             NaN  \n",
       "3         False             NaN  \n",
       "4         False             NaN  "
      ]
     },
     "execution_count": 35,
     "metadata": {},
     "output_type": "execute_result"
    }
   ],
   "source": [
    "maf_df3.head()"
   ]
  },
  {
   "cell_type": "code",
   "execution_count": 36,
   "metadata": {},
   "outputs": [],
   "source": [
    "grouped = maf_df3.groupby('Entrez_Gene_Id')\n",
    "num_bi_allelic = grouped.apply(lambda g: g[g['Both_Alleles'] == False].count())['Patient_Barcode']\n",
    "num_total = grouped['Patient_Barcode'].agg('count')"
   ]
  },
  {
   "cell_type": "markdown",
   "metadata": {},
   "source": [
    "#### Thanks to numpy, we can divide these series by each other. Then we can add the new series to our mutations dataframe."
   ]
  },
  {
   "cell_type": "code",
   "execution_count": 37,
   "metadata": {
    "scrolled": false
   },
   "outputs": [
    {
     "data": {
      "text/html": [
       "<div>\n",
       "<style scoped>\n",
       "    .dataframe tbody tr th:only-of-type {\n",
       "        vertical-align: middle;\n",
       "    }\n",
       "\n",
       "    .dataframe tbody tr th {\n",
       "        vertical-align: top;\n",
       "    }\n",
       "\n",
       "    .dataframe thead th {\n",
       "        text-align: right;\n",
       "    }\n",
       "</style>\n",
       "<table border=\"1\" class=\"dataframe\">\n",
       "  <thead>\n",
       "    <tr style=\"text-align: right;\">\n",
       "      <th></th>\n",
       "      <th>Entrez_Gene_Id</th>\n",
       "      <th>counts</th>\n",
       "      <th>Perc_Bi_Allelic</th>\n",
       "    </tr>\n",
       "  </thead>\n",
       "  <tbody>\n",
       "    <tr>\n",
       "      <th>0</th>\n",
       "      <td>7273</td>\n",
       "      <td>329</td>\n",
       "      <td>NaN</td>\n",
       "    </tr>\n",
       "    <tr>\n",
       "      <th>1</th>\n",
       "      <td>324</td>\n",
       "      <td>194</td>\n",
       "      <td>1.0</td>\n",
       "    </tr>\n",
       "    <tr>\n",
       "      <th>2</th>\n",
       "      <td>94025</td>\n",
       "      <td>123</td>\n",
       "      <td>1.0</td>\n",
       "    </tr>\n",
       "    <tr>\n",
       "      <th>3</th>\n",
       "      <td>7157</td>\n",
       "      <td>111</td>\n",
       "      <td>NaN</td>\n",
       "    </tr>\n",
       "    <tr>\n",
       "      <th>4</th>\n",
       "      <td>23345</td>\n",
       "      <td>102</td>\n",
       "      <td>NaN</td>\n",
       "    </tr>\n",
       "  </tbody>\n",
       "</table>\n",
       "</div>"
      ],
      "text/plain": [
       "   Entrez_Gene_Id  counts  Perc_Bi_Allelic\n",
       "0            7273     329              NaN\n",
       "1             324     194              1.0\n",
       "2           94025     123              1.0\n",
       "3            7157     111              NaN\n",
       "4           23345     102              NaN"
      ]
     },
     "execution_count": 37,
     "metadata": {},
     "output_type": "execute_result"
    }
   ],
   "source": [
    "mutations['Perc_Bi_Allelic'] = pd.Series(num_bi_allelic)/pd.Series(num_total)\n",
    "mutations.head()"
   ]
  },
  {
   "cell_type": "code",
   "execution_count": 38,
   "metadata": {},
   "outputs": [],
   "source": [
    "mutations.to_csv('data/mutations.csv')"
   ]
  },
  {
   "cell_type": "markdown",
   "metadata": {},
   "source": [
    "#### Here, we import a txt file containing a density score for each gene that can be derived from our human net analysis. We are going to spare the details because of time and just import it. "
   ]
  },
  {
   "cell_type": "code",
   "execution_count": 39,
   "metadata": {},
   "outputs": [],
   "source": [
    "densities = pd.read_csv('data/density_values.txt', sep=' ', header=None)"
   ]
  },
  {
   "cell_type": "code",
   "execution_count": 40,
   "metadata": {
    "scrolled": false
   },
   "outputs": [
    {
     "data": {
      "text/html": [
       "<div>\n",
       "<style scoped>\n",
       "    .dataframe tbody tr th:only-of-type {\n",
       "        vertical-align: middle;\n",
       "    }\n",
       "\n",
       "    .dataframe tbody tr th {\n",
       "        vertical-align: top;\n",
       "    }\n",
       "\n",
       "    .dataframe thead th {\n",
       "        text-align: right;\n",
       "    }\n",
       "</style>\n",
       "<table border=\"1\" class=\"dataframe\">\n",
       "  <thead>\n",
       "    <tr style=\"text-align: right;\">\n",
       "      <th></th>\n",
       "      <th>Entrez_Gene_Id</th>\n",
       "      <th>Density</th>\n",
       "    </tr>\n",
       "  </thead>\n",
       "  <tbody>\n",
       "    <tr>\n",
       "      <th>0</th>\n",
       "      <td>673</td>\n",
       "      <td>1298.9</td>\n",
       "    </tr>\n",
       "    <tr>\n",
       "      <th>1</th>\n",
       "      <td>2312</td>\n",
       "      <td>135.1</td>\n",
       "    </tr>\n",
       "    <tr>\n",
       "      <th>2</th>\n",
       "      <td>4893</td>\n",
       "      <td>1736.6</td>\n",
       "    </tr>\n",
       "    <tr>\n",
       "      <th>3</th>\n",
       "      <td>113146</td>\n",
       "      <td>NaN</td>\n",
       "    </tr>\n",
       "    <tr>\n",
       "      <th>4</th>\n",
       "      <td>94025</td>\n",
       "      <td>14.2</td>\n",
       "    </tr>\n",
       "  </tbody>\n",
       "</table>\n",
       "</div>"
      ],
      "text/plain": [
       "   Entrez_Gene_Id  Density\n",
       "0             673   1298.9\n",
       "1            2312    135.1\n",
       "2            4893   1736.6\n",
       "3          113146      NaN\n",
       "4           94025     14.2"
      ]
     },
     "execution_count": 40,
     "metadata": {},
     "output_type": "execute_result"
    }
   ],
   "source": [
    "densities.columns = [\"Entrez_Gene_Id\", \"Density\"]\n",
    "densities.head()"
   ]
  },
  {
   "cell_type": "markdown",
   "metadata": {},
   "source": [
    "##### Merging pandas dataframes is quite handy (and fast)! Check out all of the ways they can be combined <a href=\"http://pandas.pydata.org/pandas-docs/stable/merging.html\">here</a>."
   ]
  },
  {
   "cell_type": "code",
   "execution_count": 41,
   "metadata": {
    "scrolled": true
   },
   "outputs": [
    {
     "data": {
      "text/html": [
       "<div>\n",
       "<style scoped>\n",
       "    .dataframe tbody tr th:only-of-type {\n",
       "        vertical-align: middle;\n",
       "    }\n",
       "\n",
       "    .dataframe tbody tr th {\n",
       "        vertical-align: top;\n",
       "    }\n",
       "\n",
       "    .dataframe thead th {\n",
       "        text-align: right;\n",
       "    }\n",
       "</style>\n",
       "<table border=\"1\" class=\"dataframe\">\n",
       "  <thead>\n",
       "    <tr style=\"text-align: right;\">\n",
       "      <th></th>\n",
       "      <th>Entrez_Gene_Id</th>\n",
       "      <th>counts</th>\n",
       "      <th>Perc_Bi_Allelic</th>\n",
       "      <th>Density</th>\n",
       "    </tr>\n",
       "  </thead>\n",
       "  <tbody>\n",
       "    <tr>\n",
       "      <th>0</th>\n",
       "      <td>7273</td>\n",
       "      <td>329.0</td>\n",
       "      <td>NaN</td>\n",
       "      <td>1011.3</td>\n",
       "    </tr>\n",
       "    <tr>\n",
       "      <th>1</th>\n",
       "      <td>324</td>\n",
       "      <td>194.0</td>\n",
       "      <td>1.0</td>\n",
       "      <td>982.3</td>\n",
       "    </tr>\n",
       "    <tr>\n",
       "      <th>2</th>\n",
       "      <td>94025</td>\n",
       "      <td>123.0</td>\n",
       "      <td>1.0</td>\n",
       "      <td>14.2</td>\n",
       "    </tr>\n",
       "    <tr>\n",
       "      <th>3</th>\n",
       "      <td>7157</td>\n",
       "      <td>111.0</td>\n",
       "      <td>NaN</td>\n",
       "      <td>1549.5</td>\n",
       "    </tr>\n",
       "    <tr>\n",
       "      <th>4</th>\n",
       "      <td>23345</td>\n",
       "      <td>102.0</td>\n",
       "      <td>NaN</td>\n",
       "      <td>399.9</td>\n",
       "    </tr>\n",
       "  </tbody>\n",
       "</table>\n",
       "</div>"
      ],
      "text/plain": [
       "   Entrez_Gene_Id  counts  Perc_Bi_Allelic  Density\n",
       "0            7273   329.0              NaN   1011.3\n",
       "1             324   194.0              1.0    982.3\n",
       "2           94025   123.0              1.0     14.2\n",
       "3            7157   111.0              NaN   1549.5\n",
       "4           23345   102.0              NaN    399.9"
      ]
     },
     "execution_count": 41,
     "metadata": {},
     "output_type": "execute_result"
    }
   ],
   "source": [
    "mutations = pd.merge(mutations, densities, on='Entrez_Gene_Id', how='outer')\n",
    "mutations.head()"
   ]
  },
  {
   "cell_type": "code",
   "execution_count": 42,
   "metadata": {},
   "outputs": [],
   "source": [
    "mutations = mutations[[\"Entrez_Gene_Id\", \"counts\", \"Perc_Bi_Allelic\", \"Density\"]]\n",
    "mutations.to_csv('data/tcga_feature_vector.csv')"
   ]
  },
  {
   "cell_type": "code",
   "execution_count": 43,
   "metadata": {},
   "outputs": [
    {
     "data": {
      "text/html": [
       "<div>\n",
       "<style scoped>\n",
       "    .dataframe tbody tr th:only-of-type {\n",
       "        vertical-align: middle;\n",
       "    }\n",
       "\n",
       "    .dataframe tbody tr th {\n",
       "        vertical-align: top;\n",
       "    }\n",
       "\n",
       "    .dataframe thead th {\n",
       "        text-align: right;\n",
       "    }\n",
       "</style>\n",
       "<table border=\"1\" class=\"dataframe\">\n",
       "  <thead>\n",
       "    <tr style=\"text-align: right;\">\n",
       "      <th></th>\n",
       "      <th>Entrez_Gene_Id</th>\n",
       "      <th>counts</th>\n",
       "      <th>Perc_Bi_Allelic</th>\n",
       "      <th>Density</th>\n",
       "    </tr>\n",
       "  </thead>\n",
       "  <tbody>\n",
       "    <tr>\n",
       "      <th>1</th>\n",
       "      <td>324</td>\n",
       "      <td>194.0</td>\n",
       "      <td>1.0</td>\n",
       "      <td>982.3</td>\n",
       "    </tr>\n",
       "    <tr>\n",
       "      <th>2</th>\n",
       "      <td>94025</td>\n",
       "      <td>123.0</td>\n",
       "      <td>1.0</td>\n",
       "      <td>14.2</td>\n",
       "    </tr>\n",
       "    <tr>\n",
       "      <th>9</th>\n",
       "      <td>3845</td>\n",
       "      <td>56.0</td>\n",
       "      <td>1.0</td>\n",
       "      <td>1794.8</td>\n",
       "    </tr>\n",
       "    <tr>\n",
       "      <th>12</th>\n",
       "      <td>79776</td>\n",
       "      <td>46.0</td>\n",
       "      <td>1.0</td>\n",
       "      <td>143.2</td>\n",
       "    </tr>\n",
       "    <tr>\n",
       "      <th>16</th>\n",
       "      <td>23499</td>\n",
       "      <td>45.0</td>\n",
       "      <td>1.0</td>\n",
       "      <td>993.0</td>\n",
       "    </tr>\n",
       "  </tbody>\n",
       "</table>\n",
       "</div>"
      ],
      "text/plain": [
       "    Entrez_Gene_Id  counts  Perc_Bi_Allelic  Density\n",
       "1              324   194.0              1.0    982.3\n",
       "2            94025   123.0              1.0     14.2\n",
       "9             3845    56.0              1.0   1794.8\n",
       "12           79776    46.0              1.0    143.2\n",
       "16           23499    45.0              1.0    993.0"
      ]
     },
     "execution_count": 43,
     "metadata": {},
     "output_type": "execute_result"
    }
   ],
   "source": [
    "mutations.dropna().head()"
   ]
  },
  {
   "cell_type": "markdown",
   "metadata": {},
   "source": [
    "# In order to train our classifier, we need some truth data. "
   ]
  },
  {
   "cell_type": "markdown",
   "metadata": {},
   "source": [
    "#### This data was taken from the Cosmic database. It has already been formatted like our TCGA data. We have a small training and validation set for both cancer (driver) genes and neutral (passenger) genes."
   ]
  },
  {
   "cell_type": "code",
   "execution_count": 44,
   "metadata": {},
   "outputs": [],
   "source": [
    "cancer_feature_vector_training = pd.read_csv('data/cancer_feature_vector_tcga_training.csv', index_col=0)\n",
    "neutral_feature_vector_training = pd.read_csv('data/neutral_feature_vector_tcga_training.csv', index_col=0)\n",
    "cancer_feature_vector_validation = pd.read_csv('data/cancer_feature_vector_tcga_validation.csv', index_col=0)\n",
    "neutral_feature_vector_validation = pd.read_csv('data/neutral_feature_vector_tcga_validation.csv', index_col=0)"
   ]
  },
  {
   "cell_type": "code",
   "execution_count": 45,
   "metadata": {
    "scrolled": true
   },
   "outputs": [
    {
     "data": {
      "text/html": [
       "<div>\n",
       "<style scoped>\n",
       "    .dataframe tbody tr th:only-of-type {\n",
       "        vertical-align: middle;\n",
       "    }\n",
       "\n",
       "    .dataframe tbody tr th {\n",
       "        vertical-align: top;\n",
       "    }\n",
       "\n",
       "    .dataframe thead th {\n",
       "        text-align: right;\n",
       "    }\n",
       "</style>\n",
       "<table border=\"1\" class=\"dataframe\">\n",
       "  <thead>\n",
       "    <tr style=\"text-align: right;\">\n",
       "      <th></th>\n",
       "      <th>Entrez_Gene_Id</th>\n",
       "      <th>counts</th>\n",
       "      <th>Perc_Bi_Allelic</th>\n",
       "      <th>Density</th>\n",
       "    </tr>\n",
       "  </thead>\n",
       "  <tbody>\n",
       "    <tr>\n",
       "      <th>0</th>\n",
       "      <td>673</td>\n",
       "      <td>480.0</td>\n",
       "      <td>0.508333</td>\n",
       "      <td>1298.9</td>\n",
       "    </tr>\n",
       "    <tr>\n",
       "      <th>259</th>\n",
       "      <td>4893</td>\n",
       "      <td>54.0</td>\n",
       "      <td>0.500000</td>\n",
       "      <td>1736.6</td>\n",
       "    </tr>\n",
       "    <tr>\n",
       "      <th>297</th>\n",
       "      <td>3265</td>\n",
       "      <td>24.0</td>\n",
       "      <td>0.541667</td>\n",
       "      <td>1824.5</td>\n",
       "    </tr>\n",
       "    <tr>\n",
       "      <th>918</th>\n",
       "      <td>3845</td>\n",
       "      <td>4.0</td>\n",
       "      <td>0.500000</td>\n",
       "      <td>1794.8</td>\n",
       "    </tr>\n",
       "    <tr>\n",
       "      <th>1020</th>\n",
       "      <td>207</td>\n",
       "      <td>4.0</td>\n",
       "      <td>0.500000</td>\n",
       "      <td>1572.9</td>\n",
       "    </tr>\n",
       "  </tbody>\n",
       "</table>\n",
       "</div>"
      ],
      "text/plain": [
       "      Entrez_Gene_Id  counts  Perc_Bi_Allelic  Density\n",
       "0                673   480.0         0.508333   1298.9\n",
       "259             4893    54.0         0.500000   1736.6\n",
       "297             3265    24.0         0.541667   1824.5\n",
       "918             3845     4.0         0.500000   1794.8\n",
       "1020             207     4.0         0.500000   1572.9"
      ]
     },
     "execution_count": 45,
     "metadata": {},
     "output_type": "execute_result"
    }
   ],
   "source": [
    "cancer_feature_vector_training.head()"
   ]
  },
  {
   "cell_type": "code",
   "execution_count": 46,
   "metadata": {},
   "outputs": [],
   "source": [
    "import numpy as np"
   ]
  },
  {
   "cell_type": "markdown",
   "metadata": {
    "collapsed": true
   },
   "source": [
    "#### Here, we manipulate the training set to form a numpy matrix. This will be a better input format for our classifier."
   ]
  },
  {
   "cell_type": "code",
   "execution_count": 47,
   "metadata": {},
   "outputs": [],
   "source": [
    "cancer_feature_vector_training = cancer_feature_vector_training.fillna(0)\n",
    "cancer_matrix = cancer_feature_vector_training.values[:,1:].astype(float)\n",
    "neutral_feature_vector_training = neutral_feature_vector_training.fillna(0)\n",
    "neutral_matrix = neutral_feature_vector_training.values[:,1:].astype(float)\n",
    "training_matrix = np.concatenate((cancer_matrix, neutral_matrix), axis=0)\n",
    "training_assignments = [1 for gene in range(len(cancer_matrix))] + [0 for gene in range(len(neutral_matrix))]"
   ]
  },
  {
   "cell_type": "markdown",
   "metadata": {},
   "source": [
    "#### And we do the same thing for the validation sets."
   ]
  },
  {
   "cell_type": "code",
   "execution_count": 48,
   "metadata": {},
   "outputs": [],
   "source": [
    "cancer_feature_vector_validation = cancer_feature_vector_validation.fillna(0)\n",
    "cancer_matrix = cancer_feature_vector_validation.values[:,1:].astype(float)\n",
    "neutral_feature_vector_validation = neutral_feature_vector_validation.fillna(0)\n",
    "neutral_matrix = neutral_feature_vector_validation.values[:,1:].astype(float)\n",
    "validation_matrix = np.concatenate((cancer_matrix, neutral_matrix), axis=0)\n",
    "validation_key = [1 for gene in range(len(cancer_matrix))] + [0 for gene in range(len(neutral_matrix))]"
   ]
  },
  {
   "cell_type": "markdown",
   "metadata": {
    "collapsed": true
   },
   "source": [
    "#### Let's also reformat our tcga gene data while we are at it."
   ]
  },
  {
   "cell_type": "code",
   "execution_count": 49,
   "metadata": {},
   "outputs": [],
   "source": [
    "tcga_feature_vector = mutations.copy()\n",
    "tcga_feature_vector = tcga_feature_vector.dropna()\n",
    "tcga_matrix = tcga_feature_vector.values[:,1:].astype(float)"
   ]
  },
  {
   "cell_type": "markdown",
   "metadata": {},
   "source": [
    "#### The data looks a little bit different now."
   ]
  },
  {
   "cell_type": "code",
   "execution_count": 50,
   "metadata": {
    "scrolled": true
   },
   "outputs": [
    {
     "name": "stdout",
     "output_type": "stream",
     "text": [
      "[[1.9400e+02 1.0000e+00 9.8230e+02]\n",
      " [1.2300e+02 1.0000e+00 1.4200e+01]\n",
      " [5.6000e+01 1.0000e+00 1.7948e+03]\n",
      " ...\n",
      " [2.0000e+00 1.0000e+00 5.6740e+02]\n",
      " [2.0000e+00 1.0000e+00 4.1350e+02]\n",
      " [2.0000e+00 1.0000e+00 7.6100e+01]]\n"
     ]
    }
   ],
   "source": [
    "print(tcga_matrix)"
   ]
  },
  {
   "cell_type": "markdown",
   "metadata": {},
   "source": [
    "#### Let's use a Random Forest to classify our mutated genes."
   ]
  },
  {
   "cell_type": "markdown",
   "metadata": {},
   "source": [
    "##### Scikit-learn: a library for machine learning in python"
   ]
  },
  {
   "cell_type": "code",
   "execution_count": 51,
   "metadata": {},
   "outputs": [],
   "source": [
    "import sklearn as sk\n",
    "from sklearn.ensemble import RandomForestClassifier\n",
    "clf = RandomForestClassifier(n_estimators=100, min_samples_leaf=5)\n",
    "clf = clf.fit(training_matrix, training_assignments)"
   ]
  },
  {
   "cell_type": "code",
   "execution_count": 52,
   "metadata": {},
   "outputs": [],
   "source": [
    "output = clf.predict(tcga_matrix)"
   ]
  },
  {
   "cell_type": "markdown",
   "metadata": {},
   "source": [
    "#### We can save our classifier to be used later using scikit's joblib."
   ]
  },
  {
   "cell_type": "code",
   "execution_count": 53,
   "metadata": {},
   "outputs": [],
   "source": [
    "from sklearn.externals import joblib\n",
    "save = joblib.dump(clf, 'classifiers/random_forest.pkl') "
   ]
  },
  {
   "cell_type": "markdown",
   "metadata": {},
   "source": [
    "#### This is how we would re-load it."
   ]
  },
  {
   "cell_type": "code",
   "execution_count": 54,
   "metadata": {
    "scrolled": true
   },
   "outputs": [],
   "source": [
    "clf = joblib.load('classifiers/random_forest.pkl') "
   ]
  },
  {
   "cell_type": "markdown",
   "metadata": {},
   "source": [
    "#### Scikit-learn can tell us how confident it is..."
   ]
  },
  {
   "cell_type": "code",
   "execution_count": 55,
   "metadata": {},
   "outputs": [],
   "source": [
    "confidence = clf.predict_proba(tcga_matrix)"
   ]
  },
  {
   "cell_type": "code",
   "execution_count": 56,
   "metadata": {},
   "outputs": [
    {
     "name": "stdout",
     "output_type": "stream",
     "text": [
      "[[0.50090476 0.49909524]\n",
      " [0.50090476 0.49909524]\n",
      " [0.48566667 0.51433333]\n",
      " ...\n",
      " [0.50404762 0.49595238]\n",
      " [0.50404762 0.49595238]\n",
      " [0.50404762 0.49595238]]\n"
     ]
    }
   ],
   "source": [
    "print(confidence)"
   ]
  },
  {
   "cell_type": "markdown",
   "metadata": {},
   "source": [
    "#### Okay, so this classifier kinda sucks. Let's continue anyway."
   ]
  },
  {
   "cell_type": "code",
   "execution_count": 57,
   "metadata": {
    "scrolled": true
   },
   "outputs": [
    {
     "name": "stdout",
     "output_type": "stream",
     "text": [
      "1043\n",
      "66\n"
     ]
    }
   ],
   "source": [
    "print(list(output).count(0))\n",
    "print(list(output).count(1))"
   ]
  },
  {
   "cell_type": "markdown",
   "metadata": {},
   "source": [
    "#### It performs pretty well on our TINY validation set though. Can anyone guess why?"
   ]
  },
  {
   "cell_type": "code",
   "execution_count": 58,
   "metadata": {
    "scrolled": true
   },
   "outputs": [
    {
     "name": "stdout",
     "output_type": "stream",
     "text": [
      "[1, 1, 0, 0, 0]\n",
      "[1, 1, 0, 0, 0]\n"
     ]
    }
   ],
   "source": [
    "validation_predictions = clf.predict(validation_matrix)\n",
    "print(list(validation_predictions))\n",
    "print(validation_key)"
   ]
  },
  {
   "cell_type": "markdown",
   "metadata": {},
   "source": [
    "#### Here's some information about the driver genes and the passenger genes"
   ]
  },
  {
   "cell_type": "code",
   "execution_count": 59,
   "metadata": {
    "scrolled": false
   },
   "outputs": [
    {
     "data": {
      "text/html": [
       "<div>\n",
       "<style scoped>\n",
       "    .dataframe tbody tr th:only-of-type {\n",
       "        vertical-align: middle;\n",
       "    }\n",
       "\n",
       "    .dataframe tbody tr th {\n",
       "        vertical-align: top;\n",
       "    }\n",
       "\n",
       "    .dataframe thead th {\n",
       "        text-align: right;\n",
       "    }\n",
       "</style>\n",
       "<table border=\"1\" class=\"dataframe\">\n",
       "  <thead>\n",
       "    <tr style=\"text-align: right;\">\n",
       "      <th></th>\n",
       "      <th>Entrez_Gene_Id</th>\n",
       "      <th>counts</th>\n",
       "      <th>Perc_Bi_Allelic</th>\n",
       "      <th>Density</th>\n",
       "    </tr>\n",
       "  </thead>\n",
       "  <tbody>\n",
       "    <tr>\n",
       "      <th>count</th>\n",
       "      <td>8.00000</td>\n",
       "      <td>8.000000</td>\n",
       "      <td>8.000000</td>\n",
       "      <td>8.000000</td>\n",
       "    </tr>\n",
       "    <tr>\n",
       "      <th>mean</th>\n",
       "      <td>5913.25000</td>\n",
       "      <td>71.375000</td>\n",
       "      <td>0.443750</td>\n",
       "      <td>1527.862500</td>\n",
       "    </tr>\n",
       "    <tr>\n",
       "      <th>std</th>\n",
       "      <td>7355.63323</td>\n",
       "      <td>166.122964</td>\n",
       "      <td>0.179878</td>\n",
       "      <td>280.582572</td>\n",
       "    </tr>\n",
       "    <tr>\n",
       "      <th>min</th>\n",
       "      <td>207.00000</td>\n",
       "      <td>1.000000</td>\n",
       "      <td>0.000000</td>\n",
       "      <td>1035.300000</td>\n",
       "    </tr>\n",
       "    <tr>\n",
       "      <th>25%</th>\n",
       "      <td>2617.00000</td>\n",
       "      <td>2.000000</td>\n",
       "      <td>0.500000</td>\n",
       "      <td>1320.200000</td>\n",
       "    </tr>\n",
       "    <tr>\n",
       "      <th>50%</th>\n",
       "      <td>4369.00000</td>\n",
       "      <td>4.000000</td>\n",
       "      <td>0.500000</td>\n",
       "      <td>1602.750000</td>\n",
       "    </tr>\n",
       "    <tr>\n",
       "      <th>75%</th>\n",
       "      <td>5399.50000</td>\n",
       "      <td>31.500000</td>\n",
       "      <td>0.502083</td>\n",
       "      <td>1751.150000</td>\n",
       "    </tr>\n",
       "    <tr>\n",
       "      <th>max</th>\n",
       "      <td>23405.00000</td>\n",
       "      <td>480.000000</td>\n",
       "      <td>0.541667</td>\n",
       "      <td>1824.500000</td>\n",
       "    </tr>\n",
       "  </tbody>\n",
       "</table>\n",
       "</div>"
      ],
      "text/plain": [
       "       Entrez_Gene_Id      counts  Perc_Bi_Allelic      Density\n",
       "count         8.00000    8.000000         8.000000     8.000000\n",
       "mean       5913.25000   71.375000         0.443750  1527.862500\n",
       "std        7355.63323  166.122964         0.179878   280.582572\n",
       "min         207.00000    1.000000         0.000000  1035.300000\n",
       "25%        2617.00000    2.000000         0.500000  1320.200000\n",
       "50%        4369.00000    4.000000         0.500000  1602.750000\n",
       "75%        5399.50000   31.500000         0.502083  1751.150000\n",
       "max       23405.00000  480.000000         0.541667  1824.500000"
      ]
     },
     "execution_count": 59,
     "metadata": {},
     "output_type": "execute_result"
    }
   ],
   "source": [
    "cancer_feature_vector = pd.concat([cancer_feature_vector_training, cancer_feature_vector_validation])\n",
    "cancer_feature_vector.describe()"
   ]
  },
  {
   "cell_type": "code",
   "execution_count": 60,
   "metadata": {
    "scrolled": false
   },
   "outputs": [
    {
     "data": {
      "text/html": [
       "<div>\n",
       "<style scoped>\n",
       "    .dataframe tbody tr th:only-of-type {\n",
       "        vertical-align: middle;\n",
       "    }\n",
       "\n",
       "    .dataframe tbody tr th {\n",
       "        vertical-align: top;\n",
       "    }\n",
       "\n",
       "    .dataframe thead th {\n",
       "        text-align: right;\n",
       "    }\n",
       "</style>\n",
       "<table border=\"1\" class=\"dataframe\">\n",
       "  <thead>\n",
       "    <tr style=\"text-align: right;\">\n",
       "      <th></th>\n",
       "      <th>Entrez_Gene_Id</th>\n",
       "      <th>counts</th>\n",
       "      <th>Perc_Bi_Allelic</th>\n",
       "      <th>Density</th>\n",
       "    </tr>\n",
       "  </thead>\n",
       "  <tbody>\n",
       "    <tr>\n",
       "      <th>count</th>\n",
       "      <td>9.000000</td>\n",
       "      <td>9.000000</td>\n",
       "      <td>9.0</td>\n",
       "      <td>9.000000</td>\n",
       "    </tr>\n",
       "    <tr>\n",
       "      <th>mean</th>\n",
       "      <td>98423.777778</td>\n",
       "      <td>2.777778</td>\n",
       "      <td>1.0</td>\n",
       "      <td>249.322222</td>\n",
       "    </tr>\n",
       "    <tr>\n",
       "      <th>std</th>\n",
       "      <td>143824.453413</td>\n",
       "      <td>1.922094</td>\n",
       "      <td>0.0</td>\n",
       "      <td>367.367816</td>\n",
       "    </tr>\n",
       "    <tr>\n",
       "      <th>min</th>\n",
       "      <td>143.000000</td>\n",
       "      <td>1.000000</td>\n",
       "      <td>1.0</td>\n",
       "      <td>0.000000</td>\n",
       "    </tr>\n",
       "    <tr>\n",
       "      <th>25%</th>\n",
       "      <td>2312.000000</td>\n",
       "      <td>1.000000</td>\n",
       "      <td>1.0</td>\n",
       "      <td>1.500000</td>\n",
       "    </tr>\n",
       "    <tr>\n",
       "      <th>50%</th>\n",
       "      <td>5545.000000</td>\n",
       "      <td>3.000000</td>\n",
       "      <td>1.0</td>\n",
       "      <td>97.700000</td>\n",
       "    </tr>\n",
       "    <tr>\n",
       "      <th>75%</th>\n",
       "      <td>113146.000000</td>\n",
       "      <td>4.000000</td>\n",
       "      <td>1.0</td>\n",
       "      <td>212.700000</td>\n",
       "    </tr>\n",
       "    <tr>\n",
       "      <th>max</th>\n",
       "      <td>388646.000000</td>\n",
       "      <td>6.000000</td>\n",
       "      <td>1.0</td>\n",
       "      <td>1030.300000</td>\n",
       "    </tr>\n",
       "  </tbody>\n",
       "</table>\n",
       "</div>"
      ],
      "text/plain": [
       "       Entrez_Gene_Id    counts  Perc_Bi_Allelic      Density\n",
       "count        9.000000  9.000000              9.0     9.000000\n",
       "mean     98423.777778  2.777778              1.0   249.322222\n",
       "std     143824.453413  1.922094              0.0   367.367816\n",
       "min        143.000000  1.000000              1.0     0.000000\n",
       "25%       2312.000000  1.000000              1.0     1.500000\n",
       "50%       5545.000000  3.000000              1.0    97.700000\n",
       "75%     113146.000000  4.000000              1.0   212.700000\n",
       "max     388646.000000  6.000000              1.0  1030.300000"
      ]
     },
     "execution_count": 60,
     "metadata": {},
     "output_type": "execute_result"
    }
   ],
   "source": [
    "neutral_feature_vector = pd.concat([neutral_feature_vector_training, neutral_feature_vector_validation])\n",
    "neutral_feature_vector.describe()"
   ]
  },
  {
   "cell_type": "markdown",
   "metadata": {},
   "source": [
    "#### Density appears to be the big differentiator. Let's plot it to get a better idea."
   ]
  },
  {
   "cell_type": "code",
   "execution_count": 61,
   "metadata": {
    "scrolled": false
   },
   "outputs": [
    {
     "data": {
      "text/plain": [
       "<matplotlib.legend.Legend at 0x1a28bd1c10>"
      ]
     },
     "execution_count": 61,
     "metadata": {},
     "output_type": "execute_result"
    },
    {
     "data": {
      "image/png": "[encoded data removed]",
      "text/plain": [
       "<Figure size 432x288 with 1 Axes>"
      ]
     },
     "metadata": {},
     "output_type": "display_data"
    }
   ],
   "source": [
    "ax = cancer_feature_vector.Density.hist(density=True, alpha=0.5, color='b', label='Driver')\n",
    "neutral_feature_vector.Density.hist(density=True, alpha=0.5, ax=ax, color='g', label='Passenger')\n",
    "ax.set_xlabel(\"Density\")\n",
    "ax.set_ylabel(\"Frequency\")\n",
    "patches, labels = ax.get_legend_handles_labels()\n",
    "ax.legend(patches, labels, loc=9)"
   ]
  },
  {
   "cell_type": "markdown",
   "metadata": {},
   "source": [
    "# This is supposed to be bioinformatics, right? Where's the biology?"
   ]
  },
  {
   "cell_type": "markdown",
   "metadata": {},
   "source": [
    "#### Luckily, we can find out a little bit of information about some of our predicted genes."
   ]
  },
  {
   "cell_type": "code",
   "execution_count": 62,
   "metadata": {},
   "outputs": [
    {
     "data": {
      "text/html": [
       "<div>\n",
       "<style scoped>\n",
       "    .dataframe tbody tr th:only-of-type {\n",
       "        vertical-align: middle;\n",
       "    }\n",
       "\n",
       "    .dataframe tbody tr th {\n",
       "        vertical-align: top;\n",
       "    }\n",
       "\n",
       "    .dataframe thead th {\n",
       "        text-align: right;\n",
       "    }\n",
       "</style>\n",
       "<table border=\"1\" class=\"dataframe\">\n",
       "  <thead>\n",
       "    <tr style=\"text-align: right;\">\n",
       "      <th></th>\n",
       "      <th>Entrez_Gene_Id</th>\n",
       "      <th>counts</th>\n",
       "      <th>Perc_Bi_Allelic</th>\n",
       "      <th>Density</th>\n",
       "      <th>output</th>\n",
       "    </tr>\n",
       "  </thead>\n",
       "  <tbody>\n",
       "    <tr>\n",
       "      <th>1</th>\n",
       "      <td>324</td>\n",
       "      <td>194.0</td>\n",
       "      <td>1.0</td>\n",
       "      <td>982.3</td>\n",
       "      <td>0.0</td>\n",
       "    </tr>\n",
       "    <tr>\n",
       "      <th>2</th>\n",
       "      <td>94025</td>\n",
       "      <td>123.0</td>\n",
       "      <td>1.0</td>\n",
       "      <td>14.2</td>\n",
       "      <td>1.0</td>\n",
       "    </tr>\n",
       "    <tr>\n",
       "      <th>9</th>\n",
       "      <td>3845</td>\n",
       "      <td>56.0</td>\n",
       "      <td>1.0</td>\n",
       "      <td>1794.8</td>\n",
       "      <td>0.0</td>\n",
       "    </tr>\n",
       "    <tr>\n",
       "      <th>12</th>\n",
       "      <td>79776</td>\n",
       "      <td>46.0</td>\n",
       "      <td>1.0</td>\n",
       "      <td>143.2</td>\n",
       "      <td>0.0</td>\n",
       "    </tr>\n",
       "    <tr>\n",
       "      <th>16</th>\n",
       "      <td>23499</td>\n",
       "      <td>45.0</td>\n",
       "      <td>1.0</td>\n",
       "      <td>993.0</td>\n",
       "      <td>0.0</td>\n",
       "    </tr>\n",
       "  </tbody>\n",
       "</table>\n",
       "</div>"
      ],
      "text/plain": [
       "    Entrez_Gene_Id  counts  Perc_Bi_Allelic  Density  output\n",
       "1              324   194.0              1.0    982.3     0.0\n",
       "2            94025   123.0              1.0     14.2     1.0\n",
       "9             3845    56.0              1.0   1794.8     0.0\n",
       "12           79776    46.0              1.0    143.2     0.0\n",
       "16           23499    45.0              1.0    993.0     0.0"
      ]
     },
     "execution_count": 62,
     "metadata": {},
     "output_type": "execute_result"
    }
   ],
   "source": [
    "tcga_feature_vector['output'] = pd.Series(output)\n",
    "tcga_feature_vector.head()"
   ]
  },
  {
   "cell_type": "markdown",
   "metadata": {},
   "source": [
    "#### Let's isolate the genes that are predicted to drive cancer."
   ]
  },
  {
   "cell_type": "code",
   "execution_count": 63,
   "metadata": {},
   "outputs": [],
   "source": [
    "predicted_cancer_genes = list(tcga_feature_vector[tcga_feature_vector.output == 1].Entrez_Gene_Id)[:10]"
   ]
  },
  {
   "cell_type": "markdown",
   "metadata": {
    "collapsed": true
   },
   "source": [
    "#### We can query the NCBI entrez database directly from a python notebook to look at their functions."
   ]
  },
  {
   "cell_type": "markdown",
   "metadata": {},
   "source": [
    "##### Biopython: a library that does several useful bioinformaticsy things <br>\n",
    "As far as I know, it doesn't come in the Anaconda distribution, so you may need \"conda install -c anaconda biopython\""
   ]
  },
  {
   "cell_type": "code",
   "execution_count": 64,
   "metadata": {},
   "outputs": [],
   "source": [
    "from Bio import Entrez\n",
    "Entrez.email = \"ramarty@ucsd.edu\"\n",
    "summaries = {}\n",
    "for gene in predicted_cancer_genes:\n",
    "    handle = Entrez.esummary(db=\"gene\", id=int(gene), rettype=\"gb\", retmode=\"text\")\n",
    "    #soup = BeautifulSoup(handle.read(), 'xml')\n",
    "    record = Entrez.read(handle)\n",
    "    #summaries[gene] = [str(soup.find('NomenclatureSymbol').string), str(soup.find('Summary').string)]\n",
    "    break"
   ]
  },
  {
   "cell_type": "code",
   "execution_count": 65,
   "metadata": {},
   "outputs": [
    {
     "data": {
      "text/plain": [
       "'MUC16'"
      ]
     },
     "execution_count": 65,
     "metadata": {},
     "output_type": "execute_result"
    }
   ],
   "source": [
    "record[u'DocumentSummarySet'][u'DocumentSummary'][0][u'NomenclatureSymbol']"
   ]
  },
  {
   "cell_type": "code",
   "execution_count": 66,
   "metadata": {},
   "outputs": [
    {
     "data": {
      "text/plain": [
       "'This gene encodes a protein that is a member of the mucin family. Mucins are high molecular weight, O-glycosylated proteins that play an important role in forming a protective mucous barrier, and are found on the apical surfaces of the epithelia. The encoded protein is a membrane-tethered mucin that contains an extracellular domain at its amino terminus, a large tandem repeat domain, and a transmembrane domain with a short cytoplasmic domain. The amino terminus is highly glycosylated, while the repeat region contains 156 amino acid repeats unit that are rich in serines, threonines, and prolines. Interspersed within the repeats are Sea urchin sperm protein Enterokinase and Agrin (SEA) modules, leucine-rich repeats and ankyrin (ANK) repeats. These regions together form the ectodomain, and there is a potential cleavage site found near an SEA module close to the transmembrane domain. This protein is thought to play a role in forming a barrier, protecting epithelial cells from pathogens. Products of this gene have been used as a marker for different cancers, with higher expression levels associated with poorer outcomes. [provided by RefSeq, May 2017]'"
      ]
     },
     "execution_count": 66,
     "metadata": {},
     "output_type": "execute_result"
    }
   ],
   "source": [
    "record[u'DocumentSummarySet'][u'DocumentSummary'][0][u'Summary']"
   ]
  },
  {
   "cell_type": "markdown",
   "metadata": {},
   "source": [
    "### Also check out these useful libraries\n",
    "* cython - a python to C source code translator; could be used to speed up your code\n",
    "* Rpy2 - integrate your R code with python code\n",
    "* sqlite - interact with a sql database\n",
    "* scikit-bio - still in beta, but has promise\n",
    "* future - division, print"
   ]
  },
  {
   "cell_type": "code",
   "execution_count": null,
   "metadata": {
    "collapsed": true
   },
   "outputs": [],
   "source": []
  }
 ],
 "metadata": {
  "anaconda-cloud": {},
  "kernelspec": {
   "display_name": "Python 2",
   "language": "python",
   "name": "python2"
  },
  "language_info": {
   "codemirror_mode": {
    "name": "ipython",
    "version": 2
   },
   "file_extension": ".py",
   "mimetype": "text/x-python",
   "name": "python",
   "nbconvert_exporter": "python",
   "pygments_lexer": "ipython2",
   "version": "2.7.15"
  }
 },
 "nbformat": 4,
 "nbformat_minor": 1
}
